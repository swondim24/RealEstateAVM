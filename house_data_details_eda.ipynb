{
 "cells": [
  {
   "cell_type": "code",
   "execution_count": 8,
   "metadata": {},
   "outputs": [],
   "source": [
    "import pandas as pd\n",
    "from pandas_profiling import ProfileReport\n",
    "import numpy as np\n",
    "import matplotlib.pyplot as plt\n",
    "import seaborn as sns\n",
    "from feature_engine.categorical_encoders import RareLabelCategoricalEncoder, OneHotCategoricalEncoder\n",
    "from feature_engine import variable_transformers as vt\n",
    "%matplotlib inline\n",
    "\n",
    "import warnings\n",
    "warnings.filterwarnings('ignore')\n",
    "\n",
    "pd.set_option('display.max_columns', None)\n",
    "pd.options.display.float_format = '{:.5f}'.format"
   ]
  },
  {
   "cell_type": "code",
   "execution_count": 9,
   "metadata": {},
   "outputs": [],
   "source": [
    "raw_data = pd.read_csv('Data/house_data_details_cleaned.csv')\n",
    "df = raw_data.copy()"
   ]
  },
  {
   "cell_type": "code",
   "execution_count": 198,
   "metadata": {},
   "outputs": [],
   "source": [
    "#profile = ProfileReport(df, title='Pandas Profiling Report', explorative=True)\n",
    "#profile.to_file(\"RealEstateAVM_ProfileReport.html\")"
   ]
  },
  {
   "cell_type": "code",
   "execution_count": 199,
   "metadata": {
    "scrolled": false
   },
   "outputs": [
    {
     "data": {
      "text/html": [
       "<div>\n",
       "<style scoped>\n",
       "    .dataframe tbody tr th:only-of-type {\n",
       "        vertical-align: middle;\n",
       "    }\n",
       "\n",
       "    .dataframe tbody tr th {\n",
       "        vertical-align: top;\n",
       "    }\n",
       "\n",
       "    .dataframe thead th {\n",
       "        text-align: right;\n",
       "    }\n",
       "</style>\n",
       "<table border=\"1\" class=\"dataframe\">\n",
       "  <thead>\n",
       "    <tr style=\"text-align: right;\">\n",
       "      <th></th>\n",
       "      <th>latitude</th>\n",
       "      <th>longitude</th>\n",
       "      <th>address</th>\n",
       "      <th>property_type</th>\n",
       "      <th>home_size</th>\n",
       "      <th>lot_size</th>\n",
       "      <th>year_built</th>\n",
       "      <th>parcel_number</th>\n",
       "      <th>realtyID</th>\n",
       "      <th>county</th>\n",
       "      <th>subdivision</th>\n",
       "      <th>census</th>\n",
       "      <th>tract</th>\n",
       "      <th>lot</th>\n",
       "      <th>zoning</th>\n",
       "      <th>date</th>\n",
       "      <th>sale_price</th>\n",
       "      <th>estimated_value</th>\n",
       "      <th>sex_offenders</th>\n",
       "      <th>crime_index</th>\n",
       "      <th>enviornmental_hazards</th>\n",
       "      <th>natural_disasters</th>\n",
       "      <th>school quality</th>\n",
       "      <th>url</th>\n",
       "      <th>bedrooms</th>\n",
       "      <th>bathrooms</th>\n",
       "    </tr>\n",
       "  </thead>\n",
       "  <tbody>\n",
       "    <tr>\n",
       "      <th>0</th>\n",
       "      <td>33.97462</td>\n",
       "      <td>-118.13368</td>\n",
       "      <td>6224 Nye St</td>\n",
       "      <td>Condominium</td>\n",
       "      <td>1357.00000</td>\n",
       "      <td>22215.60000</td>\n",
       "      <td>1988.00000</td>\n",
       "      <td>6357012043</td>\n",
       "      <td>1111054477.00000</td>\n",
       "      <td>Los Angeles</td>\n",
       "      <td>45351</td>\n",
       "      <td>1.00000</td>\n",
       "      <td>532304.00000</td>\n",
       "      <td>1</td>\n",
       "      <td>CMR3</td>\n",
       "      <td>2020-09-28</td>\n",
       "      <td>469000.00000</td>\n",
       "      <td>439000.00000</td>\n",
       "      <td>7</td>\n",
       "      <td>High</td>\n",
       "      <td>15</td>\n",
       "      <td>1</td>\n",
       "      <td>Average</td>\n",
       "      <td>https://www.realtytrac.com/property/ca/commerc...</td>\n",
       "      <td>3.00000</td>\n",
       "      <td>3.00000</td>\n",
       "    </tr>\n",
       "    <tr>\n",
       "      <th>1</th>\n",
       "      <td>34.15656</td>\n",
       "      <td>-118.39689</td>\n",
       "      <td>4723 Laurel Canyon Blvd</td>\n",
       "      <td>Restaurant</td>\n",
       "      <td>2250.00000</td>\n",
       "      <td>9799.00000</td>\n",
       "      <td>1959.00000</td>\n",
       "      <td>2356037034</td>\n",
       "      <td>1111055289.00000</td>\n",
       "      <td>Los Angeles</td>\n",
       "      <td>7360</td>\n",
       "      <td>1.00000</td>\n",
       "      <td>143400.00000</td>\n",
       "      <td>10</td>\n",
       "      <td>LAC2</td>\n",
       "      <td>2020-09-28</td>\n",
       "      <td>1910000.00000</td>\n",
       "      <td>nan</td>\n",
       "      <td>5</td>\n",
       "      <td>NaN</td>\n",
       "      <td>6</td>\n",
       "      <td>1</td>\n",
       "      <td>Excellent</td>\n",
       "      <td>https://www.realtytrac.com/property/ca/valley-...</td>\n",
       "      <td>nan</td>\n",
       "      <td>nan</td>\n",
       "    </tr>\n",
       "    <tr>\n",
       "      <th>2</th>\n",
       "      <td>34.67778</td>\n",
       "      <td>-118.45117</td>\n",
       "      <td>18118 Elizabeth Lake Rd</td>\n",
       "      <td>Apartment house (5+ units)</td>\n",
       "      <td>1454.00000</td>\n",
       "      <td>13635.00000</td>\n",
       "      <td>1948.00000</td>\n",
       "      <td>3242015023</td>\n",
       "      <td>1111055911.00000</td>\n",
       "      <td>Los Angeles</td>\n",
       "      <td>NaN</td>\n",
       "      <td>2.00000</td>\n",
       "      <td>920102.00000</td>\n",
       "      <td>4</td>\n",
       "      <td>LCC4*</td>\n",
       "      <td>2020-09-28</td>\n",
       "      <td>325000.00000</td>\n",
       "      <td>nan</td>\n",
       "      <td>0</td>\n",
       "      <td>NaN</td>\n",
       "      <td>2</td>\n",
       "      <td>1</td>\n",
       "      <td>NaN</td>\n",
       "      <td>https://www.realtytrac.com/property/ca/lake-hu...</td>\n",
       "      <td>7.00000</td>\n",
       "      <td>6.00000</td>\n",
       "    </tr>\n",
       "    <tr>\n",
       "      <th>3</th>\n",
       "      <td>34.07296</td>\n",
       "      <td>-118.06690</td>\n",
       "      <td>9259 Ramona Blvd</td>\n",
       "      <td>Single Family Residence</td>\n",
       "      <td>1682.00000</td>\n",
       "      <td>7000.00000</td>\n",
       "      <td>1978.00000</td>\n",
       "      <td>8594027016</td>\n",
       "      <td>1111055994.00000</td>\n",
       "      <td>Los Angeles</td>\n",
       "      <td>ROSEMEAD</td>\n",
       "      <td>2.00000</td>\n",
       "      <td>432901.00000</td>\n",
       "      <td>6</td>\n",
       "      <td>RMPOD*</td>\n",
       "      <td>2020-09-28</td>\n",
       "      <td>738000.00000</td>\n",
       "      <td>752000.00000</td>\n",
       "      <td>3</td>\n",
       "      <td>Moderate</td>\n",
       "      <td>11</td>\n",
       "      <td>1</td>\n",
       "      <td>Excellent</td>\n",
       "      <td>https://www.realtytrac.com/property/ca/rosemea...</td>\n",
       "      <td>3.00000</td>\n",
       "      <td>2.00000</td>\n",
       "    </tr>\n",
       "    <tr>\n",
       "      <th>4</th>\n",
       "      <td>33.77772</td>\n",
       "      <td>-118.15491</td>\n",
       "      <td>825 Obispo Ave</td>\n",
       "      <td>Triplex (3 units, any combination)</td>\n",
       "      <td>1958.00000</td>\n",
       "      <td>6754.00000</td>\n",
       "      <td>1938.00000</td>\n",
       "      <td>7258013016</td>\n",
       "      <td>1111056010.00000</td>\n",
       "      <td>Los Angeles</td>\n",
       "      <td>1</td>\n",
       "      <td>2.00000</td>\n",
       "      <td>576904.00000</td>\n",
       "      <td>18</td>\n",
       "      <td>LBR2N</td>\n",
       "      <td>2020-09-28</td>\n",
       "      <td>1185000.00000</td>\n",
       "      <td>989000.00000</td>\n",
       "      <td>11</td>\n",
       "      <td>Slightly High</td>\n",
       "      <td>8</td>\n",
       "      <td>1</td>\n",
       "      <td>Average</td>\n",
       "      <td>https://www.realtytrac.com/property/ca/long-be...</td>\n",
       "      <td>4.00000</td>\n",
       "      <td>3.00000</td>\n",
       "    </tr>\n",
       "  </tbody>\n",
       "</table>\n",
       "</div>"
      ],
      "text/plain": [
       "   latitude  longitude                  address  \\\n",
       "0  33.97462 -118.13368              6224 Nye St   \n",
       "1  34.15656 -118.39689  4723 Laurel Canyon Blvd   \n",
       "2  34.67778 -118.45117  18118 Elizabeth Lake Rd   \n",
       "3  34.07296 -118.06690         9259 Ramona Blvd   \n",
       "4  33.77772 -118.15491           825 Obispo Ave   \n",
       "\n",
       "                        property_type  home_size    lot_size  year_built  \\\n",
       "0                         Condominium 1357.00000 22215.60000  1988.00000   \n",
       "1                          Restaurant 2250.00000  9799.00000  1959.00000   \n",
       "2          Apartment house (5+ units) 1454.00000 13635.00000  1948.00000   \n",
       "3             Single Family Residence 1682.00000  7000.00000  1978.00000   \n",
       "4  Triplex (3 units, any combination) 1958.00000  6754.00000  1938.00000   \n",
       "\n",
       "   parcel_number         realtyID       county subdivision  census  \\\n",
       "0     6357012043 1111054477.00000  Los Angeles       45351 1.00000   \n",
       "1     2356037034 1111055289.00000  Los Angeles        7360 1.00000   \n",
       "2     3242015023 1111055911.00000  Los Angeles         NaN 2.00000   \n",
       "3     8594027016 1111055994.00000  Los Angeles    ROSEMEAD 2.00000   \n",
       "4     7258013016 1111056010.00000  Los Angeles           1 2.00000   \n",
       "\n",
       "         tract lot  zoning        date    sale_price  estimated_value  \\\n",
       "0 532304.00000   1    CMR3  2020-09-28  469000.00000     439000.00000   \n",
       "1 143400.00000  10    LAC2  2020-09-28 1910000.00000              nan   \n",
       "2 920102.00000   4   LCC4*  2020-09-28  325000.00000              nan   \n",
       "3 432901.00000   6  RMPOD*  2020-09-28  738000.00000     752000.00000   \n",
       "4 576904.00000  18   LBR2N  2020-09-28 1185000.00000     989000.00000   \n",
       "\n",
       "   sex_offenders    crime_index  enviornmental_hazards  natural_disasters  \\\n",
       "0              7           High                     15                  1   \n",
       "1              5            NaN                      6                  1   \n",
       "2              0            NaN                      2                  1   \n",
       "3              3       Moderate                     11                  1   \n",
       "4             11  Slightly High                      8                  1   \n",
       "\n",
       "  school quality                                                url  bedrooms  \\\n",
       "0        Average  https://www.realtytrac.com/property/ca/commerc...   3.00000   \n",
       "1      Excellent  https://www.realtytrac.com/property/ca/valley-...       nan   \n",
       "2            NaN  https://www.realtytrac.com/property/ca/lake-hu...   7.00000   \n",
       "3      Excellent  https://www.realtytrac.com/property/ca/rosemea...   3.00000   \n",
       "4        Average  https://www.realtytrac.com/property/ca/long-be...   4.00000   \n",
       "\n",
       "   bathrooms  \n",
       "0    3.00000  \n",
       "1        nan  \n",
       "2    6.00000  \n",
       "3    2.00000  \n",
       "4    3.00000  "
      ]
     },
     "execution_count": 199,
     "metadata": {},
     "output_type": "execute_result"
    }
   ],
   "source": [
    "df.head()"
   ]
  },
  {
   "cell_type": "code",
   "execution_count": 200,
   "metadata": {},
   "outputs": [
    {
     "data": {
      "text/html": [
       "<div>\n",
       "<style scoped>\n",
       "    .dataframe tbody tr th:only-of-type {\n",
       "        vertical-align: middle;\n",
       "    }\n",
       "\n",
       "    .dataframe tbody tr th {\n",
       "        vertical-align: top;\n",
       "    }\n",
       "\n",
       "    .dataframe thead th {\n",
       "        text-align: right;\n",
       "    }\n",
       "</style>\n",
       "<table border=\"1\" class=\"dataframe\">\n",
       "  <thead>\n",
       "    <tr style=\"text-align: right;\">\n",
       "      <th></th>\n",
       "      <th>latitude</th>\n",
       "      <th>longitude</th>\n",
       "      <th>home_size</th>\n",
       "      <th>lot_size</th>\n",
       "      <th>year_built</th>\n",
       "      <th>parcel_number</th>\n",
       "      <th>realtyID</th>\n",
       "      <th>census</th>\n",
       "      <th>tract</th>\n",
       "      <th>sale_price</th>\n",
       "      <th>estimated_value</th>\n",
       "      <th>sex_offenders</th>\n",
       "      <th>enviornmental_hazards</th>\n",
       "      <th>natural_disasters</th>\n",
       "      <th>bedrooms</th>\n",
       "      <th>bathrooms</th>\n",
       "    </tr>\n",
       "  </thead>\n",
       "  <tbody>\n",
       "    <tr>\n",
       "      <th>count</th>\n",
       "      <td>6303.00000</td>\n",
       "      <td>6303.00000</td>\n",
       "      <td>6068.00000</td>\n",
       "      <td>6284.00000</td>\n",
       "      <td>6105.00000</td>\n",
       "      <td>6378.00000</td>\n",
       "      <td>6377.00000</td>\n",
       "      <td>6307.00000</td>\n",
       "      <td>6307.00000</td>\n",
       "      <td>6158.00000</td>\n",
       "      <td>5816.00000</td>\n",
       "      <td>6378.00000</td>\n",
       "      <td>6378.00000</td>\n",
       "      <td>6378.00000</td>\n",
       "      <td>5835.00000</td>\n",
       "      <td>5835.00000</td>\n",
       "    </tr>\n",
       "    <tr>\n",
       "      <th>mean</th>\n",
       "      <td>34.11095</td>\n",
       "      <td>-118.27010</td>\n",
       "      <td>2411.11239</td>\n",
       "      <td>42424.13440</td>\n",
       "      <td>1963.97674</td>\n",
       "      <td>5032195797.98322</td>\n",
       "      <td>1111176692.71084</td>\n",
       "      <td>2.02521</td>\n",
       "      <td>445313.17409</td>\n",
       "      <td>1106153.90224</td>\n",
       "      <td>883116.74691</td>\n",
       "      <td>7.53873</td>\n",
       "      <td>6.97727</td>\n",
       "      <td>1.20194</td>\n",
       "      <td>3.43925</td>\n",
       "      <td>2.68535</td>\n",
       "    </tr>\n",
       "    <tr>\n",
       "      <th>std</th>\n",
       "      <td>0.22482</td>\n",
       "      <td>0.21373</td>\n",
       "      <td>6256.05000</td>\n",
       "      <td>236622.96125</td>\n",
       "      <td>26.25626</td>\n",
       "      <td>2112498553.43211</td>\n",
       "      <td>246438.83776</td>\n",
       "      <td>1.12090</td>\n",
       "      <td>258664.78750</td>\n",
       "      <td>1971336.30139</td>\n",
       "      <td>522479.94599</td>\n",
       "      <td>13.14695</td>\n",
       "      <td>6.89617</td>\n",
       "      <td>0.43087</td>\n",
       "      <td>3.26813</td>\n",
       "      <td>3.09168</td>\n",
       "    </tr>\n",
       "    <tr>\n",
       "      <th>min</th>\n",
       "      <td>33.33958</td>\n",
       "      <td>-118.88275</td>\n",
       "      <td>3.00000</td>\n",
       "      <td>283.00000</td>\n",
       "      <td>1883.00000</td>\n",
       "      <td>2004009012.00000</td>\n",
       "      <td>1110722482.00000</td>\n",
       "      <td>1.00000</td>\n",
       "      <td>0.00000</td>\n",
       "      <td>500.00000</td>\n",
       "      <td>104000.00000</td>\n",
       "      <td>0.00000</td>\n",
       "      <td>1.00000</td>\n",
       "      <td>0.00000</td>\n",
       "      <td>1.00000</td>\n",
       "      <td>1.00000</td>\n",
       "    </tr>\n",
       "    <tr>\n",
       "      <th>25%</th>\n",
       "      <td>33.96968</td>\n",
       "      <td>-118.42598</td>\n",
       "      <td>1230.00000</td>\n",
       "      <td>6006.75000</td>\n",
       "      <td>1948.00000</td>\n",
       "      <td>3004006266.50000</td>\n",
       "      <td>1110958043.00000</td>\n",
       "      <td>1.00000</td>\n",
       "      <td>215500.50000</td>\n",
       "      <td>499000.00000</td>\n",
       "      <td>544975.00000</td>\n",
       "      <td>1.00000</td>\n",
       "      <td>3.00000</td>\n",
       "      <td>1.00000</td>\n",
       "      <td>2.00000</td>\n",
       "      <td>2.00000</td>\n",
       "    </tr>\n",
       "    <tr>\n",
       "      <th>50%</th>\n",
       "      <td>34.08769</td>\n",
       "      <td>-118.29211</td>\n",
       "      <td>1625.00000</td>\n",
       "      <td>7653.50000</td>\n",
       "      <td>1961.00000</td>\n",
       "      <td>5082013518.00000</td>\n",
       "      <td>1111202901.00000</td>\n",
       "      <td>2.00000</td>\n",
       "      <td>408703.00000</td>\n",
       "      <td>705500.00000</td>\n",
       "      <td>712000.00000</td>\n",
       "      <td>4.00000</td>\n",
       "      <td>5.00000</td>\n",
       "      <td>1.00000</td>\n",
       "      <td>3.00000</td>\n",
       "      <td>2.00000</td>\n",
       "    </tr>\n",
       "    <tr>\n",
       "      <th>75%</th>\n",
       "      <td>34.18876</td>\n",
       "      <td>-118.12894</td>\n",
       "      <td>2302.00000</td>\n",
       "      <td>17284.50000</td>\n",
       "      <td>1984.00000</td>\n",
       "      <td>7138026760.25000</td>\n",
       "      <td>1111392666.00000</td>\n",
       "      <td>3.00000</td>\n",
       "      <td>601851.00000</td>\n",
       "      <td>1114375.00000</td>\n",
       "      <td>1050000.00000</td>\n",
       "      <td>9.00000</td>\n",
       "      <td>8.00000</td>\n",
       "      <td>1.00000</td>\n",
       "      <td>4.00000</td>\n",
       "      <td>3.00000</td>\n",
       "    </tr>\n",
       "    <tr>\n",
       "      <th>max</th>\n",
       "      <td>34.81875</td>\n",
       "      <td>-117.61020</td>\n",
       "      <td>295336.80000</td>\n",
       "      <td>12486474.00000</td>\n",
       "      <td>2020.00000</td>\n",
       "      <td>8765016012.00000</td>\n",
       "      <td>1111598375.00000</td>\n",
       "      <td>8.00000</td>\n",
       "      <td>980008.00000</td>\n",
       "      <td>75454545.00000</td>\n",
       "      <td>2998000.00000</td>\n",
       "      <td>135.00000</td>\n",
       "      <td>91.00000</td>\n",
       "      <td>3.00000</td>\n",
       "      <td>96.00000</td>\n",
       "      <td>99.00000</td>\n",
       "    </tr>\n",
       "  </tbody>\n",
       "</table>\n",
       "</div>"
      ],
      "text/plain": [
       "        latitude  longitude    home_size       lot_size  year_built  \\\n",
       "count 6303.00000 6303.00000   6068.00000     6284.00000  6105.00000   \n",
       "mean    34.11095 -118.27010   2411.11239    42424.13440  1963.97674   \n",
       "std      0.22482    0.21373   6256.05000   236622.96125    26.25626   \n",
       "min     33.33958 -118.88275      3.00000      283.00000  1883.00000   \n",
       "25%     33.96968 -118.42598   1230.00000     6006.75000  1948.00000   \n",
       "50%     34.08769 -118.29211   1625.00000     7653.50000  1961.00000   \n",
       "75%     34.18876 -118.12894   2302.00000    17284.50000  1984.00000   \n",
       "max     34.81875 -117.61020 295336.80000 12486474.00000  2020.00000   \n",
       "\n",
       "         parcel_number         realtyID     census        tract  \\\n",
       "count       6378.00000       6377.00000 6307.00000   6307.00000   \n",
       "mean  5032195797.98322 1111176692.71084    2.02521 445313.17409   \n",
       "std   2112498553.43211     246438.83776    1.12090 258664.78750   \n",
       "min   2004009012.00000 1110722482.00000    1.00000      0.00000   \n",
       "25%   3004006266.50000 1110958043.00000    1.00000 215500.50000   \n",
       "50%   5082013518.00000 1111202901.00000    2.00000 408703.00000   \n",
       "75%   7138026760.25000 1111392666.00000    3.00000 601851.00000   \n",
       "max   8765016012.00000 1111598375.00000    8.00000 980008.00000   \n",
       "\n",
       "          sale_price  estimated_value  sex_offenders  enviornmental_hazards  \\\n",
       "count     6158.00000       5816.00000     6378.00000             6378.00000   \n",
       "mean   1106153.90224     883116.74691        7.53873                6.97727   \n",
       "std    1971336.30139     522479.94599       13.14695                6.89617   \n",
       "min        500.00000     104000.00000        0.00000                1.00000   \n",
       "25%     499000.00000     544975.00000        1.00000                3.00000   \n",
       "50%     705500.00000     712000.00000        4.00000                5.00000   \n",
       "75%    1114375.00000    1050000.00000        9.00000                8.00000   \n",
       "max   75454545.00000    2998000.00000      135.00000               91.00000   \n",
       "\n",
       "       natural_disasters   bedrooms  bathrooms  \n",
       "count         6378.00000 5835.00000 5835.00000  \n",
       "mean             1.20194    3.43925    2.68535  \n",
       "std              0.43087    3.26813    3.09168  \n",
       "min              0.00000    1.00000    1.00000  \n",
       "25%              1.00000    2.00000    2.00000  \n",
       "50%              1.00000    3.00000    2.00000  \n",
       "75%              1.00000    4.00000    3.00000  \n",
       "max              3.00000   96.00000   99.00000  "
      ]
     },
     "execution_count": 200,
     "metadata": {},
     "output_type": "execute_result"
    }
   ],
   "source": [
    "df.describe()"
   ]
  },
  {
   "cell_type": "code",
   "execution_count": 201,
   "metadata": {},
   "outputs": [
    {
     "name": "stdout",
     "output_type": "stream",
     "text": [
      "<class 'pandas.core.frame.DataFrame'>\n",
      "RangeIndex: 6378 entries, 0 to 6377\n",
      "Data columns (total 26 columns):\n",
      " #   Column                 Non-Null Count  Dtype  \n",
      "---  ------                 --------------  -----  \n",
      " 0   latitude               6303 non-null   float64\n",
      " 1   longitude              6303 non-null   float64\n",
      " 2   address                6367 non-null   object \n",
      " 3   property_type          6378 non-null   object \n",
      " 4   home_size              6068 non-null   float64\n",
      " 5   lot_size               6284 non-null   float64\n",
      " 6   year_built             6105 non-null   float64\n",
      " 7   parcel_number          6378 non-null   int64  \n",
      " 8   realtyID               6377 non-null   float64\n",
      " 9   county                 6378 non-null   object \n",
      " 10  subdivision            5885 non-null   object \n",
      " 11  census                 6307 non-null   float64\n",
      " 12  tract                  6307 non-null   float64\n",
      " 13  lot                    5970 non-null   object \n",
      " 14  zoning                 6378 non-null   object \n",
      " 15  date                   6354 non-null   object \n",
      " 16  sale_price             6158 non-null   float64\n",
      " 17  estimated_value        5816 non-null   float64\n",
      " 18  sex_offenders          6378 non-null   int64  \n",
      " 19  crime_index            5478 non-null   object \n",
      " 20  enviornmental_hazards  6378 non-null   int64  \n",
      " 21  natural_disasters      6378 non-null   int64  \n",
      " 22  school quality         6286 non-null   object \n",
      " 23  url                    6378 non-null   object \n",
      " 24  bedrooms               5835 non-null   float64\n",
      " 25  bathrooms              5835 non-null   float64\n",
      "dtypes: float64(12), int64(4), object(10)\n",
      "memory usage: 1.3+ MB\n"
     ]
    }
   ],
   "source": [
    "df.info()"
   ]
  },
  {
   "cell_type": "code",
   "execution_count": 10,
   "metadata": {},
   "outputs": [
    {
     "name": "stdout",
     "output_type": "stream",
     "text": [
      "Number of observations before removing missing values: 6378\n",
      "Number of observations after removing missing values: 4263\n"
     ]
    }
   ],
   "source": [
    "#Remove missing values for the target feature\n",
    "df.dropna(inplace=True)\n",
    "print(f'Number of observations before removing missing values: {raw_data.shape[0]}')\n",
    "print(f'Number of observations after removing missing values: {df.shape[0]}')"
   ]
  },
  {
   "cell_type": "code",
   "execution_count": 11,
   "metadata": {},
   "outputs": [
    {
     "data": {
      "text/plain": [
       "0      2069-09-19\n",
       "1      2069-07-01\n",
       "2      2069-04-23\n",
       "3      2069-01-22\n",
       "4      2067-12-13\n",
       "          ...    \n",
       "4258   1970-11-23\n",
       "4259   1970-10-06\n",
       "4260   1970-09-22\n",
       "4261   1970-08-14\n",
       "4262   1970-02-10\n",
       "Name: date, Length: 4263, dtype: datetime64[ns]"
      ]
     },
     "execution_count": 11,
     "metadata": {},
     "output_type": "execute_result"
    }
   ],
   "source": [
    "#Convert date into a datetime object\n",
    "df['date'] = pd.to_datetime(df['date'])\n",
    "df.sort_values(by='date', ascending=False, inplace=True, ignore_index=True)\n",
    "df['date']"
   ]
  },
  {
   "cell_type": "code",
   "execution_count": 12,
   "metadata": {
    "scrolled": false
   },
   "outputs": [
    {
     "data": {
      "text/plain": [
       "0      2020-10-09\n",
       "1      2020-10-09\n",
       "2      2020-10-09\n",
       "3      2020-10-09\n",
       "4      2020-10-09\n",
       "          ...    \n",
       "4258   1967-12-13\n",
       "4259   1966-11-29\n",
       "4260   1965-01-11\n",
       "4261   1964-12-18\n",
       "4262   1964-07-02\n",
       "Name: date, Length: 4263, dtype: datetime64[ns]"
      ]
     },
     "execution_count": 12,
     "metadata": {},
     "output_type": "execute_result"
    }
   ],
   "source": [
    "#Correct the dates\n",
    "df['date'] = df['date'].apply(lambda x: x.replace(year= x.year-100) if x.year>2020 else x)\n",
    "df.sort_values(by='date', ascending=False, inplace=True, ignore_index=True)\n",
    "df['date']"
   ]
  },
  {
   "cell_type": "code",
   "execution_count": 13,
   "metadata": {},
   "outputs": [
    {
     "data": {
      "text/html": [
       "<div>\n",
       "<style scoped>\n",
       "    .dataframe tbody tr th:only-of-type {\n",
       "        vertical-align: middle;\n",
       "    }\n",
       "\n",
       "    .dataframe tbody tr th {\n",
       "        vertical-align: top;\n",
       "    }\n",
       "\n",
       "    .dataframe thead th {\n",
       "        text-align: right;\n",
       "    }\n",
       "</style>\n",
       "<table border=\"1\" class=\"dataframe\">\n",
       "  <thead>\n",
       "    <tr style=\"text-align: right;\">\n",
       "      <th></th>\n",
       "      <th>latitude</th>\n",
       "      <th>longitude</th>\n",
       "      <th>address</th>\n",
       "      <th>property_type</th>\n",
       "      <th>home_size</th>\n",
       "      <th>lot_size</th>\n",
       "      <th>year_built</th>\n",
       "      <th>parcel_number</th>\n",
       "      <th>realtyID</th>\n",
       "      <th>county</th>\n",
       "      <th>subdivision</th>\n",
       "      <th>census</th>\n",
       "      <th>tract</th>\n",
       "      <th>lot</th>\n",
       "      <th>zoning</th>\n",
       "      <th>date</th>\n",
       "      <th>sale_price</th>\n",
       "      <th>estimated_value</th>\n",
       "      <th>sex_offenders</th>\n",
       "      <th>crime_index</th>\n",
       "      <th>enviornmental_hazards</th>\n",
       "      <th>natural_disasters</th>\n",
       "      <th>school quality</th>\n",
       "      <th>url</th>\n",
       "      <th>bedrooms</th>\n",
       "      <th>bathrooms</th>\n",
       "      <th>observation_date</th>\n",
       "      <th>cpi</th>\n",
       "    </tr>\n",
       "  </thead>\n",
       "  <tbody>\n",
       "    <tr>\n",
       "      <th>0</th>\n",
       "      <td>34.41838</td>\n",
       "      <td>-118.44562</td>\n",
       "      <td>17902 Stillmore St</td>\n",
       "      <td>Single Family Residence</td>\n",
       "      <td>1196.00000</td>\n",
       "      <td>7867.00000</td>\n",
       "      <td>1961.00000</td>\n",
       "      <td>2844008001</td>\n",
       "      <td>1111559154.00000</td>\n",
       "      <td>Los Angeles</td>\n",
       "      <td>25916</td>\n",
       "      <td>1.00000</td>\n",
       "      <td>920039.00000</td>\n",
       "      <td>6</td>\n",
       "      <td>SCUR2</td>\n",
       "      <td>2020-10-09</td>\n",
       "      <td>417000.00000</td>\n",
       "      <td>568700.00000</td>\n",
       "      <td>1</td>\n",
       "      <td>Low</td>\n",
       "      <td>6</td>\n",
       "      <td>1</td>\n",
       "      <td>Excellent</td>\n",
       "      <td>https://www.realtytrac.com/property/ca/santa-c...</td>\n",
       "      <td>3.00000</td>\n",
       "      <td>2.00000</td>\n",
       "      <td>2020-10-01</td>\n",
       "      <td>260.28000</td>\n",
       "    </tr>\n",
       "    <tr>\n",
       "      <th>2</th>\n",
       "      <td>34.17455</td>\n",
       "      <td>-118.34000</td>\n",
       "      <td>2805 W Chandler Blvd</td>\n",
       "      <td>Single Family Residence</td>\n",
       "      <td>950.00000</td>\n",
       "      <td>2750.00000</td>\n",
       "      <td>1954.00000</td>\n",
       "      <td>2478008002</td>\n",
       "      <td>1111549760.00000</td>\n",
       "      <td>Los Angeles</td>\n",
       "      <td>9852</td>\n",
       "      <td>2.00000</td>\n",
       "      <td>311300.00000</td>\n",
       "      <td>52</td>\n",
       "      <td>BUR1*</td>\n",
       "      <td>2020-10-09</td>\n",
       "      <td>770000.00000</td>\n",
       "      <td>684100.00000</td>\n",
       "      <td>4</td>\n",
       "      <td>Low</td>\n",
       "      <td>5</td>\n",
       "      <td>1</td>\n",
       "      <td>Above Average</td>\n",
       "      <td>https://www.realtytrac.com/property/ca/burbank...</td>\n",
       "      <td>2.00000</td>\n",
       "      <td>1.00000</td>\n",
       "      <td>2020-10-01</td>\n",
       "      <td>260.28000</td>\n",
       "    </tr>\n",
       "    <tr>\n",
       "      <th>4</th>\n",
       "      <td>33.81235</td>\n",
       "      <td>-118.38114</td>\n",
       "      <td>280 Via Linda Vis</td>\n",
       "      <td>Single Family Residence</td>\n",
       "      <td>2029.00000</td>\n",
       "      <td>7007.00000</td>\n",
       "      <td>1948.00000</td>\n",
       "      <td>7514018019</td>\n",
       "      <td>1111567119.00000</td>\n",
       "      <td>Los Angeles</td>\n",
       "      <td>10302</td>\n",
       "      <td>4.00000</td>\n",
       "      <td>651304.00000</td>\n",
       "      <td>19</td>\n",
       "      <td>TORR-LO</td>\n",
       "      <td>2020-10-09</td>\n",
       "      <td>1250000.00000</td>\n",
       "      <td>1437000.00000</td>\n",
       "      <td>3</td>\n",
       "      <td>Low</td>\n",
       "      <td>3</td>\n",
       "      <td>2</td>\n",
       "      <td>Excellent</td>\n",
       "      <td>https://www.realtytrac.com/property/ca/redondo...</td>\n",
       "      <td>2.00000</td>\n",
       "      <td>2.00000</td>\n",
       "      <td>2020-10-01</td>\n",
       "      <td>260.28000</td>\n",
       "    </tr>\n",
       "    <tr>\n",
       "      <th>6</th>\n",
       "      <td>33.99928</td>\n",
       "      <td>-117.99154</td>\n",
       "      <td>14852 Edgeridge Dr</td>\n",
       "      <td>Single Family Residence</td>\n",
       "      <td>3046.00000</td>\n",
       "      <td>51836.40000</td>\n",
       "      <td>1949.00000</td>\n",
       "      <td>8221018031</td>\n",
       "      <td>1111565735.00000</td>\n",
       "      <td>Los Angeles</td>\n",
       "      <td>2610</td>\n",
       "      <td>2.00000</td>\n",
       "      <td>408402.00000</td>\n",
       "      <td>13</td>\n",
       "      <td>LCA110000*</td>\n",
       "      <td>2020-10-09</td>\n",
       "      <td>1225000.00000</td>\n",
       "      <td>1061000.00000</td>\n",
       "      <td>0</td>\n",
       "      <td>Moderate</td>\n",
       "      <td>2</td>\n",
       "      <td>1</td>\n",
       "      <td>Above Average</td>\n",
       "      <td>https://www.realtytrac.com/property/ca/haciend...</td>\n",
       "      <td>3.00000</td>\n",
       "      <td>2.00000</td>\n",
       "      <td>2020-10-01</td>\n",
       "      <td>260.28000</td>\n",
       "    </tr>\n",
       "    <tr>\n",
       "      <th>8</th>\n",
       "      <td>34.07099</td>\n",
       "      <td>-117.99388</td>\n",
       "      <td>12844 Waltham St</td>\n",
       "      <td>Single Family Residence</td>\n",
       "      <td>1080.00000</td>\n",
       "      <td>12251.00000</td>\n",
       "      <td>1947.00000</td>\n",
       "      <td>8556005010</td>\n",
       "      <td>1111564332.00000</td>\n",
       "      <td>Los Angeles</td>\n",
       "      <td>10104</td>\n",
       "      <td>3.00000</td>\n",
       "      <td>404701.00000</td>\n",
       "      <td>283</td>\n",
       "      <td>BPR1*</td>\n",
       "      <td>2020-10-09</td>\n",
       "      <td>480000.00000</td>\n",
       "      <td>558900.00000</td>\n",
       "      <td>4</td>\n",
       "      <td>Moderate</td>\n",
       "      <td>3</td>\n",
       "      <td>1</td>\n",
       "      <td>Average</td>\n",
       "      <td>https://www.realtytrac.com/property/ca/baldwin...</td>\n",
       "      <td>3.00000</td>\n",
       "      <td>1.00000</td>\n",
       "      <td>2020-10-01</td>\n",
       "      <td>260.28000</td>\n",
       "    </tr>\n",
       "  </tbody>\n",
       "</table>\n",
       "</div>"
      ],
      "text/plain": [
       "   latitude  longitude               address            property_type  \\\n",
       "0  34.41838 -118.44562    17902 Stillmore St  Single Family Residence   \n",
       "2  34.17455 -118.34000  2805 W Chandler Blvd  Single Family Residence   \n",
       "4  33.81235 -118.38114     280 Via Linda Vis  Single Family Residence   \n",
       "6  33.99928 -117.99154    14852 Edgeridge Dr  Single Family Residence   \n",
       "8  34.07099 -117.99388      12844 Waltham St  Single Family Residence   \n",
       "\n",
       "   home_size    lot_size  year_built  parcel_number         realtyID  \\\n",
       "0 1196.00000  7867.00000  1961.00000     2844008001 1111559154.00000   \n",
       "2  950.00000  2750.00000  1954.00000     2478008002 1111549760.00000   \n",
       "4 2029.00000  7007.00000  1948.00000     7514018019 1111567119.00000   \n",
       "6 3046.00000 51836.40000  1949.00000     8221018031 1111565735.00000   \n",
       "8 1080.00000 12251.00000  1947.00000     8556005010 1111564332.00000   \n",
       "\n",
       "        county subdivision  census        tract  lot      zoning       date  \\\n",
       "0  Los Angeles       25916 1.00000 920039.00000    6       SCUR2 2020-10-09   \n",
       "2  Los Angeles        9852 2.00000 311300.00000   52       BUR1* 2020-10-09   \n",
       "4  Los Angeles       10302 4.00000 651304.00000   19     TORR-LO 2020-10-09   \n",
       "6  Los Angeles        2610 2.00000 408402.00000   13  LCA110000* 2020-10-09   \n",
       "8  Los Angeles       10104 3.00000 404701.00000  283       BPR1* 2020-10-09   \n",
       "\n",
       "     sale_price  estimated_value  sex_offenders crime_index  \\\n",
       "0  417000.00000     568700.00000              1         Low   \n",
       "2  770000.00000     684100.00000              4         Low   \n",
       "4 1250000.00000    1437000.00000              3         Low   \n",
       "6 1225000.00000    1061000.00000              0    Moderate   \n",
       "8  480000.00000     558900.00000              4    Moderate   \n",
       "\n",
       "   enviornmental_hazards  natural_disasters school quality  \\\n",
       "0                      6                  1      Excellent   \n",
       "2                      5                  1  Above Average   \n",
       "4                      3                  2      Excellent   \n",
       "6                      2                  1  Above Average   \n",
       "8                      3                  1        Average   \n",
       "\n",
       "                                                 url  bedrooms  bathrooms  \\\n",
       "0  https://www.realtytrac.com/property/ca/santa-c...   3.00000    2.00000   \n",
       "2  https://www.realtytrac.com/property/ca/burbank...   2.00000    1.00000   \n",
       "4  https://www.realtytrac.com/property/ca/redondo...   2.00000    2.00000   \n",
       "6  https://www.realtytrac.com/property/ca/haciend...   3.00000    2.00000   \n",
       "8  https://www.realtytrac.com/property/ca/baldwin...   3.00000    1.00000   \n",
       "\n",
       "  observation_date       cpi  \n",
       "0       2020-10-01 260.28000  \n",
       "2       2020-10-01 260.28000  \n",
       "4       2020-10-01 260.28000  \n",
       "6       2020-10-01 260.28000  \n",
       "8       2020-10-01 260.28000  "
      ]
     },
     "execution_count": 13,
     "metadata": {},
     "output_type": "execute_result"
    }
   ],
   "source": [
    "#We need to adjust the prices based on inflation\n",
    "#Add a new column that will be used for the merge\n",
    "df['observation_date'] = df['date'].values.astype('datetime64[M]')\n",
    "\n",
    "#Read in a file with consumer price index\n",
    "cpi_df = pd.read_csv('CPIAUCNS.csv')\n",
    "cpi_df['observation_date'] = pd.to_datetime(cpi_df['observation_date'])\n",
    "cpi_df.sort_values(by='observation_date', ascending=False, inplace=True, ignore_index=True)\n",
    "cpi_df['observation_date'] = cpi_df['observation_date'].apply(lambda x: x.replace(year= x.year-100) if x.year>2020 else x)\n",
    "cpi_df.sort_values(by='observation_date', ascending=False, inplace=True, ignore_index=True)\n",
    "\n",
    "df = pd.merge(df, cpi_df, on='observation_date', how='left')\n",
    "df.drop_duplicates(subset=['address'], inplace=True)\n",
    "df.rename(columns={'CPIAUCNS':'cpi'}, inplace=True)\n",
    "df[:5]"
   ]
  },
  {
   "cell_type": "code",
   "execution_count": 14,
   "metadata": {},
   "outputs": [],
   "source": [
    "df['cpi_multiplier'] = df['cpi'].iloc[0] / df['cpi']\n",
    "df['sale_price'] = df['cpi_multiplier'] * df['sale_price']"
   ]
  },
  {
   "cell_type": "code",
   "execution_count": 85,
   "metadata": {
    "scrolled": false
   },
   "outputs": [
    {
     "data": {
      "text/plain": [
       "0       2020-10\n",
       "1       2020-10\n",
       "2       2020-10\n",
       "3       2020-10\n",
       "4       2020-10\n",
       "         ...   \n",
       "4258    1967-12\n",
       "4259    1966-11\n",
       "4260    1965-01\n",
       "4261    1964-12\n",
       "4262    1964-07\n",
       "Name: month, Length: 4263, dtype: period[M]"
      ]
     },
     "execution_count": 85,
     "metadata": {},
     "output_type": "execute_result"
    }
   ],
   "source": [
    "#Add a month and year column\n",
    "df['month'] = df['date'].dt.to_period('M')\n",
    "df['month']"
   ]
  },
  {
   "cell_type": "code",
   "execution_count": 86,
   "metadata": {},
   "outputs": [
    {
     "data": {
      "text/plain": [
       "0       2020\n",
       "1       2020\n",
       "2       2020\n",
       "3       2020\n",
       "4       2020\n",
       "        ... \n",
       "4258    1967\n",
       "4259    1966\n",
       "4260    1965\n",
       "4261    1964\n",
       "4262    1964\n",
       "Name: year, Length: 4263, dtype: period[A-DEC]"
      ]
     },
     "execution_count": 86,
     "metadata": {},
     "output_type": "execute_result"
    }
   ],
   "source": [
    "#Add just a year column\n",
    "df['year'] = df['date'].dt.to_period('Y')\n",
    "df['year']"
   ]
  },
  {
   "cell_type": "code",
   "execution_count": 15,
   "metadata": {
    "scrolled": true
   },
   "outputs": [
    {
     "data": {
      "image/png": "[encoded data removed]",
      "text/plain": [
       "<Figure size 360x360 with 1 Axes>"
      ]
     },
     "metadata": {
      "needs_background": "light"
     },
     "output_type": "display_data"
    }
   ],
   "source": [
    "chart = sns.displot(df['sale_price'], bins=100)\n",
    "plt.title('Sale Price')\n",
    "plt.ticklabel_format(style='plain', axis='x')\n",
    "chart.set(xticklabels=df['sale_price'])\n",
    "chart.set_xticklabels(rotation=45);"
   ]
  },
  {
   "cell_type": "code",
   "execution_count": 16,
   "metadata": {},
   "outputs": [
    {
     "name": "stdout",
     "output_type": "stream",
     "text": [
      "The sale price upper boundary is 23313750.0\n",
      "Number of observations before removing outliers: 4259\n",
      "Number of observations after removing outliers: 4010\n"
     ]
    }
   ],
   "source": [
    "#This function will identify the outlier boundaries for a variable\n",
    "\n",
    "def find_skewed_boundaries(df, var, distance):\n",
    "    \n",
    "    IQR = df['sale_price'].quantile(.75) - df['sale_price'].quantile(.25)\n",
    "    \n",
    "    lower_boundary = df['sale_price'].quantile(.25) - (distance*IQR)\n",
    "    upper_boundary = df['sale_price'].quantile(.75) + (distance*IQR)\n",
    "    \n",
    "    return upper_boundary, lower_boundary\n",
    "\n",
    "\n",
    "sales_upper_boundary, sales_lower_boundary = find_skewed_boundaries(df, 'sale_price', 1.5)\n",
    "print(f'The sale price upper boundary is {sales_upper_boundary}')\n",
    "\n",
    "df_trimmed = df.loc[df['sale_price']<sales_upper_boundary,:]\n",
    "print(f'Number of observations before removing outliers: {df.shape[0]}')\n",
    "print(f'Number of observations after removing outliers: {df_trimmed.shape[0]}')"
   ]
  },
  {
   "cell_type": "code",
   "execution_count": 17,
   "metadata": {
    "scrolled": true
   },
   "outputs": [
    {
     "data": {
      "image/png": "[encoded data removed]",
      "text/plain": [
       "<Figure size 360x360 with 1 Axes>"
      ]
     },
     "metadata": {
      "needs_background": "light"
     },
     "output_type": "display_data"
    }
   ],
   "source": [
    "chart = sns.displot(df_trimmed['sale_price'], bins=100)\n",
    "plt.title('Sale Price with outliers removed')\n",
    "plt.ticklabel_format(style='plain', axis='x')\n",
    "chart.set(xticklabels=df_trimmed['sale_price'])\n",
    "chart.set_xticklabels(rotation=45);"
   ]
  },
  {
   "cell_type": "markdown",
   "metadata": {},
   "source": [
    "### Variable Transformers"
   ]
  },
  {
   "cell_type": "code",
   "execution_count": 41,
   "metadata": {},
   "outputs": [],
   "source": [
    "#Log Transformer\n",
    "lt = vt.LogTransformer(variables = ['sale_price'])\n",
    "lt.fit(df_trimmed)\n",
    "\n",
    "temp = lt.transform(df_trimmed)\n",
    "\n",
    "#Recirprocal Transformer\n",
    "rt = vt.ReciprocalTransformer(variables = ['sale_price'])\n",
    "rt.fit(df_trimmed)\n",
    "\n",
    "temp = rt.transform(df_trimmed)\n",
    "\n",
    "#Power Transformer\n",
    "et = vt.PowerTransformer(variables = ['sale_price'])\n",
    "et.fit(df_trimmed)\n",
    "\n",
    "temp = et.transform(df_trimmed)\n",
    "\n",
    "#Box Cox Transformer\n",
    "bct = vt.BoxCoxTransformer(variables = ['sale_price'])\n",
    "bct.fit(df_trimmed)\n",
    "\n",
    "temp = bct.transform(df_trimmed)\n",
    "\n",
    "#Yeo Johnson Transformer\n",
    "yjt = vt.YeoJohnsonTransformer(variables = ['sale_price'])\n",
    "yjt.fit(df_trimmed)\n",
    "\n",
    "temp = bct.transform(df_trimmed)"
   ]
  },
  {
   "cell_type": "code",
   "execution_count": 230,
   "metadata": {},
   "outputs": [
    {
     "name": "stdout",
     "output_type": "stream",
     "text": [
      "Number of observations before removing outliers: 4010\n",
      "Number of observations after removing outliers: 4006\n"
     ]
    }
   ],
   "source": [
    "#Remove any houses in Catalina Island as they can be considered outliers\n",
    "print(f'Number of observations before removing outliers: {df_trimmed.shape[0]}')\n",
    "df_trimmed = df_trimmed.loc[df['latitude']>33.6,:]\n",
    "print(f'Number of observations after removing outliers: {df_trimmed.shape[0]}')"
   ]
  },
  {
   "cell_type": "code",
   "execution_count": 231,
   "metadata": {
    "scrolled": true
   },
   "outputs": [
    {
     "name": "stdout",
     "output_type": "stream",
     "text": [
      "Number of categories for property_type: 11\n"
     ]
    },
    {
     "data": {
      "text/html": [
       "<div>\n",
       "<style scoped>\n",
       "    .dataframe tbody tr th:only-of-type {\n",
       "        vertical-align: middle;\n",
       "    }\n",
       "\n",
       "    .dataframe tbody tr th {\n",
       "        vertical-align: top;\n",
       "    }\n",
       "\n",
       "    .dataframe thead th {\n",
       "        text-align: right;\n",
       "    }\n",
       "</style>\n",
       "<table border=\"1\" class=\"dataframe\">\n",
       "  <thead>\n",
       "    <tr style=\"text-align: right;\">\n",
       "      <th></th>\n",
       "      <th>Average sale price</th>\n",
       "      <th>Count of property_type</th>\n",
       "      <th>Percentage of property type</th>\n",
       "    </tr>\n",
       "  </thead>\n",
       "  <tbody>\n",
       "    <tr>\n",
       "      <th>Single Family Residence</th>\n",
       "      <td>5545470.66380</td>\n",
       "      <td>2869</td>\n",
       "      <td>0.72106</td>\n",
       "    </tr>\n",
       "    <tr>\n",
       "      <th>Condominium</th>\n",
       "      <td>4640751.75720</td>\n",
       "      <td>657</td>\n",
       "      <td>0.15614</td>\n",
       "    </tr>\n",
       "    <tr>\n",
       "      <th>Duplex (2 units, any combination)</th>\n",
       "      <td>5138418.32664</td>\n",
       "      <td>173</td>\n",
       "      <td>0.04203</td>\n",
       "    </tr>\n",
       "    <tr>\n",
       "      <th>Planned Unit Development (PUD)</th>\n",
       "      <td>4746147.69567</td>\n",
       "      <td>137</td>\n",
       "      <td>0.03311</td>\n",
       "    </tr>\n",
       "    <tr>\n",
       "      <th>Triplex (3 units, any combination)</th>\n",
       "      <td>5524965.57630</td>\n",
       "      <td>62</td>\n",
       "      <td>0.01597</td>\n",
       "    </tr>\n",
       "    <tr>\n",
       "      <th>Apartment house (5+ units)</th>\n",
       "      <td>5535776.18708</td>\n",
       "      <td>57</td>\n",
       "      <td>0.01784</td>\n",
       "    </tr>\n",
       "    <tr>\n",
       "      <th>Quadplex (4 Units, Any Combination)</th>\n",
       "      <td>6628860.83337</td>\n",
       "      <td>42</td>\n",
       "      <td>0.01174</td>\n",
       "    </tr>\n",
       "    <tr>\n",
       "      <th>Residential - Vacant Land</th>\n",
       "      <td>2972552.76292</td>\n",
       "      <td>5</td>\n",
       "      <td>0.00117</td>\n",
       "    </tr>\n",
       "    <tr>\n",
       "      <th>Mobile home</th>\n",
       "      <td>422500.00000</td>\n",
       "      <td>2</td>\n",
       "      <td>0.00047</td>\n",
       "    </tr>\n",
       "    <tr>\n",
       "      <th>MISCELLANEOUS   (Commercial)</th>\n",
       "      <td>894546.84318</td>\n",
       "      <td>1</td>\n",
       "      <td>0.00023</td>\n",
       "    </tr>\n",
       "    <tr>\n",
       "      <th>Religious, Church, Worship (Synagogue, Temple, Parsonage)</th>\n",
       "      <td>19521000.00000</td>\n",
       "      <td>1</td>\n",
       "      <td>0.00023</td>\n",
       "    </tr>\n",
       "  </tbody>\n",
       "</table>\n",
       "</div>"
      ],
      "text/plain": [
       "                                                    Average sale price  \\\n",
       "Single Family Residence                                  5545470.66380   \n",
       "Condominium                                              4640751.75720   \n",
       "Duplex (2 units, any combination)                        5138418.32664   \n",
       "Planned Unit Development (PUD)                           4746147.69567   \n",
       "Triplex (3 units, any combination)                       5524965.57630   \n",
       "Apartment house (5+ units)                               5535776.18708   \n",
       "Quadplex (4 Units, Any Combination)                      6628860.83337   \n",
       "Residential - Vacant Land                                2972552.76292   \n",
       "Mobile home                                               422500.00000   \n",
       "MISCELLANEOUS   (Commercial)                              894546.84318   \n",
       "Religious, Church, Worship (Synagogue, Temple, ...      19521000.00000   \n",
       "\n",
       "                                                    Count of property_type  \\\n",
       "Single Family Residence                                               2869   \n",
       "Condominium                                                            657   \n",
       "Duplex (2 units, any combination)                                      173   \n",
       "Planned Unit Development (PUD)                                         137   \n",
       "Triplex (3 units, any combination)                                      62   \n",
       "Apartment house (5+ units)                                              57   \n",
       "Quadplex (4 Units, Any Combination)                                     42   \n",
       "Residential - Vacant Land                                                5   \n",
       "Mobile home                                                              2   \n",
       "MISCELLANEOUS   (Commercial)                                             1   \n",
       "Religious, Church, Worship (Synagogue, Temple, ...                       1   \n",
       "\n",
       "                                                    Percentage of property type  \n",
       "Single Family Residence                                                 0.72106  \n",
       "Condominium                                                             0.15614  \n",
       "Duplex (2 units, any combination)                                       0.04203  \n",
       "Planned Unit Development (PUD)                                          0.03311  \n",
       "Triplex (3 units, any combination)                                      0.01597  \n",
       "Apartment house (5+ units)                                              0.01784  \n",
       "Quadplex (4 Units, Any Combination)                                     0.01174  \n",
       "Residential - Vacant Land                                               0.00117  \n",
       "Mobile home                                                             0.00047  \n",
       "MISCELLANEOUS   (Commercial)                                            0.00023  \n",
       "Religious, Church, Worship (Synagogue, Temple, ...                      0.00023  "
      ]
     },
     "execution_count": 231,
     "metadata": {},
     "output_type": "execute_result"
    }
   ],
   "source": [
    "temp = pd.concat([df_trimmed.groupby('property_type')['sale_price'].mean(), df_trimmed.groupby('property_type')['sale_price'].count(), df['property_type'].value_counts(normalize=True)], axis=1)\n",
    "temp.columns = ['Average sale price', 'Count of property_type', 'Percentage of property type']\n",
    "temp.sort_values(by=['Count of property_type'], axis=0,ascending=False, inplace=True)\n",
    "print(f'Number of categories for property_type: {df_trimmed.property_type.nunique()}')\n",
    "temp"
   ]
  },
  {
   "cell_type": "code",
   "execution_count": 232,
   "metadata": {},
   "outputs": [
    {
     "name": "stdout",
     "output_type": "stream",
     "text": [
      "Number of observations before removing infrequent property types: 4006\n",
      "Number of observations after removing infrequent property types: 3997\n"
     ]
    }
   ],
   "source": [
    "bad_prop_types = ['MISCELLANEOUS   (Commercial)', 'Religious, Church, Worship (Synagogue, Temple, Parsonage)', 'Residential - Vacant Land', 'Mobile home']\n",
    "print(f'Number of observations before removing infrequent property types: {df_trimmed.shape[0]}')\n",
    "\n",
    "for col in bad_prop_types:\n",
    "    indexNames = df_trimmed[(df_trimmed['property_type']==col)].index\n",
    "    df_trimmed.drop(indexNames, inplace=True)\n",
    "    \n",
    "\n",
    "print(f'Number of observations after removing infrequent property types: {df_trimmed.shape[0]}')"
   ]
  },
  {
   "cell_type": "code",
   "execution_count": 233,
   "metadata": {},
   "outputs": [
    {
     "name": "stdout",
     "output_type": "stream",
     "text": [
      "Number of categories for property_type: 7\n"
     ]
    },
    {
     "data": {
      "text/html": [
       "<div>\n",
       "<style scoped>\n",
       "    .dataframe tbody tr th:only-of-type {\n",
       "        vertical-align: middle;\n",
       "    }\n",
       "\n",
       "    .dataframe tbody tr th {\n",
       "        vertical-align: top;\n",
       "    }\n",
       "\n",
       "    .dataframe thead th {\n",
       "        text-align: right;\n",
       "    }\n",
       "</style>\n",
       "<table border=\"1\" class=\"dataframe\">\n",
       "  <thead>\n",
       "    <tr style=\"text-align: right;\">\n",
       "      <th></th>\n",
       "      <th>Average sale price</th>\n",
       "      <th>Count of property_type</th>\n",
       "      <th>Percentage of property type</th>\n",
       "    </tr>\n",
       "  </thead>\n",
       "  <tbody>\n",
       "    <tr>\n",
       "      <th>Quadplex (4 Units, Any Combination)</th>\n",
       "      <td>6628860.83337</td>\n",
       "      <td>42.00000</td>\n",
       "      <td>0.01174</td>\n",
       "    </tr>\n",
       "    <tr>\n",
       "      <th>Single Family Residence</th>\n",
       "      <td>5545470.66380</td>\n",
       "      <td>2869.00000</td>\n",
       "      <td>0.72106</td>\n",
       "    </tr>\n",
       "    <tr>\n",
       "      <th>Apartment house (5+ units)</th>\n",
       "      <td>5535776.18708</td>\n",
       "      <td>57.00000</td>\n",
       "      <td>0.01784</td>\n",
       "    </tr>\n",
       "    <tr>\n",
       "      <th>Triplex (3 units, any combination)</th>\n",
       "      <td>5524965.57630</td>\n",
       "      <td>62.00000</td>\n",
       "      <td>0.01597</td>\n",
       "    </tr>\n",
       "    <tr>\n",
       "      <th>Duplex (2 units, any combination)</th>\n",
       "      <td>5138418.32664</td>\n",
       "      <td>173.00000</td>\n",
       "      <td>0.04203</td>\n",
       "    </tr>\n",
       "    <tr>\n",
       "      <th>Planned Unit Development (PUD)</th>\n",
       "      <td>4746147.69567</td>\n",
       "      <td>137.00000</td>\n",
       "      <td>0.03311</td>\n",
       "    </tr>\n",
       "    <tr>\n",
       "      <th>Condominium</th>\n",
       "      <td>4640751.75720</td>\n",
       "      <td>657.00000</td>\n",
       "      <td>0.15614</td>\n",
       "    </tr>\n",
       "    <tr>\n",
       "      <th>Residential - Vacant Land</th>\n",
       "      <td>nan</td>\n",
       "      <td>nan</td>\n",
       "      <td>0.00117</td>\n",
       "    </tr>\n",
       "    <tr>\n",
       "      <th>Mobile home</th>\n",
       "      <td>nan</td>\n",
       "      <td>nan</td>\n",
       "      <td>0.00047</td>\n",
       "    </tr>\n",
       "    <tr>\n",
       "      <th>Religious, Church, Worship (Synagogue, Temple, Parsonage)</th>\n",
       "      <td>nan</td>\n",
       "      <td>nan</td>\n",
       "      <td>0.00023</td>\n",
       "    </tr>\n",
       "    <tr>\n",
       "      <th>MISCELLANEOUS   (Commercial)</th>\n",
       "      <td>nan</td>\n",
       "      <td>nan</td>\n",
       "      <td>0.00023</td>\n",
       "    </tr>\n",
       "  </tbody>\n",
       "</table>\n",
       "</div>"
      ],
      "text/plain": [
       "                                                    Average sale price  \\\n",
       "Quadplex (4 Units, Any Combination)                      6628860.83337   \n",
       "Single Family Residence                                  5545470.66380   \n",
       "Apartment house (5+ units)                               5535776.18708   \n",
       "Triplex (3 units, any combination)                       5524965.57630   \n",
       "Duplex (2 units, any combination)                        5138418.32664   \n",
       "Planned Unit Development (PUD)                           4746147.69567   \n",
       "Condominium                                              4640751.75720   \n",
       "Residential - Vacant Land                                          nan   \n",
       "Mobile home                                                        nan   \n",
       "Religious, Church, Worship (Synagogue, Temple, ...                 nan   \n",
       "MISCELLANEOUS   (Commercial)                                       nan   \n",
       "\n",
       "                                                    Count of property_type  \\\n",
       "Quadplex (4 Units, Any Combination)                               42.00000   \n",
       "Single Family Residence                                         2869.00000   \n",
       "Apartment house (5+ units)                                        57.00000   \n",
       "Triplex (3 units, any combination)                                62.00000   \n",
       "Duplex (2 units, any combination)                                173.00000   \n",
       "Planned Unit Development (PUD)                                   137.00000   \n",
       "Condominium                                                      657.00000   \n",
       "Residential - Vacant Land                                              nan   \n",
       "Mobile home                                                            nan   \n",
       "Religious, Church, Worship (Synagogue, Temple, ...                     nan   \n",
       "MISCELLANEOUS   (Commercial)                                           nan   \n",
       "\n",
       "                                                    Percentage of property type  \n",
       "Quadplex (4 Units, Any Combination)                                     0.01174  \n",
       "Single Family Residence                                                 0.72106  \n",
       "Apartment house (5+ units)                                              0.01784  \n",
       "Triplex (3 units, any combination)                                      0.01597  \n",
       "Duplex (2 units, any combination)                                       0.04203  \n",
       "Planned Unit Development (PUD)                                          0.03311  \n",
       "Condominium                                                             0.15614  \n",
       "Residential - Vacant Land                                               0.00117  \n",
       "Mobile home                                                             0.00047  \n",
       "Religious, Church, Worship (Synagogue, Temple, ...                      0.00023  \n",
       "MISCELLANEOUS   (Commercial)                                            0.00023  "
      ]
     },
     "execution_count": 233,
     "metadata": {},
     "output_type": "execute_result"
    }
   ],
   "source": [
    "temp2 = pd.concat([df_trimmed.groupby('property_type')['sale_price'].mean(), df_trimmed.groupby('property_type')['sale_price'].count(), df['property_type'].value_counts(normalize=True)], axis=1)\n",
    "temp2.columns = ['Average sale price', 'Count of property_type', 'Percentage of property type']\n",
    "temp2.sort_values(by=['Average sale price'], axis=0,ascending=False, inplace=True)\n",
    "print(f'Number of categories for property_type: {df_trimmed.property_type.nunique()}')\n",
    "temp2"
   ]
  },
  {
   "cell_type": "code",
   "execution_count": 234,
   "metadata": {},
   "outputs": [],
   "source": [
    "def property_type_plot(df, var):\n",
    "    \n",
    "    categories = list(df[var].unique())\n",
    "    df_copy = df.copy()\n",
    "    \n",
    "    for cat in categories:\n",
    "        df = df_copy.loc[df_copy[var]==cat, :]\n",
    "        if df.shape[0]>40:\n",
    "            df.groupby('month')['sale_price'].mean().plot(figsize=(12,8))\n",
    "            plt.ticklabel_format(style='plain', axis='y')\n",
    "            plt.xlim('2015-01', df['month'].max())\n",
    "            plt.ylim(df['sale_price'].min(), 4000000)\n",
    "            plt.title(f'Average Sale Price by Month for {cat}')\n",
    "            plt.show();\n",
    "        else:\n",
    "            continue"
   ]
  },
  {
   "cell_type": "code",
   "execution_count": 73,
   "metadata": {},
   "outputs": [
    {
     "data": {
      "image/png": "[encoded data removed]",
      "text/plain": [
       "<Figure size 864x576 with 1 Axes>"
      ]
     },
     "metadata": {
      "needs_background": "light"
     },
     "output_type": "display_data"
    },
    {
     "data": {
      "image/png": "[encoded data removed]",
      "text/plain": [
       "<Figure size 864x576 with 1 Axes>"
      ]
     },
     "metadata": {
      "needs_background": "light"
     },
     "output_type": "display_data"
    },
    {
     "data": {
      "image/png": "[encoded data removed]",
      "text/plain": [
       "<Figure size 864x576 with 1 Axes>"
      ]
     },
     "metadata": {
      "needs_background": "light"
     },
     "output_type": "display_data"
    },
    {
     "data": {
      "image/png": "[encoded data removed]",
      "text/plain": [
       "<Figure size 864x576 with 1 Axes>"
      ]
     },
     "metadata": {
      "needs_background": "light"
     },
     "output_type": "display_data"
    },
    {
     "data": {
      "image/png": "[encoded data removed]",
      "text/plain": [
       "<Figure size 864x576 with 1 Axes>"
      ]
     },
     "metadata": {
      "needs_background": "light"
     },
     "output_type": "display_data"
    },
    {
     "data": {
      "image/png": "[encoded data removed]",
      "text/plain": [
       "<Figure size 864x576 with 1 Axes>"
      ]
     },
     "metadata": {
      "needs_background": "light"
     },
     "output_type": "display_data"
    },
    {
     "data": {
      "image/png": "[encoded data removed]",
      "text/plain": [
       "<Figure size 864x576 with 1 Axes>"
      ]
     },
     "metadata": {
      "needs_background": "light"
     },
     "output_type": "display_data"
    }
   ],
   "source": [
    "property_type_plot(df, 'property_type')"
   ]
  },
  {
   "cell_type": "code",
   "execution_count": 74,
   "metadata": {},
   "outputs": [
    {
     "data": {
      "image/png": "[encoded data removed]",
      "text/plain": [
       "<Figure size 864x576 with 1 Axes>"
      ]
     },
     "metadata": {
      "needs_background": "light"
     },
     "output_type": "display_data"
    }
   ],
   "source": [
    "#Examine the trend of saleprice by month\n",
    "df.groupby('month')['sale_price'].mean().plot(figsize=(12,8))\n",
    "plt.ticklabel_format(style='plain', axis='y')\n",
    "plt.xlim('2015-01', df['month'].max())\n",
    "plt.ylim(df['sale_price'].min(), 4000000)\n",
    "plt.title('Average Sale Price by Month');"
   ]
  },
  {
   "cell_type": "code",
   "execution_count": 235,
   "metadata": {},
   "outputs": [],
   "source": [
    "ohe_encoder = OneHotCategoricalEncoder(top_categories=7,\n",
    "                                       variables=['property_type', 'crime_index', 'school quality'])\n",
    "\n",
    "ohe_encoder.fit(df_trimmed)\n",
    "\n",
    "temp = ohe_encoder.transform(df_trimmed)"
   ]
  },
  {
   "cell_type": "code",
   "execution_count": 236,
   "metadata": {
    "scrolled": false
   },
   "outputs": [
    {
     "data": {
      "image/png": "[encoded data removed]",
      "text/plain": [
       "<Figure size 864x648 with 2 Axes>"
      ]
     },
     "metadata": {
      "needs_background": "light"
     },
     "output_type": "display_data"
    }
   ],
   "source": [
    "corrmat = df_trimmed.corr()\n",
    "f, ax = plt.subplots(figsize=(12, 9))\n",
    "sns.heatmap(corrmat);"
   ]
  },
  {
   "cell_type": "code",
   "execution_count": 79,
   "metadata": {},
   "outputs": [
    {
     "name": "stdout",
     "output_type": "stream",
     "text": [
      "correlated features:  4\n"
     ]
    }
   ],
   "source": [
    "def correlation(dataset, threshold):\n",
    "    \n",
    "    col_corr = set()  # Set of all the names of correlated columns\n",
    "    corr_matrix = dataset.corr()\n",
    "    \n",
    "    for i in range(len(corr_matrix.columns)):\n",
    "        for j in range(i):\n",
    "            # we are interested in absolute coeff value\n",
    "            if abs(corr_matrix.iloc[i, j]) > threshold:\n",
    "                colname = corr_matrix.columns[i]  # getting the name of column\n",
    "                col_corr.add(colname)\n",
    "    \n",
    "    return col_corr\n",
    "\n",
    "\n",
    "corr_features = correlation(df_trimmed, 0.6)\n",
    "print('correlated features: ', len(set(corr_features)))"
   ]
  },
  {
   "cell_type": "code",
   "execution_count": 105,
   "metadata": {},
   "outputs": [],
   "source": [
    "def diagnostic_plots(df, variable, labels):\n",
    "  \n",
    "    plt.figure(figsize=(20,6))\n",
    "    plt.subplot(1,3,1)\n",
    "    df[variable].hist()\n",
    "    \n",
    "    plt.subplot(1,3,2)\n",
    "    stats.probplot(df[variable], dist='norm', plot=pylab)\n",
    "    plt.title(col)\n",
    "    \n",
    "    plt.subplot(1,3,3)\n",
    "    plt.scatter(df[variable], labels)\n",
    "    plt.title(col)"
   ]
  },
  {
   "cell_type": "code",
   "execution_count": 27,
   "metadata": {
    "scrolled": false
   },
   "outputs": [
    {
     "data": {
      "text/html": [
       "<div>\n",
       "<style scoped>\n",
       "    .dataframe tbody tr th:only-of-type {\n",
       "        vertical-align: middle;\n",
       "    }\n",
       "\n",
       "    .dataframe tbody tr th {\n",
       "        vertical-align: top;\n",
       "    }\n",
       "\n",
       "    .dataframe thead th {\n",
       "        text-align: right;\n",
       "    }\n",
       "</style>\n",
       "<table border=\"1\" class=\"dataframe\">\n",
       "  <thead>\n",
       "    <tr style=\"text-align: right;\">\n",
       "      <th></th>\n",
       "      <th>Average sale price</th>\n",
       "      <th>Count of crime index</th>\n",
       "    </tr>\n",
       "    <tr>\n",
       "      <th>crime_index</th>\n",
       "      <th></th>\n",
       "      <th></th>\n",
       "    </tr>\n",
       "  </thead>\n",
       "  <tbody>\n",
       "    <tr>\n",
       "      <th>High</th>\n",
       "      <td>453159.57447</td>\n",
       "      <td>47</td>\n",
       "    </tr>\n",
       "    <tr>\n",
       "      <th>Low</th>\n",
       "      <td>896015.62219</td>\n",
       "      <td>1289</td>\n",
       "    </tr>\n",
       "    <tr>\n",
       "      <th>Moderate</th>\n",
       "      <td>882994.63107</td>\n",
       "      <td>1236</td>\n",
       "    </tr>\n",
       "    <tr>\n",
       "      <th>Moderately High</th>\n",
       "      <td>562047.61905</td>\n",
       "      <td>84</td>\n",
       "    </tr>\n",
       "    <tr>\n",
       "      <th>Slightly High</th>\n",
       "      <td>1277093.52922</td>\n",
       "      <td>1249</td>\n",
       "    </tr>\n",
       "    <tr>\n",
       "      <th>Very Low</th>\n",
       "      <td>1192934.56145</td>\n",
       "      <td>358</td>\n",
       "    </tr>\n",
       "  </tbody>\n",
       "</table>\n",
       "</div>"
      ],
      "text/plain": [
       "                 Average sale price  Count of crime index\n",
       "crime_index                                              \n",
       "High                   453159.57447                    47\n",
       "Low                    896015.62219                  1289\n",
       "Moderate               882994.63107                  1236\n",
       "Moderately High        562047.61905                    84\n",
       "Slightly High         1277093.52922                  1249\n",
       "Very Low              1192934.56145                   358"
      ]
     },
     "execution_count": 27,
     "metadata": {},
     "output_type": "execute_result"
    }
   ],
   "source": [
    "temp = pd.concat([df.groupby('crime_index')['sale_price'].mean(), df.groupby('crime_index')['sale_price'].count()], axis=1)\n",
    "temp.columns = ['Average sale price', 'Count of crime index']\n",
    "temp"
   ]
  },
  {
   "cell_type": "code",
   "execution_count": 28,
   "metadata": {
    "scrolled": false
   },
   "outputs": [
    {
     "data": {
      "image/png": "[encoded data removed]",
      "text/plain": [
       "<Figure size 432x288 with 1 Axes>"
      ]
     },
     "metadata": {
      "needs_background": "light"
     },
     "output_type": "display_data"
    }
   ],
   "source": [
    "order=['High', 'Moderately High', 'Slightly High' 'Moderate', 'Low', 'Very Low']\n",
    "\n",
    "\n",
    "boxplot = sns.boxplot(x='crime_index', y='sale_price', data=df, order=order)\n",
    "plt.ylim(0,8000000)\n",
    "plt.ticklabel_format(style='plain', axis='y')"
   ]
  },
  {
   "cell_type": "code",
   "execution_count": 58,
   "metadata": {
    "scrolled": false
   },
   "outputs": [],
   "source": [
    "#df.index = pd.to_datetime(df['date'], format='%Y-%m-%d')\n",
    "#df.index.freq = 'D'\n",
    "#df.index"
   ]
  },
  {
   "cell_type": "code",
   "execution_count": 237,
   "metadata": {},
   "outputs": [],
   "source": [
    "df_trimmed.to_csv('Data/house_data_details_eda.csv', index=False)"
   ]
  }
 ],
 "metadata": {
  "kernelspec": {
   "display_name": "Python 3",
   "language": "python",
   "name": "python3"
  },
  "language_info": {
   "codemirror_mode": {
    "name": "ipython",
    "version": 3
   },
   "file_extension": ".py",
   "mimetype": "text/x-python",
   "name": "python",
   "nbconvert_exporter": "python",
   "pygments_lexer": "ipython3",
   "version": "3.7.6"
  }
 },
 "nbformat": 4,
 "nbformat_minor": 4
}
