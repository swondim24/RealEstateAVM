{
 "cells": [
  {
   "cell_type": "code",
   "execution_count": 1,
   "metadata": {},
   "outputs": [],
   "source": [
    "import pandas as pd\n",
    "from pandas_profiling import ProfileReport\n",
    "import numpy as np\n",
    "import matplotlib.pyplot as plt\n",
    "import seaborn as sns\n",
    "from feature_engine.categorical_encoders import RareLabelCategoricalEncoder\n",
    "%matplotlib inline\n",
    "\n",
    "import warnings\n",
    "warnings.filterwarnings('ignore')\n",
    "\n",
    "pd.set_option('display.max_columns', None)\n",
    "pd.options.display.float_format = '{:.5f}'.format"
   ]
  },
  {
   "cell_type": "code",
   "execution_count": 16,
   "metadata": {},
   "outputs": [],
   "source": [
    "raw_data = pd.read_csv('Data/house_data_details_cleaned.csv')\n",
    "df = raw_data.copy()"
   ]
  },
  {
   "cell_type": "code",
   "execution_count": 17,
   "metadata": {},
   "outputs": [],
   "source": [
    "#profile = ProfileReport(df, title='Pandas Profiling Report', explorative=True)\n",
    "#profile.to_file(\"RealEstateAVM_ProfileReport.html\")"
   ]
  },
  {
   "cell_type": "code",
   "execution_count": 18,
   "metadata": {
    "scrolled": false
   },
   "outputs": [
    {
     "data": {
      "text/html": [
       "<div>\n",
       "<style scoped>\n",
       "    .dataframe tbody tr th:only-of-type {\n",
       "        vertical-align: middle;\n",
       "    }\n",
       "\n",
       "    .dataframe tbody tr th {\n",
       "        vertical-align: top;\n",
       "    }\n",
       "\n",
       "    .dataframe thead th {\n",
       "        text-align: right;\n",
       "    }\n",
       "</style>\n",
       "<table border=\"1\" class=\"dataframe\">\n",
       "  <thead>\n",
       "    <tr style=\"text-align: right;\">\n",
       "      <th></th>\n",
       "      <th>longitude</th>\n",
       "      <th>latitude</th>\n",
       "      <th>address</th>\n",
       "      <th>property_type</th>\n",
       "      <th>home_size</th>\n",
       "      <th>lot_size</th>\n",
       "      <th>year_built</th>\n",
       "      <th>parcel_number</th>\n",
       "      <th>realtyID</th>\n",
       "      <th>county</th>\n",
       "      <th>subdivision</th>\n",
       "      <th>census</th>\n",
       "      <th>tract</th>\n",
       "      <th>lot</th>\n",
       "      <th>zoning</th>\n",
       "      <th>date</th>\n",
       "      <th>sale_price</th>\n",
       "      <th>estimated_value</th>\n",
       "      <th>sex_offenders</th>\n",
       "      <th>crime_index</th>\n",
       "      <th>enviornmental_hazards</th>\n",
       "      <th>natural_disasters</th>\n",
       "      <th>school quality</th>\n",
       "      <th>url</th>\n",
       "      <th>bedrooms</th>\n",
       "      <th>bathrooms</th>\n",
       "    </tr>\n",
       "  </thead>\n",
       "  <tbody>\n",
       "    <tr>\n",
       "      <th>0</th>\n",
       "      <td>-118.13368</td>\n",
       "      <td>33.97462</td>\n",
       "      <td>6224 Nye St</td>\n",
       "      <td>Condominium</td>\n",
       "      <td>1357.00000</td>\n",
       "      <td>22215.60000</td>\n",
       "      <td>1988.00000</td>\n",
       "      <td>6357012043</td>\n",
       "      <td>1111054477.00000</td>\n",
       "      <td>Los Angeles</td>\n",
       "      <td>45351</td>\n",
       "      <td>1.00000</td>\n",
       "      <td>532304.00000</td>\n",
       "      <td>1</td>\n",
       "      <td>CMR3</td>\n",
       "      <td>9/28/20</td>\n",
       "      <td>469000.00000</td>\n",
       "      <td>439000.00000</td>\n",
       "      <td>7</td>\n",
       "      <td>High</td>\n",
       "      <td>15</td>\n",
       "      <td>1</td>\n",
       "      <td>Average</td>\n",
       "      <td>https://www.realtytrac.com/property/ca/commerc...</td>\n",
       "      <td>3.00000</td>\n",
       "      <td>3.00000</td>\n",
       "    </tr>\n",
       "    <tr>\n",
       "      <th>1</th>\n",
       "      <td>-118.39689</td>\n",
       "      <td>34.15656</td>\n",
       "      <td>4723 Laurel Canyon Blvd</td>\n",
       "      <td>Restaurant</td>\n",
       "      <td>2250.00000</td>\n",
       "      <td>9799.00000</td>\n",
       "      <td>1959.00000</td>\n",
       "      <td>2356037034</td>\n",
       "      <td>1111055289.00000</td>\n",
       "      <td>Los Angeles</td>\n",
       "      <td>7360</td>\n",
       "      <td>1.00000</td>\n",
       "      <td>143400.00000</td>\n",
       "      <td>10</td>\n",
       "      <td>LAC2</td>\n",
       "      <td>9/28/20</td>\n",
       "      <td>1910000.00000</td>\n",
       "      <td>nan</td>\n",
       "      <td>5</td>\n",
       "      <td>NaN</td>\n",
       "      <td>6</td>\n",
       "      <td>1</td>\n",
       "      <td>Excellent</td>\n",
       "      <td>https://www.realtytrac.com/property/ca/valley-...</td>\n",
       "      <td>nan</td>\n",
       "      <td>nan</td>\n",
       "    </tr>\n",
       "    <tr>\n",
       "      <th>2</th>\n",
       "      <td>-118.45116</td>\n",
       "      <td>34.67778</td>\n",
       "      <td>18118 Elizabeth Lake Rd</td>\n",
       "      <td>Apartment house (5+ units)</td>\n",
       "      <td>1454.00000</td>\n",
       "      <td>13635.00000</td>\n",
       "      <td>1948.00000</td>\n",
       "      <td>3242015023</td>\n",
       "      <td>1111055911.00000</td>\n",
       "      <td>Los Angeles</td>\n",
       "      <td>NaN</td>\n",
       "      <td>2.00000</td>\n",
       "      <td>920102.00000</td>\n",
       "      <td>4</td>\n",
       "      <td>LCC4*</td>\n",
       "      <td>9/28/20</td>\n",
       "      <td>325000.00000</td>\n",
       "      <td>nan</td>\n",
       "      <td>0</td>\n",
       "      <td>NaN</td>\n",
       "      <td>2</td>\n",
       "      <td>1</td>\n",
       "      <td>NaN</td>\n",
       "      <td>https://www.realtytrac.com/property/ca/lake-hu...</td>\n",
       "      <td>7.00000</td>\n",
       "      <td>6.00000</td>\n",
       "    </tr>\n",
       "    <tr>\n",
       "      <th>3</th>\n",
       "      <td>-118.06690</td>\n",
       "      <td>34.07296</td>\n",
       "      <td>9259 Ramona Blvd</td>\n",
       "      <td>Single Family Residence</td>\n",
       "      <td>1682.00000</td>\n",
       "      <td>7000.00000</td>\n",
       "      <td>1978.00000</td>\n",
       "      <td>8594027016</td>\n",
       "      <td>1111055994.00000</td>\n",
       "      <td>Los Angeles</td>\n",
       "      <td>ROSEMEAD</td>\n",
       "      <td>2.00000</td>\n",
       "      <td>432901.00000</td>\n",
       "      <td>6</td>\n",
       "      <td>RMPOD*</td>\n",
       "      <td>9/28/20</td>\n",
       "      <td>738000.00000</td>\n",
       "      <td>752000.00000</td>\n",
       "      <td>3</td>\n",
       "      <td>Moderate</td>\n",
       "      <td>11</td>\n",
       "      <td>1</td>\n",
       "      <td>Excellent</td>\n",
       "      <td>https://www.realtytrac.com/property/ca/rosemea...</td>\n",
       "      <td>3.00000</td>\n",
       "      <td>2.00000</td>\n",
       "    </tr>\n",
       "    <tr>\n",
       "      <th>4</th>\n",
       "      <td>-118.15491</td>\n",
       "      <td>33.77772</td>\n",
       "      <td>825 Obispo Ave</td>\n",
       "      <td>Triplex (3 units, any combination)</td>\n",
       "      <td>1958.00000</td>\n",
       "      <td>6754.00000</td>\n",
       "      <td>1938.00000</td>\n",
       "      <td>7258013016</td>\n",
       "      <td>1111056010.00000</td>\n",
       "      <td>Los Angeles</td>\n",
       "      <td>1</td>\n",
       "      <td>2.00000</td>\n",
       "      <td>576904.00000</td>\n",
       "      <td>18</td>\n",
       "      <td>LBR2N</td>\n",
       "      <td>9/28/20</td>\n",
       "      <td>1185000.00000</td>\n",
       "      <td>989000.00000</td>\n",
       "      <td>11</td>\n",
       "      <td>Slightly High</td>\n",
       "      <td>8</td>\n",
       "      <td>1</td>\n",
       "      <td>Average</td>\n",
       "      <td>https://www.realtytrac.com/property/ca/long-be...</td>\n",
       "      <td>4.00000</td>\n",
       "      <td>3.00000</td>\n",
       "    </tr>\n",
       "  </tbody>\n",
       "</table>\n",
       "</div>"
      ],
      "text/plain": [
       "   longitude  latitude                  address  \\\n",
       "0 -118.13368  33.97462              6224 Nye St   \n",
       "1 -118.39689  34.15656  4723 Laurel Canyon Blvd   \n",
       "2 -118.45116  34.67778  18118 Elizabeth Lake Rd   \n",
       "3 -118.06690  34.07296         9259 Ramona Blvd   \n",
       "4 -118.15491  33.77772           825 Obispo Ave   \n",
       "\n",
       "                        property_type  home_size    lot_size  year_built  \\\n",
       "0                         Condominium 1357.00000 22215.60000  1988.00000   \n",
       "1                          Restaurant 2250.00000  9799.00000  1959.00000   \n",
       "2          Apartment house (5+ units) 1454.00000 13635.00000  1948.00000   \n",
       "3             Single Family Residence 1682.00000  7000.00000  1978.00000   \n",
       "4  Triplex (3 units, any combination) 1958.00000  6754.00000  1938.00000   \n",
       "\n",
       "   parcel_number         realtyID       county subdivision  census  \\\n",
       "0     6357012043 1111054477.00000  Los Angeles       45351 1.00000   \n",
       "1     2356037034 1111055289.00000  Los Angeles        7360 1.00000   \n",
       "2     3242015023 1111055911.00000  Los Angeles         NaN 2.00000   \n",
       "3     8594027016 1111055994.00000  Los Angeles    ROSEMEAD 2.00000   \n",
       "4     7258013016 1111056010.00000  Los Angeles           1 2.00000   \n",
       "\n",
       "         tract lot  zoning     date    sale_price  estimated_value  \\\n",
       "0 532304.00000   1    CMR3  9/28/20  469000.00000     439000.00000   \n",
       "1 143400.00000  10    LAC2  9/28/20 1910000.00000              nan   \n",
       "2 920102.00000   4   LCC4*  9/28/20  325000.00000              nan   \n",
       "3 432901.00000   6  RMPOD*  9/28/20  738000.00000     752000.00000   \n",
       "4 576904.00000  18   LBR2N  9/28/20 1185000.00000     989000.00000   \n",
       "\n",
       "   sex_offenders    crime_index  enviornmental_hazards  natural_disasters  \\\n",
       "0              7           High                     15                  1   \n",
       "1              5            NaN                      6                  1   \n",
       "2              0            NaN                      2                  1   \n",
       "3              3       Moderate                     11                  1   \n",
       "4             11  Slightly High                      8                  1   \n",
       "\n",
       "  school quality                                                url  bedrooms  \\\n",
       "0        Average  https://www.realtytrac.com/property/ca/commerc...   3.00000   \n",
       "1      Excellent  https://www.realtytrac.com/property/ca/valley-...       nan   \n",
       "2            NaN  https://www.realtytrac.com/property/ca/lake-hu...   7.00000   \n",
       "3      Excellent  https://www.realtytrac.com/property/ca/rosemea...   3.00000   \n",
       "4        Average  https://www.realtytrac.com/property/ca/long-be...   4.00000   \n",
       "\n",
       "   bathrooms  \n",
       "0    3.00000  \n",
       "1        nan  \n",
       "2    6.00000  \n",
       "3    2.00000  \n",
       "4    3.00000  "
      ]
     },
     "execution_count": 18,
     "metadata": {},
     "output_type": "execute_result"
    }
   ],
   "source": [
    "df.head()"
   ]
  },
  {
   "cell_type": "code",
   "execution_count": 185,
   "metadata": {},
   "outputs": [
    {
     "data": {
      "text/html": [
       "<div>\n",
       "<style scoped>\n",
       "    .dataframe tbody tr th:only-of-type {\n",
       "        vertical-align: middle;\n",
       "    }\n",
       "\n",
       "    .dataframe tbody tr th {\n",
       "        vertical-align: top;\n",
       "    }\n",
       "\n",
       "    .dataframe thead th {\n",
       "        text-align: right;\n",
       "    }\n",
       "</style>\n",
       "<table border=\"1\" class=\"dataframe\">\n",
       "  <thead>\n",
       "    <tr style=\"text-align: right;\">\n",
       "      <th></th>\n",
       "      <th>longitude</th>\n",
       "      <th>latitude</th>\n",
       "      <th>home_size</th>\n",
       "      <th>lot_size</th>\n",
       "      <th>year_built</th>\n",
       "      <th>parcel_number</th>\n",
       "      <th>realtyID</th>\n",
       "      <th>census</th>\n",
       "      <th>tract</th>\n",
       "      <th>sale_price</th>\n",
       "      <th>estimated_value</th>\n",
       "      <th>sex_offenders</th>\n",
       "      <th>enviornmental_hazards</th>\n",
       "      <th>natural_disasters</th>\n",
       "      <th>bedrooms</th>\n",
       "      <th>bathrooms</th>\n",
       "    </tr>\n",
       "  </thead>\n",
       "  <tbody>\n",
       "    <tr>\n",
       "      <th>count</th>\n",
       "      <td>2735.00000</td>\n",
       "      <td>2735.00000</td>\n",
       "      <td>2641.00000</td>\n",
       "      <td>2725.00000</td>\n",
       "      <td>2663.00000</td>\n",
       "      <td>2770.00000</td>\n",
       "      <td>2769.00000</td>\n",
       "      <td>2738.00000</td>\n",
       "      <td>2738.00000</td>\n",
       "      <td>2673.00000</td>\n",
       "      <td>2524.00000</td>\n",
       "      <td>2770.00000</td>\n",
       "      <td>2770.00000</td>\n",
       "      <td>2770.00000</td>\n",
       "      <td>2552.00000</td>\n",
       "      <td>2552.00000</td>\n",
       "    </tr>\n",
       "    <tr>\n",
       "      <th>mean</th>\n",
       "      <td>-118.27296</td>\n",
       "      <td>34.11499</td>\n",
       "      <td>2390.78781</td>\n",
       "      <td>41742.12888</td>\n",
       "      <td>1964.18926</td>\n",
       "      <td>4999319848.46426</td>\n",
       "      <td>1110925213.89671</td>\n",
       "      <td>2.02374</td>\n",
       "      <td>439026.61870</td>\n",
       "      <td>1098161.30004</td>\n",
       "      <td>870009.11252</td>\n",
       "      <td>7.19711</td>\n",
       "      <td>7.04152</td>\n",
       "      <td>1.19567</td>\n",
       "      <td>3.36089</td>\n",
       "      <td>2.61364</td>\n",
       "    </tr>\n",
       "    <tr>\n",
       "      <th>std</th>\n",
       "      <td>0.21560</td>\n",
       "      <td>0.22297</td>\n",
       "      <td>5550.63114</td>\n",
       "      <td>267740.00302</td>\n",
       "      <td>26.59174</td>\n",
       "      <td>2126551959.33718</td>\n",
       "      <td>101297.29001</td>\n",
       "      <td>1.11807</td>\n",
       "      <td>261152.49314</td>\n",
       "      <td>2232478.70444</td>\n",
       "      <td>516122.69785</td>\n",
       "      <td>12.31339</td>\n",
       "      <td>6.93759</td>\n",
       "      <td>0.43333</td>\n",
       "      <td>2.99095</td>\n",
       "      <td>2.98152</td>\n",
       "    </tr>\n",
       "    <tr>\n",
       "      <th>min</th>\n",
       "      <td>-118.86073</td>\n",
       "      <td>33.33958</td>\n",
       "      <td>240.00000</td>\n",
       "      <td>745.00000</td>\n",
       "      <td>1890.00000</td>\n",
       "      <td>2004009012.00000</td>\n",
       "      <td>1110722482.00000</td>\n",
       "      <td>1.00000</td>\n",
       "      <td>0.00000</td>\n",
       "      <td>1000.00000</td>\n",
       "      <td>125000.00000</td>\n",
       "      <td>0.00000</td>\n",
       "      <td>1.00000</td>\n",
       "      <td>0.00000</td>\n",
       "      <td>1.00000</td>\n",
       "      <td>1.00000</td>\n",
       "    </tr>\n",
       "    <tr>\n",
       "      <th>25%</th>\n",
       "      <td>-118.43293</td>\n",
       "      <td>33.97703</td>\n",
       "      <td>1243.00000</td>\n",
       "      <td>6031.00000</td>\n",
       "      <td>1948.00000</td>\n",
       "      <td>2861051091.25000</td>\n",
       "      <td>1110849233.00000</td>\n",
       "      <td>1.00000</td>\n",
       "      <td>202325.00000</td>\n",
       "      <td>500000.00000</td>\n",
       "      <td>539000.00000</td>\n",
       "      <td>1.00000</td>\n",
       "      <td>3.00000</td>\n",
       "      <td>1.00000</td>\n",
       "      <td>2.00000</td>\n",
       "      <td>2.00000</td>\n",
       "    </tr>\n",
       "    <tr>\n",
       "      <th>50%</th>\n",
       "      <td>-118.29970</td>\n",
       "      <td>34.09186</td>\n",
       "      <td>1624.00000</td>\n",
       "      <td>7650.00000</td>\n",
       "      <td>1961.00000</td>\n",
       "      <td>5065015519.00000</td>\n",
       "      <td>1110893129.00000</td>\n",
       "      <td>2.00000</td>\n",
       "      <td>408004.00000</td>\n",
       "      <td>700000.00000</td>\n",
       "      <td>702000.00000</td>\n",
       "      <td>4.00000</td>\n",
       "      <td>5.00000</td>\n",
       "      <td>1.00000</td>\n",
       "      <td>3.00000</td>\n",
       "      <td>2.00000</td>\n",
       "    </tr>\n",
       "    <tr>\n",
       "      <th>75%</th>\n",
       "      <td>-118.12983</td>\n",
       "      <td>34.19707</td>\n",
       "      <td>2279.00000</td>\n",
       "      <td>16363.00000</td>\n",
       "      <td>1984.00000</td>\n",
       "      <td>7137007278.25000</td>\n",
       "      <td>1111016244.00000</td>\n",
       "      <td>3.00000</td>\n",
       "      <td>601901.50000</td>\n",
       "      <td>1099000.00000</td>\n",
       "      <td>1028000.00000</td>\n",
       "      <td>9.00000</td>\n",
       "      <td>8.00000</td>\n",
       "      <td>1.00000</td>\n",
       "      <td>4.00000</td>\n",
       "      <td>3.00000</td>\n",
       "    </tr>\n",
       "    <tr>\n",
       "      <th>max</th>\n",
       "      <td>-117.69579</td>\n",
       "      <td>34.81875</td>\n",
       "      <td>136778.40000</td>\n",
       "      <td>12486474.00000</td>\n",
       "      <td>2020.00000</td>\n",
       "      <td>8765016012.00000</td>\n",
       "      <td>1111084198.00000</td>\n",
       "      <td>8.00000</td>\n",
       "      <td>980008.00000</td>\n",
       "      <td>75454545.00000</td>\n",
       "      <td>2934000.00000</td>\n",
       "      <td>135.00000</td>\n",
       "      <td>84.00000</td>\n",
       "      <td>3.00000</td>\n",
       "      <td>96.00000</td>\n",
       "      <td>99.00000</td>\n",
       "    </tr>\n",
       "  </tbody>\n",
       "</table>\n",
       "</div>"
      ],
      "text/plain": [
       "       longitude   latitude    home_size       lot_size  year_built  \\\n",
       "count 2735.00000 2735.00000   2641.00000     2725.00000  2663.00000   \n",
       "mean  -118.27296   34.11499   2390.78781    41742.12888  1964.18926   \n",
       "std      0.21560    0.22297   5550.63114   267740.00302    26.59174   \n",
       "min   -118.86073   33.33958    240.00000      745.00000  1890.00000   \n",
       "25%   -118.43293   33.97703   1243.00000     6031.00000  1948.00000   \n",
       "50%   -118.29970   34.09186   1624.00000     7650.00000  1961.00000   \n",
       "75%   -118.12983   34.19707   2279.00000    16363.00000  1984.00000   \n",
       "max   -117.69579   34.81875 136778.40000 12486474.00000  2020.00000   \n",
       "\n",
       "         parcel_number         realtyID     census        tract  \\\n",
       "count       2770.00000       2769.00000 2738.00000   2738.00000   \n",
       "mean  4999319848.46426 1110925213.89671    2.02374 439026.61870   \n",
       "std   2126551959.33718     101297.29001    1.11807 261152.49314   \n",
       "min   2004009012.00000 1110722482.00000    1.00000      0.00000   \n",
       "25%   2861051091.25000 1110849233.00000    1.00000 202325.00000   \n",
       "50%   5065015519.00000 1110893129.00000    2.00000 408004.00000   \n",
       "75%   7137007278.25000 1111016244.00000    3.00000 601901.50000   \n",
       "max   8765016012.00000 1111084198.00000    8.00000 980008.00000   \n",
       "\n",
       "          sale_price  estimated_value  sex_offenders  enviornmental_hazards  \\\n",
       "count     2673.00000       2524.00000     2770.00000             2770.00000   \n",
       "mean   1098161.30004     870009.11252        7.19711                7.04152   \n",
       "std    2232478.70444     516122.69785       12.31339                6.93759   \n",
       "min       1000.00000     125000.00000        0.00000                1.00000   \n",
       "25%     500000.00000     539000.00000        1.00000                3.00000   \n",
       "50%     700000.00000     702000.00000        4.00000                5.00000   \n",
       "75%    1099000.00000    1028000.00000        9.00000                8.00000   \n",
       "max   75454545.00000    2934000.00000      135.00000               84.00000   \n",
       "\n",
       "       natural_disasters   bedrooms  bathrooms  \n",
       "count         2770.00000 2552.00000 2552.00000  \n",
       "mean             1.19567    3.36089    2.61364  \n",
       "std              0.43333    2.99095    2.98152  \n",
       "min              0.00000    1.00000    1.00000  \n",
       "25%              1.00000    2.00000    2.00000  \n",
       "50%              1.00000    3.00000    2.00000  \n",
       "75%              1.00000    4.00000    3.00000  \n",
       "max              3.00000   96.00000   99.00000  "
      ]
     },
     "execution_count": 185,
     "metadata": {},
     "output_type": "execute_result"
    }
   ],
   "source": [
    "df.describe()"
   ]
  },
  {
   "cell_type": "code",
   "execution_count": 186,
   "metadata": {},
   "outputs": [
    {
     "name": "stdout",
     "output_type": "stream",
     "text": [
      "<class 'pandas.core.frame.DataFrame'>\n",
      "RangeIndex: 2770 entries, 0 to 2769\n",
      "Data columns (total 26 columns):\n",
      " #   Column                 Non-Null Count  Dtype  \n",
      "---  ------                 --------------  -----  \n",
      " 0   longitude              2735 non-null   float64\n",
      " 1   latitude               2735 non-null   float64\n",
      " 2   address                2765 non-null   object \n",
      " 3   property_type          2770 non-null   object \n",
      " 4   home_size              2641 non-null   float64\n",
      " 5   lot_size               2725 non-null   float64\n",
      " 6   year_built             2663 non-null   float64\n",
      " 7   parcel_number          2770 non-null   int64  \n",
      " 8   realtyID               2769 non-null   float64\n",
      " 9   county                 2770 non-null   object \n",
      " 10  subdivision            2568 non-null   object \n",
      " 11  census                 2738 non-null   float64\n",
      " 12  tract                  2738 non-null   float64\n",
      " 13  lot                    2593 non-null   object \n",
      " 14  zoning                 2770 non-null   object \n",
      " 15  date                   2758 non-null   object \n",
      " 16  sale_price             2673 non-null   float64\n",
      " 17  estimated_value        2524 non-null   float64\n",
      " 18  sex_offenders          2770 non-null   int64  \n",
      " 19  crime_index            2354 non-null   object \n",
      " 20  enviornmental_hazards  2770 non-null   int64  \n",
      " 21  natural_disasters      2770 non-null   int64  \n",
      " 22  school quality         2729 non-null   object \n",
      " 23  url                    2770 non-null   object \n",
      " 24  bedrooms               2552 non-null   float64\n",
      " 25  bathrooms              2552 non-null   float64\n",
      "dtypes: float64(12), int64(4), object(10)\n",
      "memory usage: 562.8+ KB\n"
     ]
    }
   ],
   "source": [
    "df.info()"
   ]
  },
  {
   "cell_type": "code",
   "execution_count": 19,
   "metadata": {},
   "outputs": [
    {
     "name": "stdout",
     "output_type": "stream",
     "text": [
      "Number of observations before removing missing values: 2770\n",
      "Number of observations after removing missing values: 1840\n"
     ]
    }
   ],
   "source": [
    "#Remove missing values for the target feature\n",
    "df.dropna(inplace=True)\n",
    "print(f'Number of observations before removing missing values: {raw_data.shape[0]}')\n",
    "print(f'Number of observations after removing missing values: {df.shape[0]}')"
   ]
  },
  {
   "cell_type": "code",
   "execution_count": 20,
   "metadata": {},
   "outputs": [],
   "source": [
    "#Convert date into a datetime object\n",
    "df['date'] = pd.to_datetime(df['date'])"
   ]
  },
  {
   "cell_type": "code",
   "execution_count": 21,
   "metadata": {},
   "outputs": [
    {
     "data": {
      "text/plain": [
       "0      2069-09-19\n",
       "1      2069-07-01\n",
       "2      2067-12-13\n",
       "3      2066-11-29\n",
       "4      2065-01-11\n",
       "          ...    \n",
       "1835   1971-12-09\n",
       "1836   1971-03-25\n",
       "1837   1971-01-15\n",
       "1838   1970-09-22\n",
       "1839   1970-02-10\n",
       "Name: date, Length: 1840, dtype: datetime64[ns]"
      ]
     },
     "execution_count": 21,
     "metadata": {},
     "output_type": "execute_result"
    }
   ],
   "source": [
    "df.sort_values(by='date', ascending=False, inplace=True, ignore_index=True)\n",
    "df['date']"
   ]
  },
  {
   "cell_type": "code",
   "execution_count": 22,
   "metadata": {
    "scrolled": false
   },
   "outputs": [
    {
     "data": {
      "text/plain": [
       "0      2020-09-28\n",
       "1      2020-09-28\n",
       "2      2020-09-28\n",
       "3      2020-09-28\n",
       "4      2020-09-28\n",
       "          ...    \n",
       "1835   1969-09-19\n",
       "1836   1969-07-01\n",
       "1837   1967-12-13\n",
       "1838   1966-11-29\n",
       "1839   1965-01-11\n",
       "Name: date, Length: 1840, dtype: datetime64[ns]"
      ]
     },
     "execution_count": 22,
     "metadata": {},
     "output_type": "execute_result"
    }
   ],
   "source": [
    "#Correct the dates\n",
    "df['date'] = df['date'].apply(lambda x: x.replace(year= x.year-100) if x.year>2020 else x)\n",
    "df.sort_values(by='date', ascending=False, inplace=True, ignore_index=True)\n",
    "df['date']"
   ]
  },
  {
   "cell_type": "code",
   "execution_count": 23,
   "metadata": {},
   "outputs": [
    {
     "data": {
      "text/plain": [
       "0       2020-09\n",
       "1       2020-09\n",
       "2       2020-09\n",
       "3       2020-09\n",
       "4       2020-09\n",
       "         ...   \n",
       "1835    1969-09\n",
       "1836    1969-07\n",
       "1837    1967-12\n",
       "1838    1966-11\n",
       "1839    1965-01\n",
       "Name: month, Length: 1840, dtype: period[M]"
      ]
     },
     "execution_count": 23,
     "metadata": {},
     "output_type": "execute_result"
    }
   ],
   "source": [
    "#Add a month and year column\n",
    "df['month'] = df['date'].dt.to_period('M')\n",
    "df['month']"
   ]
  },
  {
   "cell_type": "code",
   "execution_count": 193,
   "metadata": {
    "scrolled": true
   },
   "outputs": [
    {
     "data": {
      "image/png": "[encoded data removed]",
      "text/plain": [
       "<Figure size 864x576 with 1 Axes>"
      ]
     },
     "metadata": {
      "needs_background": "light"
     },
     "output_type": "display_data"
    }
   ],
   "source": [
    "#Examine the trend of saleprice by month\n",
    "df.groupby('month')['sale_price'].mean()[-12:].plot(figsize=(12,8))\n",
    "plt.ticklabel_format(style='plain', axis='y')\n",
    "#plt.xlim('2015-01', df['month'].max())\n",
    "plt.ylim(df['sale_price'].min(), 4000000)\n",
    "plt.title('Average Sale Price by Month');"
   ]
  },
  {
   "cell_type": "code",
   "execution_count": 194,
   "metadata": {
    "scrolled": false
   },
   "outputs": [
    {
     "data": {
      "image/png": "[encoded data removed]",
      "text/plain": [
       "<Figure size 360x360 with 1 Axes>"
      ]
     },
     "metadata": {
      "needs_background": "light"
     },
     "output_type": "display_data"
    }
   ],
   "source": [
    "chart = sns.displot(df['sale_price'], bins=100)\n",
    "plt.title('Sale Price')\n",
    "plt.ticklabel_format(style='plain', axis='x')\n",
    "chart.set(xticklabels=df['sale_price'])\n",
    "chart.set_xticklabels(rotation=45);"
   ]
  },
  {
   "cell_type": "code",
   "execution_count": 24,
   "metadata": {},
   "outputs": [
    {
     "name": "stdout",
     "output_type": "stream",
     "text": [
      "1960000.0\n",
      "Number of observations before removing outliers: 1840\n",
      "Number of observations after removing outliers: 1680\n"
     ]
    }
   ],
   "source": [
    "#This function will identify the outlier boundaries for a variable\n",
    "\n",
    "def find_skewed_boundaries(df, var, distance):\n",
    "    \n",
    "    IQR = df['sale_price'].quantile(.75) - df['sale_price'].quantile(.25)\n",
    "    \n",
    "    lower_boundary = df['sale_price'].quantile(.25) - (distance*IQR)\n",
    "    upper_boundary = df['sale_price'].quantile(.75) + (distance*IQR)\n",
    "    \n",
    "    return upper_boundary, lower_boundary\n",
    "\n",
    "\n",
    "sales_upper_boundary, sales_lower_boundary = find_skewed_boundaries(df, 'sale_price', 1.5)\n",
    "print(sales_upper_boundary)\n",
    "\n",
    "df_trimmed = df.loc[df['sale_price']<sales_upper_boundary,:]\n",
    "print(f'Number of observations before removing outliers: {df.shape[0]}')\n",
    "print(f'Number of observations after removing outliers: {df_trimmed.shape[0]}')"
   ]
  },
  {
   "cell_type": "code",
   "execution_count": 25,
   "metadata": {
    "scrolled": true
   },
   "outputs": [
    {
     "data": {
      "image/png": "[encoded data removed]",
      "text/plain": [
       "<Figure size 360x360 with 1 Axes>"
      ]
     },
     "metadata": {
      "needs_background": "light"
     },
     "output_type": "display_data"
    }
   ],
   "source": [
    "chart = sns.displot(df_trimmed['sale_price'], bins=100)\n",
    "plt.title('Sale Price with outliers removed')\n",
    "plt.ticklabel_format(style='plain', axis='x')\n",
    "chart.set(xticklabels=df_trimmed['sale_price'])\n",
    "chart.set_xticklabels(rotation=45);"
   ]
  },
  {
   "cell_type": "code",
   "execution_count": 26,
   "metadata": {
    "scrolled": true
   },
   "outputs": [
    {
     "name": "stdout",
     "output_type": "stream",
     "text": [
      "Number of categories for property_type: 10\n"
     ]
    },
    {
     "data": {
      "text/html": [
       "<div>\n",
       "<style scoped>\n",
       "    .dataframe tbody tr th:only-of-type {\n",
       "        vertical-align: middle;\n",
       "    }\n",
       "\n",
       "    .dataframe tbody tr th {\n",
       "        vertical-align: top;\n",
       "    }\n",
       "\n",
       "    .dataframe thead th {\n",
       "        text-align: right;\n",
       "    }\n",
       "</style>\n",
       "<table border=\"1\" class=\"dataframe\">\n",
       "  <thead>\n",
       "    <tr style=\"text-align: right;\">\n",
       "      <th></th>\n",
       "      <th>Average sale price</th>\n",
       "      <th>Count of property_type</th>\n",
       "      <th>Percentage of property type</th>\n",
       "    </tr>\n",
       "  </thead>\n",
       "  <tbody>\n",
       "    <tr>\n",
       "      <th>Single Family Residence</th>\n",
       "      <td>763881.27769</td>\n",
       "      <td>1210</td>\n",
       "      <td>0.72772</td>\n",
       "    </tr>\n",
       "    <tr>\n",
       "      <th>Condominium</th>\n",
       "      <td>640456.90657</td>\n",
       "      <td>289</td>\n",
       "      <td>0.16087</td>\n",
       "    </tr>\n",
       "    <tr>\n",
       "      <th>Duplex (2 units, any combination)</th>\n",
       "      <td>775358.97059</td>\n",
       "      <td>68</td>\n",
       "      <td>0.03859</td>\n",
       "    </tr>\n",
       "    <tr>\n",
       "      <th>Planned Unit Development (PUD)</th>\n",
       "      <td>681789.47368</td>\n",
       "      <td>57</td>\n",
       "      <td>0.03098</td>\n",
       "    </tr>\n",
       "    <tr>\n",
       "      <th>Triplex (3 units, any combination)</th>\n",
       "      <td>842978.26087</td>\n",
       "      <td>23</td>\n",
       "      <td>0.01467</td>\n",
       "    </tr>\n",
       "    <tr>\n",
       "      <th>Quadplex (4 Units, Any Combination)</th>\n",
       "      <td>1048968.75000</td>\n",
       "      <td>16</td>\n",
       "      <td>0.01141</td>\n",
       "    </tr>\n",
       "    <tr>\n",
       "      <th>Apartment house (5+ units)</th>\n",
       "      <td>1238782.50000</td>\n",
       "      <td>14</td>\n",
       "      <td>0.01413</td>\n",
       "    </tr>\n",
       "    <tr>\n",
       "      <th>MISCELLANEOUS   (Commercial)</th>\n",
       "      <td>675000.00000</td>\n",
       "      <td>1</td>\n",
       "      <td>0.00054</td>\n",
       "    </tr>\n",
       "    <tr>\n",
       "      <th>Religious, Church, Worship (Synagogue, Temple, Parsonage)</th>\n",
       "      <td>1500000.00000</td>\n",
       "      <td>1</td>\n",
       "      <td>0.00054</td>\n",
       "    </tr>\n",
       "    <tr>\n",
       "      <th>Residential - Vacant Land</th>\n",
       "      <td>493000.00000</td>\n",
       "      <td>1</td>\n",
       "      <td>0.00054</td>\n",
       "    </tr>\n",
       "  </tbody>\n",
       "</table>\n",
       "</div>"
      ],
      "text/plain": [
       "                                                    Average sale price  \\\n",
       "Single Family Residence                                   763881.27769   \n",
       "Condominium                                               640456.90657   \n",
       "Duplex (2 units, any combination)                         775358.97059   \n",
       "Planned Unit Development (PUD)                            681789.47368   \n",
       "Triplex (3 units, any combination)                        842978.26087   \n",
       "Quadplex (4 Units, Any Combination)                      1048968.75000   \n",
       "Apartment house (5+ units)                               1238782.50000   \n",
       "MISCELLANEOUS   (Commercial)                              675000.00000   \n",
       "Religious, Church, Worship (Synagogue, Temple, ...       1500000.00000   \n",
       "Residential - Vacant Land                                 493000.00000   \n",
       "\n",
       "                                                    Count of property_type  \\\n",
       "Single Family Residence                                               1210   \n",
       "Condominium                                                            289   \n",
       "Duplex (2 units, any combination)                                       68   \n",
       "Planned Unit Development (PUD)                                          57   \n",
       "Triplex (3 units, any combination)                                      23   \n",
       "Quadplex (4 Units, Any Combination)                                     16   \n",
       "Apartment house (5+ units)                                              14   \n",
       "MISCELLANEOUS   (Commercial)                                             1   \n",
       "Religious, Church, Worship (Synagogue, Temple, ...                       1   \n",
       "Residential - Vacant Land                                                1   \n",
       "\n",
       "                                                    Percentage of property type  \n",
       "Single Family Residence                                                 0.72772  \n",
       "Condominium                                                             0.16087  \n",
       "Duplex (2 units, any combination)                                       0.03859  \n",
       "Planned Unit Development (PUD)                                          0.03098  \n",
       "Triplex (3 units, any combination)                                      0.01467  \n",
       "Quadplex (4 Units, Any Combination)                                     0.01141  \n",
       "Apartment house (5+ units)                                              0.01413  \n",
       "MISCELLANEOUS   (Commercial)                                            0.00054  \n",
       "Religious, Church, Worship (Synagogue, Temple, ...                      0.00054  \n",
       "Residential - Vacant Land                                               0.00054  "
      ]
     },
     "execution_count": 26,
     "metadata": {},
     "output_type": "execute_result"
    }
   ],
   "source": [
    "temp = pd.concat([df_trimmed.groupby('property_type')['sale_price'].mean(), df_trimmed.groupby('property_type')['sale_price'].count(), df['property_type'].value_counts(normalize=True)], axis=1)\n",
    "temp.columns = ['Average sale price', 'Count of property_type', 'Percentage of property type']\n",
    "temp.sort_values(by=['Count of property_type'], axis=0,ascending=False, inplace=True)\n",
    "print(f'Number of categories for property_type: {df_trimmed.property_type.nunique()}')\n",
    "temp"
   ]
  },
  {
   "cell_type": "code",
   "execution_count": 27,
   "metadata": {},
   "outputs": [
    {
     "name": "stdout",
     "output_type": "stream",
     "text": [
      "Number of observations before removing infrequent property types: 1680\n",
      "Number of observations after removing infrequent property types: 1677\n"
     ]
    }
   ],
   "source": [
    "bad_prop_types = ['MISCELLANEOUS   (Commercial)', 'Religious, Church, Worship (Synagogue, Temple, Parsonage)', 'Residential - Vacant Land']\n",
    "print(f'Number of observations before removing infrequent property types: {df_trimmed.shape[0]}')\n",
    "\n",
    "for col in bad_prop_types:\n",
    "    df_trimmed.drop(df_trimmed.index[df_trimmed['property_type']==col],  inplace=True)\n",
    "    \n",
    "\n",
    "print(f'Number of observations after removing infrequent property types: {df_trimmed.shape[0]}')"
   ]
  },
  {
   "cell_type": "code",
   "execution_count": 28,
   "metadata": {},
   "outputs": [
    {
     "name": "stdout",
     "output_type": "stream",
     "text": [
      "Number of categories for property_type: 7\n"
     ]
    },
    {
     "data": {
      "text/html": [
       "<div>\n",
       "<style scoped>\n",
       "    .dataframe tbody tr th:only-of-type {\n",
       "        vertical-align: middle;\n",
       "    }\n",
       "\n",
       "    .dataframe tbody tr th {\n",
       "        vertical-align: top;\n",
       "    }\n",
       "\n",
       "    .dataframe thead th {\n",
       "        text-align: right;\n",
       "    }\n",
       "</style>\n",
       "<table border=\"1\" class=\"dataframe\">\n",
       "  <thead>\n",
       "    <tr style=\"text-align: right;\">\n",
       "      <th></th>\n",
       "      <th>Average sale price</th>\n",
       "      <th>Count of property_type</th>\n",
       "      <th>Percentage of property type</th>\n",
       "    </tr>\n",
       "  </thead>\n",
       "  <tbody>\n",
       "    <tr>\n",
       "      <th>Apartment house (5+ units)</th>\n",
       "      <td>1238782.50000</td>\n",
       "      <td>14.00000</td>\n",
       "      <td>0.01413</td>\n",
       "    </tr>\n",
       "    <tr>\n",
       "      <th>Quadplex (4 Units, Any Combination)</th>\n",
       "      <td>1048968.75000</td>\n",
       "      <td>16.00000</td>\n",
       "      <td>0.01141</td>\n",
       "    </tr>\n",
       "    <tr>\n",
       "      <th>Triplex (3 units, any combination)</th>\n",
       "      <td>842978.26087</td>\n",
       "      <td>23.00000</td>\n",
       "      <td>0.01467</td>\n",
       "    </tr>\n",
       "    <tr>\n",
       "      <th>Duplex (2 units, any combination)</th>\n",
       "      <td>775358.97059</td>\n",
       "      <td>68.00000</td>\n",
       "      <td>0.03859</td>\n",
       "    </tr>\n",
       "    <tr>\n",
       "      <th>Single Family Residence</th>\n",
       "      <td>763881.27769</td>\n",
       "      <td>1210.00000</td>\n",
       "      <td>0.72772</td>\n",
       "    </tr>\n",
       "    <tr>\n",
       "      <th>Planned Unit Development (PUD)</th>\n",
       "      <td>681789.47368</td>\n",
       "      <td>57.00000</td>\n",
       "      <td>0.03098</td>\n",
       "    </tr>\n",
       "    <tr>\n",
       "      <th>Condominium</th>\n",
       "      <td>640456.90657</td>\n",
       "      <td>289.00000</td>\n",
       "      <td>0.16087</td>\n",
       "    </tr>\n",
       "    <tr>\n",
       "      <th>Residential - Vacant Land</th>\n",
       "      <td>nan</td>\n",
       "      <td>nan</td>\n",
       "      <td>0.00054</td>\n",
       "    </tr>\n",
       "    <tr>\n",
       "      <th>MISCELLANEOUS   (Commercial)</th>\n",
       "      <td>nan</td>\n",
       "      <td>nan</td>\n",
       "      <td>0.00054</td>\n",
       "    </tr>\n",
       "    <tr>\n",
       "      <th>Religious, Church, Worship (Synagogue, Temple, Parsonage)</th>\n",
       "      <td>nan</td>\n",
       "      <td>nan</td>\n",
       "      <td>0.00054</td>\n",
       "    </tr>\n",
       "  </tbody>\n",
       "</table>\n",
       "</div>"
      ],
      "text/plain": [
       "                                                    Average sale price  \\\n",
       "Apartment house (5+ units)                               1238782.50000   \n",
       "Quadplex (4 Units, Any Combination)                      1048968.75000   \n",
       "Triplex (3 units, any combination)                        842978.26087   \n",
       "Duplex (2 units, any combination)                         775358.97059   \n",
       "Single Family Residence                                   763881.27769   \n",
       "Planned Unit Development (PUD)                            681789.47368   \n",
       "Condominium                                               640456.90657   \n",
       "Residential - Vacant Land                                          nan   \n",
       "MISCELLANEOUS   (Commercial)                                       nan   \n",
       "Religious, Church, Worship (Synagogue, Temple, ...                 nan   \n",
       "\n",
       "                                                    Count of property_type  \\\n",
       "Apartment house (5+ units)                                        14.00000   \n",
       "Quadplex (4 Units, Any Combination)                               16.00000   \n",
       "Triplex (3 units, any combination)                                23.00000   \n",
       "Duplex (2 units, any combination)                                 68.00000   \n",
       "Single Family Residence                                         1210.00000   \n",
       "Planned Unit Development (PUD)                                    57.00000   \n",
       "Condominium                                                      289.00000   \n",
       "Residential - Vacant Land                                              nan   \n",
       "MISCELLANEOUS   (Commercial)                                           nan   \n",
       "Religious, Church, Worship (Synagogue, Temple, ...                     nan   \n",
       "\n",
       "                                                    Percentage of property type  \n",
       "Apartment house (5+ units)                                              0.01413  \n",
       "Quadplex (4 Units, Any Combination)                                     0.01141  \n",
       "Triplex (3 units, any combination)                                      0.01467  \n",
       "Duplex (2 units, any combination)                                       0.03859  \n",
       "Single Family Residence                                                 0.72772  \n",
       "Planned Unit Development (PUD)                                          0.03098  \n",
       "Condominium                                                             0.16087  \n",
       "Residential - Vacant Land                                               0.00054  \n",
       "MISCELLANEOUS   (Commercial)                                            0.00054  \n",
       "Religious, Church, Worship (Synagogue, Temple, ...                      0.00054  "
      ]
     },
     "execution_count": 28,
     "metadata": {},
     "output_type": "execute_result"
    }
   ],
   "source": [
    "temp2 = pd.concat([df_trimmed.groupby('property_type')['sale_price'].mean(), df_trimmed.groupby('property_type')['sale_price'].count(), df['property_type'].value_counts(normalize=True)], axis=1)\n",
    "temp2.columns = ['Average sale price', 'Count of property_type', 'Percentage of property type']\n",
    "temp2.sort_values(by=['Average sale price'], axis=0,ascending=False, inplace=True)\n",
    "print(f'Number of categories for property_type: {df_trimmed.property_type.nunique()}')\n",
    "temp2"
   ]
  },
  {
   "cell_type": "code",
   "execution_count": 13,
   "metadata": {
    "scrolled": true
   },
   "outputs": [
    {
     "data": {
      "text/plain": [
       "<AxesSubplot:>"
      ]
     },
     "execution_count": 13,
     "metadata": {},
     "output_type": "execute_result"
    },
    {
     "data": {
      "image/png": "[encoded data removed]",
      "text/plain": [
       "<Figure size 864x648 with 2 Axes>"
      ]
     },
     "metadata": {
      "needs_background": "light"
     },
     "output_type": "display_data"
    }
   ],
   "source": [
    "corrmat = df_trimmed.corr()\n",
    "f, ax = plt.subplots(figsize=(12, 9))\n",
    "sns.heatmap(corrmat)"
   ]
  },
  {
   "cell_type": "code",
   "execution_count": 103,
   "metadata": {},
   "outputs": [
    {
     "data": {
      "text/plain": [
       "crime_index              407\n",
       "estimated_value          239\n",
       "bathrooms                209\n",
       "bedrooms                 209\n",
       "subdivision              199\n",
       "lot                      175\n",
       "home_size                126\n",
       "year_built               105\n",
       "lot_size                  45\n",
       "school quality            40\n",
       "latitude                  34\n",
       "longitude                 34\n",
       "tract                     32\n",
       "census                    32\n",
       "address                    5\n",
       "realtyID                   1\n",
       "zoning                     0\n",
       "date                       0\n",
       "sale_price                 0\n",
       "county                     0\n",
       "parcel_number              0\n",
       "sex_offenders              0\n",
       "enviornmental_hazards      0\n",
       "natural_disasters          0\n",
       "property_type              0\n",
       "url                        0\n",
       "pra                        0\n",
       "dtype: int64"
      ]
     },
     "execution_count": 103,
     "metadata": {},
     "output_type": "execute_result"
    }
   ],
   "source": [
    "df.isnull().sum().sort_values(ascending=False)"
   ]
  },
  {
   "cell_type": "code",
   "execution_count": 108,
   "metadata": {
    "scrolled": false
   },
   "outputs": [
    {
     "data": {
      "text/html": [
       "<div>\n",
       "<style scoped>\n",
       "    .dataframe tbody tr th:only-of-type {\n",
       "        vertical-align: middle;\n",
       "    }\n",
       "\n",
       "    .dataframe tbody tr th {\n",
       "        vertical-align: top;\n",
       "    }\n",
       "\n",
       "    .dataframe thead th {\n",
       "        text-align: right;\n",
       "    }\n",
       "</style>\n",
       "<table border=\"1\" class=\"dataframe\">\n",
       "  <thead>\n",
       "    <tr style=\"text-align: right;\">\n",
       "      <th></th>\n",
       "      <th>Average sale price</th>\n",
       "      <th>Count of crime index</th>\n",
       "    </tr>\n",
       "    <tr>\n",
       "      <th>crime_index</th>\n",
       "      <th></th>\n",
       "      <th></th>\n",
       "    </tr>\n",
       "  </thead>\n",
       "  <tbody>\n",
       "    <tr>\n",
       "      <th>High</th>\n",
       "      <td>1007000.00000</td>\n",
       "      <td>18</td>\n",
       "    </tr>\n",
       "    <tr>\n",
       "      <th>Low</th>\n",
       "      <td>940191.05556</td>\n",
       "      <td>684</td>\n",
       "    </tr>\n",
       "    <tr>\n",
       "      <th>Moderate</th>\n",
       "      <td>1009516.59125</td>\n",
       "      <td>663</td>\n",
       "    </tr>\n",
       "    <tr>\n",
       "      <th>Moderately High</th>\n",
       "      <td>738605.26316</td>\n",
       "      <td>57</td>\n",
       "    </tr>\n",
       "    <tr>\n",
       "      <th>Slightly High</th>\n",
       "      <td>1424125.22527</td>\n",
       "      <td>657</td>\n",
       "    </tr>\n",
       "    <tr>\n",
       "      <th>Very High</th>\n",
       "      <td>3714000.00000</td>\n",
       "      <td>3</td>\n",
       "    </tr>\n",
       "    <tr>\n",
       "      <th>Very Low</th>\n",
       "      <td>1084731.37500</td>\n",
       "      <td>184</td>\n",
       "    </tr>\n",
       "  </tbody>\n",
       "</table>\n",
       "</div>"
      ],
      "text/plain": [
       "                 Average sale price  Count of crime index\n",
       "crime_index                                              \n",
       "High                  1007000.00000                    18\n",
       "Low                    940191.05556                   684\n",
       "Moderate              1009516.59125                   663\n",
       "Moderately High        738605.26316                    57\n",
       "Slightly High         1424125.22527                   657\n",
       "Very High             3714000.00000                     3\n",
       "Very Low              1084731.37500                   184"
      ]
     },
     "execution_count": 108,
     "metadata": {},
     "output_type": "execute_result"
    }
   ],
   "source": [
    "temp = pd.concat([df.groupby('crime_index')['sale_price'].mean(), df.groupby('crime_index')['sale_price'].count()], axis=1)\n",
    "temp.columns = ['Average sale price', 'Count of crime index']\n",
    "temp"
   ]
  },
  {
   "cell_type": "code",
   "execution_count": 123,
   "metadata": {
    "scrolled": false
   },
   "outputs": [
    {
     "data": {
      "image/png": "[encoded data removed]",
      "text/plain": [
       "<Figure size 432x288 with 1 Axes>"
      ]
     },
     "metadata": {
      "needs_background": "light"
     },
     "output_type": "display_data"
    }
   ],
   "source": [
    "order=['Very High', 'High', 'Moderately High', 'Slightly High' 'Moderate', 'Low', 'Very Low']\n",
    "\n",
    "\n",
    "boxplot = sns.boxplot(x='crime_index', y='sale_price', data=df, order=order)\n",
    "plt.ylim(0,8000000)\n",
    "plt.ticklabel_format(style='plain', axis='y')"
   ]
  },
  {
   "cell_type": "code",
   "execution_count": 109,
   "metadata": {},
   "outputs": [
    {
     "data": {
      "text/plain": [
       "2266"
      ]
     },
     "execution_count": 109,
     "metadata": {},
     "output_type": "execute_result"
    }
   ],
   "source": [
    "np.sum(df2['Count of crime index'])"
   ]
  },
  {
   "cell_type": "code",
   "execution_count": 110,
   "metadata": {
    "scrolled": true
   },
   "outputs": [
    {
     "data": {
      "text/plain": [
       "(2673, 27)"
      ]
     },
     "execution_count": 110,
     "metadata": {},
     "output_type": "execute_result"
    }
   ],
   "source": [
    "df.shape"
   ]
  },
  {
   "cell_type": "code",
   "execution_count": 58,
   "metadata": {
    "scrolled": false
   },
   "outputs": [],
   "source": [
    "#df.index = pd.to_datetime(df['date'], format='%Y-%m-%d')\n",
    "#df.index.freq = 'D'\n",
    "#df.index"
   ]
  },
  {
   "cell_type": "code",
   "execution_count": 30,
   "metadata": {},
   "outputs": [],
   "source": [
    "df_trimmed.to_csv('Data/house_data_details_eda.csv', index=False)"
   ]
  }
 ],
 "metadata": {
  "kernelspec": {
   "display_name": "Python 3",
   "language": "python",
   "name": "python3"
  },
  "language_info": {
   "codemirror_mode": {
    "name": "ipython",
    "version": 3
   },
   "file_extension": ".py",
   "mimetype": "text/x-python",
   "name": "python",
   "nbconvert_exporter": "python",
   "pygments_lexer": "ipython3",
   "version": "3.7.6"
  }
 },
 "nbformat": 4,
 "nbformat_minor": 4
}
