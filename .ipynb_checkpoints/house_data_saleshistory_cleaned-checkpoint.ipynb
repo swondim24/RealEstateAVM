{
 "cells": [
  {
   "cell_type": "code",
   "execution_count": 1,
   "metadata": {},
   "outputs": [],
   "source": [
    "import pandas as pd"
   ]
  },
  {
   "cell_type": "code",
   "execution_count": 23,
   "metadata": {},
   "outputs": [
    {
     "data": {
      "text/html": [
       "<div>\n",
       "<style scoped>\n",
       "    .dataframe tbody tr th:only-of-type {\n",
       "        vertical-align: middle;\n",
       "    }\n",
       "\n",
       "    .dataframe tbody tr th {\n",
       "        vertical-align: top;\n",
       "    }\n",
       "\n",
       "    .dataframe thead th {\n",
       "        text-align: right;\n",
       "    }\n",
       "</style>\n",
       "<table border=\"1\" class=\"dataframe\">\n",
       "  <thead>\n",
       "    <tr style=\"text-align: right;\">\n",
       "      <th></th>\n",
       "      <th>parcel_number</th>\n",
       "      <th>date</th>\n",
       "      <th>price</th>\n",
       "      <th>price_sqft</th>\n",
       "    </tr>\n",
       "  </thead>\n",
       "  <tbody>\n",
       "    <tr>\n",
       "      <th>0</th>\n",
       "      <td>6357012043</td>\n",
       "      <td>\\n9/28/2020</td>\n",
       "      <td>\\n$469,000</td>\n",
       "      <td>\\n$346</td>\n",
       "    </tr>\n",
       "    <tr>\n",
       "      <th>1</th>\n",
       "      <td>6357012043</td>\n",
       "      <td>\\n9/28/2020</td>\n",
       "      <td>\\n$469,000</td>\n",
       "      <td>\\n$346</td>\n",
       "    </tr>\n",
       "    <tr>\n",
       "      <th>2</th>\n",
       "      <td>2356037034</td>\n",
       "      <td>\\n9/28/2020</td>\n",
       "      <td>\\n$1,910,000</td>\n",
       "      <td>\\n$849</td>\n",
       "    </tr>\n",
       "    <tr>\n",
       "      <th>3</th>\n",
       "      <td>2356037034</td>\n",
       "      <td>\\n9/28/2020</td>\n",
       "      <td>\\n$1,910,000</td>\n",
       "      <td>\\n$849</td>\n",
       "    </tr>\n",
       "    <tr>\n",
       "      <th>4</th>\n",
       "      <td>3242015023</td>\n",
       "      <td>\\n9/28/2020</td>\n",
       "      <td>\\n$325,000</td>\n",
       "      <td>\\n$224</td>\n",
       "    </tr>\n",
       "  </tbody>\n",
       "</table>\n",
       "</div>"
      ],
      "text/plain": [
       "   parcel_number                                 date  \\\n",
       "0     6357012043  \\n9/28/2020                           \n",
       "1     6357012043  \\n9/28/2020                           \n",
       "2     2356037034  \\n9/28/2020                           \n",
       "3     2356037034  \\n9/28/2020                           \n",
       "4     3242015023  \\n9/28/2020                           \n",
       "\n",
       "                                  price                      price_sqft  \n",
       "0    \\n$469,000                          \\n$346                          \n",
       "1    \\n$469,000                          \\n$346                          \n",
       "2  \\n$1,910,000                          \\n$849                          \n",
       "3  \\n$1,910,000                          \\n$849                          \n",
       "4    \\n$325,000                          \\n$224                          "
      ]
     },
     "execution_count": 23,
     "metadata": {},
     "output_type": "execute_result"
    }
   ],
   "source": [
    "df = pd.read_csv('Data/house_data_saleshistory_scraped.csv')\n",
    "df.head()"
   ]
  },
  {
   "cell_type": "code",
   "execution_count": 24,
   "metadata": {},
   "outputs": [
    {
     "data": {
      "text/html": [
       "<div>\n",
       "<style scoped>\n",
       "    .dataframe tbody tr th:only-of-type {\n",
       "        vertical-align: middle;\n",
       "    }\n",
       "\n",
       "    .dataframe tbody tr th {\n",
       "        vertical-align: top;\n",
       "    }\n",
       "\n",
       "    .dataframe thead th {\n",
       "        text-align: right;\n",
       "    }\n",
       "</style>\n",
       "<table border=\"1\" class=\"dataframe\">\n",
       "  <thead>\n",
       "    <tr style=\"text-align: right;\">\n",
       "      <th></th>\n",
       "      <th>parcel_number</th>\n",
       "      <th>date</th>\n",
       "      <th>price</th>\n",
       "      <th>price_sqft</th>\n",
       "    </tr>\n",
       "  </thead>\n",
       "  <tbody>\n",
       "    <tr>\n",
       "      <th>0</th>\n",
       "      <td>6357012043</td>\n",
       "      <td>9/28/2020</td>\n",
       "      <td>469000</td>\n",
       "      <td>346</td>\n",
       "    </tr>\n",
       "    <tr>\n",
       "      <th>1</th>\n",
       "      <td>6357012043</td>\n",
       "      <td>9/28/2020</td>\n",
       "      <td>469000</td>\n",
       "      <td>346</td>\n",
       "    </tr>\n",
       "    <tr>\n",
       "      <th>2</th>\n",
       "      <td>2356037034</td>\n",
       "      <td>9/28/2020</td>\n",
       "      <td>1910000</td>\n",
       "      <td>849</td>\n",
       "    </tr>\n",
       "    <tr>\n",
       "      <th>3</th>\n",
       "      <td>2356037034</td>\n",
       "      <td>9/28/2020</td>\n",
       "      <td>1910000</td>\n",
       "      <td>849</td>\n",
       "    </tr>\n",
       "    <tr>\n",
       "      <th>4</th>\n",
       "      <td>3242015023</td>\n",
       "      <td>9/28/2020</td>\n",
       "      <td>325000</td>\n",
       "      <td>224</td>\n",
       "    </tr>\n",
       "  </tbody>\n",
       "</table>\n",
       "</div>"
      ],
      "text/plain": [
       "   parcel_number       date    price price_sqft\n",
       "0     6357012043  9/28/2020   469000        346\n",
       "1     6357012043  9/28/2020   469000        346\n",
       "2     2356037034  9/28/2020  1910000        849\n",
       "3     2356037034  9/28/2020  1910000        849\n",
       "4     3242015023  9/28/2020   325000        224"
      ]
     },
     "execution_count": 24,
     "metadata": {},
     "output_type": "execute_result"
    }
   ],
   "source": [
    "#Remove all of the extra white space for date\n",
    "df['date'] = df['date'].replace('\\s', '', regex=True)\n",
    "\n",
    "#Keep all of the digits for price and price_sqft\n",
    "df['price'] = df['price'].replace('\\D', '', regex=True)\n",
    "df['price_sqft'] = df['price_sqft'].replace('\\D', '', regex=True)\n",
    "df.head()"
   ]
  },
  {
   "cell_type": "code",
   "execution_count": 25,
   "metadata": {},
   "outputs": [
    {
     "data": {
      "text/plain": [
       "parcel_number     int64\n",
       "date             object\n",
       "price            object\n",
       "price_sqft       object\n",
       "dtype: object"
      ]
     },
     "execution_count": 25,
     "metadata": {},
     "output_type": "execute_result"
    }
   ],
   "source": [
    "#Convert the features into the correct data types\n",
    "df.dtypes"
   ]
  },
  {
   "cell_type": "code",
   "execution_count": 26,
   "metadata": {},
   "outputs": [],
   "source": [
    "df['date'] = pd.to_datetime(df['date'])\n",
    "df['price'] = pd.to_numeric(df['price'])\n",
    "df['price_sqft'] = pd.to_numeric(df['price_sqft'])"
   ]
  },
  {
   "cell_type": "code",
   "execution_count": 27,
   "metadata": {},
   "outputs": [
    {
     "data": {
      "text/plain": [
       "parcel_number             int64\n",
       "date             datetime64[ns]\n",
       "price                   float64\n",
       "price_sqft              float64\n",
       "dtype: object"
      ]
     },
     "execution_count": 27,
     "metadata": {},
     "output_type": "execute_result"
    }
   ],
   "source": [
    "df.dtypes"
   ]
  },
  {
   "cell_type": "code",
   "execution_count": 29,
   "metadata": {},
   "outputs": [],
   "source": [
    "df.to_csv('Data/house_data_saleshistory_cleaned.csv', index=False)"
   ]
  }
 ],
 "metadata": {
  "kernelspec": {
   "display_name": "Python 3",
   "language": "python",
   "name": "python3"
  },
  "language_info": {
   "codemirror_mode": {
    "name": "ipython",
    "version": 3
   },
   "file_extension": ".py",
   "mimetype": "text/x-python",
   "name": "python",
   "nbconvert_exporter": "python",
   "pygments_lexer": "ipython3",
   "version": "3.7.6"
  }
 },
 "nbformat": 4,
 "nbformat_minor": 4
}
