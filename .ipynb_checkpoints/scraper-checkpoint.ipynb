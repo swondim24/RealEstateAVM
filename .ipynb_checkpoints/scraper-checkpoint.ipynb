{
 "cells": [
  {
   "cell_type": "code",
   "execution_count": 4,
   "metadata": {},
   "outputs": [],
   "source": [
    "#Import the necessary modules\n",
    "import requests\n",
    "from bs4 import BeautifulSoup\n",
    "import pandas as pd"
   ]
  },
  {
   "cell_type": "code",
   "execution_count": 65,
   "metadata": {},
   "outputs": [],
   "source": [
    "#Create the base url  \n",
    "base_url = 'https://www.realtytrac.com/'\n",
    "\n",
    "#Create a search for the LA area\n",
    "la_search = 'mapsearch/sold/ca/los-angeles-county/'"
   ]
  },
  {
   "cell_type": "code",
   "execution_count": 66,
   "metadata": {},
   "outputs": [],
   "source": [
    "#Grab the website content and store it in a BeautifulSoup object\n",
    "response = requests.get(base_url+la_search)\n",
    "soup = BeautifulSoup(response.content, 'html.parser')"
   ]
  },
  {
   "cell_type": "code",
   "execution_count": 71,
   "metadata": {},
   "outputs": [
    {
     "name": "stdout",
     "output_type": "stream",
     "text": [
      "The number of houses you will scrape is 200\n"
     ]
    }
   ],
   "source": [
    "houses = soup.find_all('div', class_=\"house alt clearfix\")\n",
    "#Number of pages to run the scraper through\n",
    "num_pages = 20\n",
    "\n",
    "print(f'The number of houses you will scrape is {len(houses)*num_pages}')"
   ]
  },
  {
   "cell_type": "code",
   "execution_count": 68,
   "metadata": {},
   "outputs": [],
   "source": [
    "absolute_links = []\n",
    "\n",
    "for i in range(num_pages):\n",
    "    page = soup.find_all('div', class_=\"house alt clearfix\")\n",
    "    \n",
    "    for house in page:\n",
    "        absolute_links.append(base_url+house.find('a')['href'])"
   ]
  },
  {
   "cell_type": "code",
   "execution_count": 76,
   "metadata": {},
   "outputs": [],
   "source": [
    "#Create the function that extracts the attributes for each house(link)\n",
    "\n",
    "df = pd.DataFrame(columns=['Address', 'Property_type'])\n",
    "\n",
    "def find_details(house):\n",
    "    #Address\n",
    "    address = house.find('span', class_='address heading').text\n",
    "    \n",
    "    #Property Details\n",
    "    details = house.find('ul', class_='detail-list')\n",
    "    add_details = details.find_all('li', itemprop='additionalProperty' )\n",
    "    \n",
    "    #Residential Bilding Types\n",
    "    prop_type = details.find('span', itemprop='name').text\n",
    "    \n",
    "    #Rooms\n",
    "    rooms = details.find('span', itemprop='description').text\n",
    "    \n",
    "    #Home Size\n",
    "    home_size = add_details[0].find('span', itemprop='value').text\n",
    "    home_unit = add_details[0].find('span', itemprop='unitText').text\n",
    "    \n",
    "    #Lot Size\n",
    "    lot_size = add_details[1].find('span', itemprop='value').text\n",
    "    lot_unit = add_details[1].find('span', itemprop='unitText').text\n",
    "    \n",
    "    #Year Built\n",
    "    year_built = add_details[2].find('span', itemprop='value').text\n",
    "    \n",
    "    #Parcel Number\n",
    "    parcel = add_details[3].find('span', itemprop='propertyID').text\n",
    "    \n",
    "    #RealtyTracPropteryID\n",
    "    realty = add_details[4].find('span', itemprop='value').text\n",
    "    \n",
    "    #County\n",
    "    county = add_details[5].find('span', itemprop='description').text\n",
    "    \n",
    "    #Subdivision\n",
    "    sub = add_details[6].find('span', itemprop='value').text\n",
    "    \n",
    "    #Census\n",
    "    census = add_details[7].find('span', itemprop='value').text\n",
    "    \n",
    "    #Tract\n",
    "    tract = add_details[8].find('span', itemprop='value').text\n",
    "    \n",
    "    #Lot\n",
    "    try:\n",
    "        lot = add_details[9].find('span', itemprop='value').text\n",
    "    except:\n",
    "        lot = None\n",
    "    \n",
    "    #Zoning\n",
    "    zoning = details.find_all('li')[12].text\n",
    "    \n",
    "    #Sales History\n",
    "    sales = soup.find('section', id='occupancy-link').find_all('tr')\n",
    "\n",
    "    date = sales[5].find('td', class_='col2').text #Date\n",
    "    sale_price = sales[4].find('td', class_='col2').text #Sale Price\n",
    "    \n",
    "    #Estimated Value\n",
    "    est = house.find('div', class_='rate-row access')\n",
    "    try:\n",
    "        estimate = est.find('strong', class_='price').text\n",
    "    except:\n",
    "        estimate= None\n",
    "    \n",
    "    #Home Disclosures\n",
    "    disc = house.find('div', id=\"collapsePropertyHomeDisclosuresArea\")\n",
    "    \n",
    "    #Need help rendering the javascript portion\n",
    "    \n",
    "    #sex_offenders = disc.find('li', class_='offenders alert').find('span', class_='hd-label').text\n",
    "    #crime_index = disc.find('li', class_='crime concern').find('span', class_='hd-label').text\n",
    "    #env_hazards = disc.find('li', class_='enviornmental alert').find('span', class_='hd-label').text\n",
    "    #natural_disasters = disc.find('li', class_='disaster alert').find('span', class_='hd-label').text\n",
    "    #school_index = disc.find('li', class_='schools alert').find('span', class_='hd-label').text\n",
    "    \n",
    "    #Create the df to be returned\n",
    "    df = pd.DataFrame({\n",
    "                       'Address':[address],\n",
    "                       'Property_type': [prop_type],\n",
    "                       'Rooms': [rooms],\n",
    "                       'Home_size': [home_size+home_unit],\n",
    "                       'Lot Size': [lot_size+lot_unit],\n",
    "                       'Year_built': [year_built],\n",
    "                       'Parcel_number': [parcel],\n",
    "                       'RealtyID': [realty],\n",
    "                       'County': [county],\n",
    "                       'Subdivision': [sub],\n",
    "                       'Census': [census],\n",
    "                       'Tract': [tract],\n",
    "                       'Lot': [lot],\n",
    "                       'Zoning': [zoning],\n",
    "                       'Date': [date],\n",
    "                       'Sale_price': [sale_price],\n",
    "                       'Estimated Value': [estimate]\n",
    "                       #'Sex_Offenders': [sex_offenders],\n",
    "                       #'Crime_index': [crime_index],\n",
    "                       #'Enviornmental_Hazards': [env_hazards],\n",
    "                       #'School Quality': [school_index]\n",
    "                      })\n",
    "    \n",
    "    return df  "
   ]
  },
  {
   "cell_type": "code",
   "execution_count": 77,
   "metadata": {
    "scrolled": false
   },
   "outputs": [
    {
     "name": "stdout",
     "output_type": "stream",
     "text": [
      "Scraped 50 houses\n"
     ]
    }
   ],
   "source": [
    "#Loop through the houses and grab all of the data\n",
    "\n",
    "for i in range(len(absolute_links)):\n",
    "    house_detail = requests.get(absolute_links[i])\n",
    "    soup = BeautifulSoup(house_detail.content, 'html.parser')\n",
    "    df = df.append(find_details(soup), ignore_index=True)\n",
    "    if i%50 ==0:\n",
    "        print(f'Scraped {df.shape[0]} houses')"
   ]
  },
  {
   "cell_type": "code",
   "execution_count": 86,
   "metadata": {},
   "outputs": [],
   "source": [
    "#Save the dataframe to a csv file\n",
    "df.to_csv('house_data.csv', index=False)"
   ]
  }
 ],
 "metadata": {
  "kernelspec": {
   "display_name": "Python 3",
   "language": "python",
   "name": "python3"
  },
  "language_info": {
   "codemirror_mode": {
    "name": "ipython",
    "version": 3
   },
   "file_extension": ".py",
   "mimetype": "text/x-python",
   "name": "python",
   "nbconvert_exporter": "python",
   "pygments_lexer": "ipython3",
   "version": "3.7.6"
  }
 },
 "nbformat": 4,
 "nbformat_minor": 4
}
