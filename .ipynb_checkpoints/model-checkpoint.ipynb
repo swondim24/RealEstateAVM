{
 "cells": [
  {
   "cell_type": "code",
   "execution_count": 108,
   "metadata": {},
   "outputs": [],
   "source": [
    "import pandas as pd\n",
    "import numpy as np\n",
    "import mysql.connector as sql\n",
    "import geopandas as gpd\n",
    "from shapely.geometry import Point\n",
    "from sklearn.linear_model import LinearRegression\n",
    "from sklearn.ensemble import RandomForestRegressor\n",
    "from sklearn.metrics import mean_squared_error\n",
    "from sklearn.model_selection import train_test_split\n",
    "from feature_engine.categorical_encoders import MeanCategoricalEncoder\n",
    "\n",
    "import warnings\n",
    "warnings.filterwarnings('ignore')\n",
    "\n",
    "pd.options.display.float_format = '{:.5f}'.format"
   ]
  },
  {
   "cell_type": "code",
   "execution_count": 82,
   "metadata": {
    "scrolled": true
   },
   "outputs": [],
   "source": [
    "#df = pd.read_csv('Data/house_data_details_eda.csv')\n",
    "#points = df.apply(lambda row: Point(row.longitude, row.latitude), axis=1) #Changing long and lat into shape\n",
    "#gdf = gpd.GeoDataFrame(df, geometry=points)\n",
    "#gdf.crs = {'init': 'epsg:4326'}\n",
    "#gdf.head()"
   ]
  },
  {
   "cell_type": "code",
   "execution_count": 83,
   "metadata": {},
   "outputs": [],
   "source": [
    "#gdf.plot()"
   ]
  },
  {
   "cell_type": "code",
   "execution_count": 84,
   "metadata": {},
   "outputs": [],
   "source": [
    "#db_connection = sql.connect(host='Samuels-MacBook-Air.local', database='realestate_AVM',\n",
    "#                            user='root', password='Building9Floor')"
   ]
  },
  {
   "cell_type": "code",
   "execution_count": 85,
   "metadata": {
    "scrolled": false
   },
   "outputs": [],
   "source": [
    "#df = pd.read_sql('SELECT * FROM properties;', con=db_connection)\n",
    "#df.head()"
   ]
  },
  {
   "cell_type": "code",
   "execution_count": 98,
   "metadata": {},
   "outputs": [
    {
     "data": {
      "text/html": [
       "<div>\n",
       "<style scoped>\n",
       "    .dataframe tbody tr th:only-of-type {\n",
       "        vertical-align: middle;\n",
       "    }\n",
       "\n",
       "    .dataframe tbody tr th {\n",
       "        vertical-align: top;\n",
       "    }\n",
       "\n",
       "    .dataframe thead th {\n",
       "        text-align: right;\n",
       "    }\n",
       "</style>\n",
       "<table border=\"1\" class=\"dataframe\">\n",
       "  <thead>\n",
       "    <tr style=\"text-align: right;\">\n",
       "      <th></th>\n",
       "      <th>longitude</th>\n",
       "      <th>latitude</th>\n",
       "      <th>address</th>\n",
       "      <th>property_type</th>\n",
       "      <th>home_size</th>\n",
       "      <th>lot_size</th>\n",
       "      <th>year_built</th>\n",
       "      <th>parcel_number</th>\n",
       "      <th>realtyID</th>\n",
       "      <th>county</th>\n",
       "      <th>...</th>\n",
       "      <th>estimated_value</th>\n",
       "      <th>sex_offenders</th>\n",
       "      <th>crime_index</th>\n",
       "      <th>enviornmental_hazards</th>\n",
       "      <th>natural_disasters</th>\n",
       "      <th>school quality</th>\n",
       "      <th>url</th>\n",
       "      <th>bedrooms</th>\n",
       "      <th>bathrooms</th>\n",
       "      <th>month</th>\n",
       "    </tr>\n",
       "  </thead>\n",
       "  <tbody>\n",
       "    <tr>\n",
       "      <th>0</th>\n",
       "      <td>-118.21962</td>\n",
       "      <td>33.95000</td>\n",
       "      <td>2905 Ohio Ave</td>\n",
       "      <td>Single Family Residence</td>\n",
       "      <td>1749.00000</td>\n",
       "      <td>5434.00000</td>\n",
       "      <td>1936.00000</td>\n",
       "      <td>6206003002</td>\n",
       "      <td>1111068555.00000</td>\n",
       "      <td>Los Angeles</td>\n",
       "      <td>...</td>\n",
       "      <td>526000.00000</td>\n",
       "      <td>22</td>\n",
       "      <td>Slightly High</td>\n",
       "      <td>12</td>\n",
       "      <td>1</td>\n",
       "      <td>Poor</td>\n",
       "      <td>https://www.realtytrac.com/property/ca/south-g...</td>\n",
       "      <td>3.00000</td>\n",
       "      <td>2.00000</td>\n",
       "      <td>2020-09</td>\n",
       "    </tr>\n",
       "    <tr>\n",
       "      <th>1</th>\n",
       "      <td>-118.23941</td>\n",
       "      <td>34.15505</td>\n",
       "      <td>622 Naranja Dr</td>\n",
       "      <td>Quadplex (4 Units, Any Combination)</td>\n",
       "      <td>4764.00000</td>\n",
       "      <td>6395.00000</td>\n",
       "      <td>1930.00000</td>\n",
       "      <td>5646016007</td>\n",
       "      <td>1111057331.00000</td>\n",
       "      <td>Los Angeles</td>\n",
       "      <td>...</td>\n",
       "      <td>1474000.00000</td>\n",
       "      <td>1</td>\n",
       "      <td>Low</td>\n",
       "      <td>4</td>\n",
       "      <td>1</td>\n",
       "      <td>Above Average</td>\n",
       "      <td>https://www.realtytrac.com/property/ca/glendal...</td>\n",
       "      <td>8.00000</td>\n",
       "      <td>8.00000</td>\n",
       "      <td>2020-09</td>\n",
       "    </tr>\n",
       "    <tr>\n",
       "      <th>2</th>\n",
       "      <td>-118.47880</td>\n",
       "      <td>34.03676</td>\n",
       "      <td>1122 26th St # 104</td>\n",
       "      <td>Condominium</td>\n",
       "      <td>1230.00000</td>\n",
       "      <td>6122.00000</td>\n",
       "      <td>2009.00000</td>\n",
       "      <td>4276001042</td>\n",
       "      <td>1111075341.00000</td>\n",
       "      <td>Los Angeles</td>\n",
       "      <td>...</td>\n",
       "      <td>1222000.00000</td>\n",
       "      <td>0</td>\n",
       "      <td>Moderate</td>\n",
       "      <td>34</td>\n",
       "      <td>1</td>\n",
       "      <td>Excellent</td>\n",
       "      <td>https://www.realtytrac.com/property/ca/santa-m...</td>\n",
       "      <td>2.00000</td>\n",
       "      <td>2.00000</td>\n",
       "      <td>2020-09</td>\n",
       "    </tr>\n",
       "    <tr>\n",
       "      <th>3</th>\n",
       "      <td>-118.34989</td>\n",
       "      <td>34.09607</td>\n",
       "      <td>1353 N Fuller Ave # 205</td>\n",
       "      <td>Condominium</td>\n",
       "      <td>1650.00000</td>\n",
       "      <td>20700.00000</td>\n",
       "      <td>2007.00000</td>\n",
       "      <td>5550019089</td>\n",
       "      <td>1111075289.00000</td>\n",
       "      <td>Los Angeles</td>\n",
       "      <td>...</td>\n",
       "      <td>915000.00000</td>\n",
       "      <td>5</td>\n",
       "      <td>Slightly High</td>\n",
       "      <td>9</td>\n",
       "      <td>1</td>\n",
       "      <td>Above Average</td>\n",
       "      <td>https://www.realtytrac.com/property/ca/los-ang...</td>\n",
       "      <td>3.00000</td>\n",
       "      <td>3.00000</td>\n",
       "      <td>2020-09</td>\n",
       "    </tr>\n",
       "    <tr>\n",
       "      <th>4</th>\n",
       "      <td>-117.82797</td>\n",
       "      <td>34.12589</td>\n",
       "      <td>730 Scottdale Ave</td>\n",
       "      <td>Single Family Residence</td>\n",
       "      <td>1121.00000</td>\n",
       "      <td>7471.00000</td>\n",
       "      <td>1959.00000</td>\n",
       "      <td>8654013012</td>\n",
       "      <td>1111073349.00000</td>\n",
       "      <td>Los Angeles</td>\n",
       "      <td>...</td>\n",
       "      <td>614000.00000</td>\n",
       "      <td>1</td>\n",
       "      <td>Low</td>\n",
       "      <td>8</td>\n",
       "      <td>1</td>\n",
       "      <td>Excellent</td>\n",
       "      <td>https://www.realtytrac.com/property/ca/glendor...</td>\n",
       "      <td>3.00000</td>\n",
       "      <td>2.00000</td>\n",
       "      <td>2020-09</td>\n",
       "    </tr>\n",
       "  </tbody>\n",
       "</table>\n",
       "<p>5 rows × 27 columns</p>\n",
       "</div>"
      ],
      "text/plain": [
       "   longitude  latitude                  address  \\\n",
       "0 -118.21962  33.95000            2905 Ohio Ave   \n",
       "1 -118.23941  34.15505           622 Naranja Dr   \n",
       "2 -118.47880  34.03676       1122 26th St # 104   \n",
       "3 -118.34989  34.09607  1353 N Fuller Ave # 205   \n",
       "4 -117.82797  34.12589        730 Scottdale Ave   \n",
       "\n",
       "                         property_type  home_size    lot_size  year_built  \\\n",
       "0              Single Family Residence 1749.00000  5434.00000  1936.00000   \n",
       "1  Quadplex (4 Units, Any Combination) 4764.00000  6395.00000  1930.00000   \n",
       "2                          Condominium 1230.00000  6122.00000  2009.00000   \n",
       "3                          Condominium 1650.00000 20700.00000  2007.00000   \n",
       "4              Single Family Residence 1121.00000  7471.00000  1959.00000   \n",
       "\n",
       "   parcel_number         realtyID       county  ... estimated_value  \\\n",
       "0     6206003002 1111068555.00000  Los Angeles  ...    526000.00000   \n",
       "1     5646016007 1111057331.00000  Los Angeles  ...   1474000.00000   \n",
       "2     4276001042 1111075341.00000  Los Angeles  ...   1222000.00000   \n",
       "3     5550019089 1111075289.00000  Los Angeles  ...    915000.00000   \n",
       "4     8654013012 1111073349.00000  Los Angeles  ...    614000.00000   \n",
       "\n",
       "   sex_offenders    crime_index enviornmental_hazards natural_disasters  \\\n",
       "0             22  Slightly High                    12                 1   \n",
       "1              1            Low                     4                 1   \n",
       "2              0       Moderate                    34                 1   \n",
       "3              5  Slightly High                     9                 1   \n",
       "4              1            Low                     8                 1   \n",
       "\n",
       "  school quality                                                url  bedrooms  \\\n",
       "0           Poor  https://www.realtytrac.com/property/ca/south-g...   3.00000   \n",
       "1  Above Average  https://www.realtytrac.com/property/ca/glendal...   8.00000   \n",
       "2      Excellent  https://www.realtytrac.com/property/ca/santa-m...   2.00000   \n",
       "3  Above Average  https://www.realtytrac.com/property/ca/los-ang...   3.00000   \n",
       "4      Excellent  https://www.realtytrac.com/property/ca/glendor...   3.00000   \n",
       "\n",
       "   bathrooms    month  \n",
       "0    2.00000  2020-09  \n",
       "1    8.00000  2020-09  \n",
       "2    2.00000  2020-09  \n",
       "3    3.00000  2020-09  \n",
       "4    2.00000  2020-09  \n",
       "\n",
       "[5 rows x 27 columns]"
      ]
     },
     "execution_count": 98,
     "metadata": {},
     "output_type": "execute_result"
    }
   ],
   "source": [
    "raw_data = pd.read_csv('Data/house_data_details_eda.csv')\n",
    "df = raw_data.copy()\n",
    "df.head()"
   ]
  },
  {
   "cell_type": "code",
   "execution_count": 99,
   "metadata": {},
   "outputs": [],
   "source": [
    "features = ['home_size', 'lot_size', 'year_built', 'property_type']\n",
    "\n",
    "targets = df['sale_price']\n",
    "inputs = df[features]"
   ]
  },
  {
   "cell_type": "code",
   "execution_count": 100,
   "metadata": {},
   "outputs": [
    {
     "data": {
      "text/plain": [
       "Single Family Residence                1210\n",
       "Condominium                             289\n",
       "Duplex (2 units, any combination)        68\n",
       "Planned Unit Development (PUD)           57\n",
       "Triplex (3 units, any combination)       23\n",
       "Quadplex (4 Units, Any Combination)      16\n",
       "Apartment house (5+ units)               14\n",
       "Name: property_type, dtype: int64"
      ]
     },
     "execution_count": 100,
     "metadata": {},
     "output_type": "execute_result"
    }
   ],
   "source": [
    "df['property_type'].value_counts()"
   ]
  },
  {
   "cell_type": "code",
   "execution_count": 101,
   "metadata": {
    "scrolled": false
   },
   "outputs": [],
   "source": [
    "x_train, x_test, y_train, y_test = train_test_split(inputs, targets, test_size=.2, random_state=24)"
   ]
  },
  {
   "cell_type": "code",
   "execution_count": 102,
   "metadata": {},
   "outputs": [],
   "source": [
    "#Encode the categorical variable by the mean sale price of each category\n",
    "mean_enc = MeanCategoricalEncoder(variables=['property_type'])\n",
    "mean_enc.fit(x_train, y_train)\n",
    "\n",
    "x_train = mean_enc.transform(x_train)\n",
    "x_test = mean_enc.transform(x_test)"
   ]
  },
  {
   "cell_type": "code",
   "execution_count": 110,
   "metadata": {
    "scrolled": false
   },
   "outputs": [
    {
     "name": "stdout",
     "output_type": "stream",
     "text": [
      "Linear Regression score: 381088.4604691038\n"
     ]
    }
   ],
   "source": [
    "lr = LinearRegression()\n",
    "lr.fit(x_train, y_train)\n",
    "predictions = lr.predict(x_test)\n",
    "score = np.sqrt(mean_squared_error(y_test, predictions))\n",
    "print(f'Linear Regression score: {score}')"
   ]
  },
  {
   "cell_type": "code",
   "execution_count": 109,
   "metadata": {},
   "outputs": [
    {
     "name": "stdout",
     "output_type": "stream",
     "text": [
      "Random Forest Score score: 371540.0779542405\n"
     ]
    }
   ],
   "source": [
    "rf = RandomForestRegressor(n_estimators=50, random_state=24)\n",
    "rf.fit(x_train, y_train)\n",
    "predictions = rf.predict(x_test)\n",
    "score = np.sqrt(mean_squared_error(y_test, predictions))\n",
    "print(f'Random Forest Score score: {score}')"
   ]
  }
 ],
 "metadata": {
  "kernelspec": {
   "display_name": "Python 3",
   "language": "python",
   "name": "python3"
  },
  "language_info": {
   "codemirror_mode": {
    "name": "ipython",
    "version": 3
   },
   "file_extension": ".py",
   "mimetype": "text/x-python",
   "name": "python",
   "nbconvert_exporter": "python",
   "pygments_lexer": "ipython3",
   "version": "3.7.6"
  }
 },
 "nbformat": 4,
 "nbformat_minor": 4
}
