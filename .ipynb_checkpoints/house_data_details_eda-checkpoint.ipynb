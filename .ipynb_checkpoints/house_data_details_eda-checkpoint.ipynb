{
 "cells": [
  {
   "cell_type": "code",
   "execution_count": 22,
   "metadata": {},
   "outputs": [],
   "source": [
    "import pandas as pd\n",
    "import datetime\n",
    "from pandas_profiling import ProfileReport\n",
    "import numpy as np\n",
    "np.set_printoptions(formatter={'float_kind':'{:f}'.format})\n",
    "import matplotlib.pyplot as plt\n",
    "import seaborn as sns\n",
    "from feature_engine.categorical_encoders import RareLabelCategoricalEncoder, OneHotCategoricalEncoder\n",
    "from feature_engine import variable_transformers as vt\n",
    "%matplotlib inline\n",
    "\n",
    "import warnings\n",
    "warnings.filterwarnings('ignore')\n",
    "\n",
    "pd.set_option('display.max_columns', None)\n",
    "pd.options.display.float_format = '{:.5f}'.format"
   ]
  },
  {
   "cell_type": "code",
   "execution_count": 9,
   "metadata": {},
   "outputs": [],
   "source": [
    "#Read both dataframes\n",
    "#Combine the details dataframe with saleshistory dataframe\n",
    "details = pd.read_csv('Data/house_data_details_cleaned.csv')\n",
    "history = pd.read_csv('Data/house_data_saleshistory_cleaned.csv')"
   ]
  },
  {
   "cell_type": "code",
   "execution_count": 10,
   "metadata": {
    "scrolled": true
   },
   "outputs": [
    {
     "name": "stdout",
     "output_type": "stream",
     "text": [
      "(13832, 26) (20844, 3)\n",
      "(26792, 28)\n"
     ]
    }
   ],
   "source": [
    "print(details.shape, history.shape)\n",
    "raw_data = pd.merge(details, history, on='parcel_number', how='left')\n",
    "print(raw_data.shape)\n",
    "\n",
    "#There are some properties in the saleshistory dataframe that are not \n",
    "#in the details dataframe. That is why the total number of observations\n",
    "#do not add up after the merge"
   ]
  },
  {
   "cell_type": "code",
   "execution_count": 11,
   "metadata": {},
   "outputs": [
    {
     "name": "stdout",
     "output_type": "stream",
     "text": [
      "Number of missing values for price after the merge and before the imputation: 6972\n",
      "Number of missing values for price after imputing the missing values: 420\n"
     ]
    },
    {
     "data": {
      "text/html": [
       "<div>\n",
       "<style scoped>\n",
       "    .dataframe tbody tr th:only-of-type {\n",
       "        vertical-align: middle;\n",
       "    }\n",
       "\n",
       "    .dataframe tbody tr th {\n",
       "        vertical-align: top;\n",
       "    }\n",
       "\n",
       "    .dataframe thead th {\n",
       "        text-align: right;\n",
       "    }\n",
       "</style>\n",
       "<table border=\"1\" class=\"dataframe\">\n",
       "  <thead>\n",
       "    <tr style=\"text-align: right;\">\n",
       "      <th></th>\n",
       "      <th>latitude</th>\n",
       "      <th>longitude</th>\n",
       "      <th>address</th>\n",
       "      <th>property_type</th>\n",
       "      <th>home_size</th>\n",
       "      <th>lot_size</th>\n",
       "      <th>year_built</th>\n",
       "      <th>parcel_number</th>\n",
       "      <th>realtyID</th>\n",
       "      <th>county</th>\n",
       "      <th>subdivision</th>\n",
       "      <th>census</th>\n",
       "      <th>tract</th>\n",
       "      <th>lot</th>\n",
       "      <th>zoning</th>\n",
       "      <th>estimated_value</th>\n",
       "      <th>sex_offenders</th>\n",
       "      <th>crime_index</th>\n",
       "      <th>enviornmental_hazards</th>\n",
       "      <th>natural_disasters</th>\n",
       "      <th>school_quality</th>\n",
       "      <th>url</th>\n",
       "      <th>bedrooms</th>\n",
       "      <th>bathrooms</th>\n",
       "      <th>date</th>\n",
       "      <th>sale_price</th>\n",
       "    </tr>\n",
       "  </thead>\n",
       "  <tbody>\n",
       "    <tr>\n",
       "      <th>0</th>\n",
       "      <td>33.97462</td>\n",
       "      <td>-118.13368</td>\n",
       "      <td>6224 Nye St</td>\n",
       "      <td>Condominium</td>\n",
       "      <td>1357.00000</td>\n",
       "      <td>2221560.00000</td>\n",
       "      <td>1988.00000</td>\n",
       "      <td>6357012043</td>\n",
       "      <td>1111054477.00000</td>\n",
       "      <td>Los Angeles</td>\n",
       "      <td>45351</td>\n",
       "      <td>1.00000</td>\n",
       "      <td>532304.00000</td>\n",
       "      <td>1</td>\n",
       "      <td>CMR3</td>\n",
       "      <td>439000.00000</td>\n",
       "      <td>7</td>\n",
       "      <td>High</td>\n",
       "      <td>15</td>\n",
       "      <td>1</td>\n",
       "      <td>Average</td>\n",
       "      <td>https://www.realtytrac.com/property/ca/commerc...</td>\n",
       "      <td>3.00000</td>\n",
       "      <td>3.00000</td>\n",
       "      <td>2020-09-28</td>\n",
       "      <td>469000.00000</td>\n",
       "    </tr>\n",
       "    <tr>\n",
       "      <th>1</th>\n",
       "      <td>34.15656</td>\n",
       "      <td>-118.39689</td>\n",
       "      <td>4723 Laurel Canyon Blvd</td>\n",
       "      <td>Restaurant</td>\n",
       "      <td>2250.00000</td>\n",
       "      <td>9799.00000</td>\n",
       "      <td>1959.00000</td>\n",
       "      <td>2356037034</td>\n",
       "      <td>1111055289.00000</td>\n",
       "      <td>Los Angeles</td>\n",
       "      <td>7360</td>\n",
       "      <td>1.00000</td>\n",
       "      <td>143400.00000</td>\n",
       "      <td>10</td>\n",
       "      <td>LAC2</td>\n",
       "      <td>nan</td>\n",
       "      <td>5</td>\n",
       "      <td>NaN</td>\n",
       "      <td>6</td>\n",
       "      <td>1</td>\n",
       "      <td>Excellent</td>\n",
       "      <td>https://www.realtytrac.com/property/ca/valley-...</td>\n",
       "      <td>nan</td>\n",
       "      <td>nan</td>\n",
       "      <td>2020-09-28</td>\n",
       "      <td>1910000.00000</td>\n",
       "    </tr>\n",
       "    <tr>\n",
       "      <th>2</th>\n",
       "      <td>34.67778</td>\n",
       "      <td>-118.45116</td>\n",
       "      <td>18118 Elizabeth Lake Rd</td>\n",
       "      <td>Apartment house (5+ units)</td>\n",
       "      <td>1454.00000</td>\n",
       "      <td>13635.00000</td>\n",
       "      <td>1948.00000</td>\n",
       "      <td>3242015023</td>\n",
       "      <td>1111055911.00000</td>\n",
       "      <td>Los Angeles</td>\n",
       "      <td>NaN</td>\n",
       "      <td>2.00000</td>\n",
       "      <td>920102.00000</td>\n",
       "      <td>4</td>\n",
       "      <td>LCC4</td>\n",
       "      <td>nan</td>\n",
       "      <td>0</td>\n",
       "      <td>NaN</td>\n",
       "      <td>2</td>\n",
       "      <td>1</td>\n",
       "      <td>NaN</td>\n",
       "      <td>https://www.realtytrac.com/property/ca/lake-hu...</td>\n",
       "      <td>7.00000</td>\n",
       "      <td>6.00000</td>\n",
       "      <td>2020-09-28</td>\n",
       "      <td>325000.00000</td>\n",
       "    </tr>\n",
       "    <tr>\n",
       "      <th>3</th>\n",
       "      <td>34.07296</td>\n",
       "      <td>-118.06690</td>\n",
       "      <td>9259 Ramona Blvd</td>\n",
       "      <td>Single Family Residence</td>\n",
       "      <td>1682.00000</td>\n",
       "      <td>7000.00000</td>\n",
       "      <td>1978.00000</td>\n",
       "      <td>8594027016</td>\n",
       "      <td>1111055994.00000</td>\n",
       "      <td>Los Angeles</td>\n",
       "      <td>ROSEMEAD</td>\n",
       "      <td>2.00000</td>\n",
       "      <td>432901.00000</td>\n",
       "      <td>6</td>\n",
       "      <td>RMPOD</td>\n",
       "      <td>752000.00000</td>\n",
       "      <td>3</td>\n",
       "      <td>Moderate</td>\n",
       "      <td>11</td>\n",
       "      <td>1</td>\n",
       "      <td>Excellent</td>\n",
       "      <td>https://www.realtytrac.com/property/ca/rosemea...</td>\n",
       "      <td>3.00000</td>\n",
       "      <td>2.00000</td>\n",
       "      <td>2020-09-28</td>\n",
       "      <td>738000.00000</td>\n",
       "    </tr>\n",
       "    <tr>\n",
       "      <th>4</th>\n",
       "      <td>33.77772</td>\n",
       "      <td>-118.15491</td>\n",
       "      <td>825 Obispo Ave</td>\n",
       "      <td>Triplex (3 units, any combination)</td>\n",
       "      <td>1958.00000</td>\n",
       "      <td>6754.00000</td>\n",
       "      <td>1938.00000</td>\n",
       "      <td>7258013016</td>\n",
       "      <td>1111056010.00000</td>\n",
       "      <td>Los Angeles</td>\n",
       "      <td>1</td>\n",
       "      <td>2.00000</td>\n",
       "      <td>576904.00000</td>\n",
       "      <td>18</td>\n",
       "      <td>LBR2N</td>\n",
       "      <td>989000.00000</td>\n",
       "      <td>11</td>\n",
       "      <td>Slightly High</td>\n",
       "      <td>8</td>\n",
       "      <td>1</td>\n",
       "      <td>Average</td>\n",
       "      <td>https://www.realtytrac.com/property/ca/long-be...</td>\n",
       "      <td>4.00000</td>\n",
       "      <td>3.00000</td>\n",
       "      <td>2020-09-28</td>\n",
       "      <td>1185000.00000</td>\n",
       "    </tr>\n",
       "  </tbody>\n",
       "</table>\n",
       "</div>"
      ],
      "text/plain": [
       "   latitude  longitude                  address  \\\n",
       "0  33.97462 -118.13368              6224 Nye St   \n",
       "1  34.15656 -118.39689  4723 Laurel Canyon Blvd   \n",
       "2  34.67778 -118.45116  18118 Elizabeth Lake Rd   \n",
       "3  34.07296 -118.06690         9259 Ramona Blvd   \n",
       "4  33.77772 -118.15491           825 Obispo Ave   \n",
       "\n",
       "                        property_type  home_size      lot_size  year_built  \\\n",
       "0                         Condominium 1357.00000 2221560.00000  1988.00000   \n",
       "1                          Restaurant 2250.00000    9799.00000  1959.00000   \n",
       "2          Apartment house (5+ units) 1454.00000   13635.00000  1948.00000   \n",
       "3             Single Family Residence 1682.00000    7000.00000  1978.00000   \n",
       "4  Triplex (3 units, any combination) 1958.00000    6754.00000  1938.00000   \n",
       "\n",
       "   parcel_number         realtyID       county subdivision  census  \\\n",
       "0     6357012043 1111054477.00000  Los Angeles       45351 1.00000   \n",
       "1     2356037034 1111055289.00000  Los Angeles        7360 1.00000   \n",
       "2     3242015023 1111055911.00000  Los Angeles         NaN 2.00000   \n",
       "3     8594027016 1111055994.00000  Los Angeles    ROSEMEAD 2.00000   \n",
       "4     7258013016 1111056010.00000  Los Angeles           1 2.00000   \n",
       "\n",
       "         tract lot zoning  estimated_value  sex_offenders    crime_index  \\\n",
       "0 532304.00000   1   CMR3     439000.00000              7           High   \n",
       "1 143400.00000  10   LAC2              nan              5            NaN   \n",
       "2 920102.00000   4   LCC4              nan              0            NaN   \n",
       "3 432901.00000   6  RMPOD     752000.00000              3       Moderate   \n",
       "4 576904.00000  18  LBR2N     989000.00000             11  Slightly High   \n",
       "\n",
       "   enviornmental_hazards  natural_disasters school_quality  \\\n",
       "0                     15                  1        Average   \n",
       "1                      6                  1      Excellent   \n",
       "2                      2                  1            NaN   \n",
       "3                     11                  1      Excellent   \n",
       "4                      8                  1        Average   \n",
       "\n",
       "                                                 url  bedrooms  bathrooms  \\\n",
       "0  https://www.realtytrac.com/property/ca/commerc...   3.00000    3.00000   \n",
       "1  https://www.realtytrac.com/property/ca/valley-...       nan        nan   \n",
       "2  https://www.realtytrac.com/property/ca/lake-hu...   7.00000    6.00000   \n",
       "3  https://www.realtytrac.com/property/ca/rosemea...   3.00000    2.00000   \n",
       "4  https://www.realtytrac.com/property/ca/long-be...   4.00000    3.00000   \n",
       "\n",
       "         date    sale_price  \n",
       "0  2020-09-28  469000.00000  \n",
       "1  2020-09-28 1910000.00000  \n",
       "2  2020-09-28  325000.00000  \n",
       "3  2020-09-28  738000.00000  \n",
       "4  2020-09-28 1185000.00000  "
      ]
     },
     "execution_count": 11,
     "metadata": {},
     "output_type": "execute_result"
    }
   ],
   "source": [
    "#We'll be keeping the values from the right dataframe(for columns date and sale_price) since they exist in both dataframes\n",
    "#There are a lot of null values for properties that are not in the saleshistory.We'll fill those missing values \n",
    "#with the values from the left dataframe and then drop the duplicate features from the left dataframe\n",
    "\n",
    "print(f'Number of missing values for price after the merge and before the imputation: {raw_data.price.isnull().sum()}')\n",
    "missing = raw_data.loc[raw_data['price'].isnull()].index\n",
    "raw_data['date_y'] = raw_data['date_y'].fillna(raw_data['date_x'])\n",
    "raw_data['price'] = raw_data['price'].fillna(raw_data['sale_price'])\n",
    "\n",
    "raw_data.drop(['date_x', 'sale_price'], axis=1, inplace=True)\n",
    "raw_data.rename(columns={'date_y': 'date', 'price':'sale_price'}, inplace=True)\n",
    "\n",
    "print(f'Number of missing values for price after imputing the missing values: {raw_data.sale_price.isnull().sum()}')\n",
    "raw_data.head()"
   ]
  },
  {
   "cell_type": "code",
   "execution_count": 12,
   "metadata": {},
   "outputs": [
    {
     "data": {
      "text/html": [
       "<div>\n",
       "<style scoped>\n",
       "    .dataframe tbody tr th:only-of-type {\n",
       "        vertical-align: middle;\n",
       "    }\n",
       "\n",
       "    .dataframe tbody tr th {\n",
       "        vertical-align: top;\n",
       "    }\n",
       "\n",
       "    .dataframe thead th {\n",
       "        text-align: right;\n",
       "    }\n",
       "</style>\n",
       "<table border=\"1\" class=\"dataframe\">\n",
       "  <thead>\n",
       "    <tr style=\"text-align: right;\">\n",
       "      <th></th>\n",
       "      <th>latitude</th>\n",
       "      <th>longitude</th>\n",
       "      <th>home_size</th>\n",
       "      <th>lot_size</th>\n",
       "      <th>year_built</th>\n",
       "      <th>parcel_number</th>\n",
       "      <th>realtyID</th>\n",
       "      <th>census</th>\n",
       "      <th>tract</th>\n",
       "      <th>estimated_value</th>\n",
       "      <th>sex_offenders</th>\n",
       "      <th>enviornmental_hazards</th>\n",
       "      <th>natural_disasters</th>\n",
       "      <th>bedrooms</th>\n",
       "      <th>bathrooms</th>\n",
       "      <th>sale_price</th>\n",
       "    </tr>\n",
       "  </thead>\n",
       "  <tbody>\n",
       "    <tr>\n",
       "      <th>count</th>\n",
       "      <td>26792.00000</td>\n",
       "      <td>26792.00000</td>\n",
       "      <td>25599.00000</td>\n",
       "      <td>26627.00000</td>\n",
       "      <td>25874.00000</td>\n",
       "      <td>26792.00000</td>\n",
       "      <td>26783.00000</td>\n",
       "      <td>26792.00000</td>\n",
       "      <td>26792.00000</td>\n",
       "      <td>25063.00000</td>\n",
       "      <td>26792.00000</td>\n",
       "      <td>26792.00000</td>\n",
       "      <td>26792.00000</td>\n",
       "      <td>24934.00000</td>\n",
       "      <td>24934.00000</td>\n",
       "      <td>26372.00000</td>\n",
       "    </tr>\n",
       "    <tr>\n",
       "      <th>mean</th>\n",
       "      <td>34.12564</td>\n",
       "      <td>-118.27301</td>\n",
       "      <td>39147.98277</td>\n",
       "      <td>3638586.17381</td>\n",
       "      <td>1964.87014</td>\n",
       "      <td>4968177989.54718</td>\n",
       "      <td>1112169074.36583</td>\n",
       "      <td>2.01030</td>\n",
       "      <td>456581.65001</td>\n",
       "      <td>869458.42078</td>\n",
       "      <td>7.51829</td>\n",
       "      <td>6.90650</td>\n",
       "      <td>1.20241</td>\n",
       "      <td>3.42324</td>\n",
       "      <td>2.72708</td>\n",
       "      <td>2926211.03549</td>\n",
       "    </tr>\n",
       "    <tr>\n",
       "      <th>std</th>\n",
       "      <td>0.23260</td>\n",
       "      <td>0.21637</td>\n",
       "      <td>688749.94357</td>\n",
       "      <td>21420466.64123</td>\n",
       "      <td>25.98918</td>\n",
       "      <td>2104753086.66922</td>\n",
       "      <td>661020.75443</td>\n",
       "      <td>1.10646</td>\n",
       "      <td>267365.35363</td>\n",
       "      <td>556550.46722</td>\n",
       "      <td>13.31461</td>\n",
       "      <td>6.71291</td>\n",
       "      <td>0.43688</td>\n",
       "      <td>5.32834</td>\n",
       "      <td>4.95973</td>\n",
       "      <td>13426377.13652</td>\n",
       "    </tr>\n",
       "    <tr>\n",
       "      <th>min</th>\n",
       "      <td>33.70724</td>\n",
       "      <td>-118.89009</td>\n",
       "      <td>3.00000</td>\n",
       "      <td>120.00000</td>\n",
       "      <td>1883.00000</td>\n",
       "      <td>6637311.00000</td>\n",
       "      <td>1110722482.00000</td>\n",
       "      <td>1.00000</td>\n",
       "      <td>0.00000</td>\n",
       "      <td>104000.00000</td>\n",
       "      <td>0.00000</td>\n",
       "      <td>1.00000</td>\n",
       "      <td>0.00000</td>\n",
       "      <td>1.00000</td>\n",
       "      <td>1.00000</td>\n",
       "      <td>500.00000</td>\n",
       "    </tr>\n",
       "    <tr>\n",
       "      <th>25%</th>\n",
       "      <td>33.97763</td>\n",
       "      <td>-118.43116</td>\n",
       "      <td>1194.00000</td>\n",
       "      <td>6006.00000</td>\n",
       "      <td>1949.00000</td>\n",
       "      <td>3001072019.00000</td>\n",
       "      <td>1111873573.00000</td>\n",
       "      <td>1.00000</td>\n",
       "      <td>214600.00000</td>\n",
       "      <td>499400.00000</td>\n",
       "      <td>1.00000</td>\n",
       "      <td>3.00000</td>\n",
       "      <td>1.00000</td>\n",
       "      <td>2.00000</td>\n",
       "      <td>2.00000</td>\n",
       "      <td>410000.00000</td>\n",
       "    </tr>\n",
       "    <tr>\n",
       "      <th>50%</th>\n",
       "      <td>34.09733</td>\n",
       "      <td>-118.28958</td>\n",
       "      <td>1576.00000</td>\n",
       "      <td>7789.00000</td>\n",
       "      <td>1963.00000</td>\n",
       "      <td>5059517009.00000</td>\n",
       "      <td>1112261694.00000</td>\n",
       "      <td>2.00000</td>\n",
       "      <td>431001.50000</td>\n",
       "      <td>692600.00000</td>\n",
       "      <td>3.00000</td>\n",
       "      <td>5.00000</td>\n",
       "      <td>1.00000</td>\n",
       "      <td>3.00000</td>\n",
       "      <td>2.00000</td>\n",
       "      <td>800000.00000</td>\n",
       "    </tr>\n",
       "    <tr>\n",
       "      <th>75%</th>\n",
       "      <td>34.20333</td>\n",
       "      <td>-118.13224</td>\n",
       "      <td>2246.00000</td>\n",
       "      <td>20719.00000</td>\n",
       "      <td>1986.00000</td>\n",
       "      <td>7070015005.00000</td>\n",
       "      <td>1112841781.00000</td>\n",
       "      <td>3.00000</td>\n",
       "      <td>620501.00000</td>\n",
       "      <td>1030500.00000</td>\n",
       "      <td>8.00000</td>\n",
       "      <td>8.00000</td>\n",
       "      <td>1.00000</td>\n",
       "      <td>4.00000</td>\n",
       "      <td>3.00000</td>\n",
       "      <td>2700000.00000</td>\n",
       "    </tr>\n",
       "    <tr>\n",
       "      <th>max</th>\n",
       "      <td>34.81875</td>\n",
       "      <td>-117.61020</td>\n",
       "      <td>34717320.00000</td>\n",
       "      <td>1248647400.00000</td>\n",
       "      <td>2020.00000</td>\n",
       "      <td>8765024023.00000</td>\n",
       "      <td>1113126185.00000</td>\n",
       "      <td>8.00000</td>\n",
       "      <td>980019.00000</td>\n",
       "      <td>2999000.00000</td>\n",
       "      <td>135.00000</td>\n",
       "      <td>125.00000</td>\n",
       "      <td>4.00000</td>\n",
       "      <td>282.00000</td>\n",
       "      <td>184.00000</td>\n",
       "      <td>1660000000.00000</td>\n",
       "    </tr>\n",
       "  </tbody>\n",
       "</table>\n",
       "</div>"
      ],
      "text/plain": [
       "         latitude   longitude      home_size         lot_size  year_built  \\\n",
       "count 26792.00000 26792.00000    25599.00000      26627.00000 25874.00000   \n",
       "mean     34.12564  -118.27301    39147.98277    3638586.17381  1964.87014   \n",
       "std       0.23260     0.21637   688749.94357   21420466.64123    25.98918   \n",
       "min      33.70724  -118.89009        3.00000        120.00000  1883.00000   \n",
       "25%      33.97763  -118.43116     1194.00000       6006.00000  1949.00000   \n",
       "50%      34.09733  -118.28958     1576.00000       7789.00000  1963.00000   \n",
       "75%      34.20333  -118.13224     2246.00000      20719.00000  1986.00000   \n",
       "max      34.81875  -117.61020 34717320.00000 1248647400.00000  2020.00000   \n",
       "\n",
       "         parcel_number         realtyID      census        tract  \\\n",
       "count      26792.00000      26783.00000 26792.00000  26792.00000   \n",
       "mean  4968177989.54718 1112169074.36583     2.01030 456581.65001   \n",
       "std   2104753086.66922     661020.75443     1.10646 267365.35363   \n",
       "min      6637311.00000 1110722482.00000     1.00000      0.00000   \n",
       "25%   3001072019.00000 1111873573.00000     1.00000 214600.00000   \n",
       "50%   5059517009.00000 1112261694.00000     2.00000 431001.50000   \n",
       "75%   7070015005.00000 1112841781.00000     3.00000 620501.00000   \n",
       "max   8765024023.00000 1113126185.00000     8.00000 980019.00000   \n",
       "\n",
       "       estimated_value  sex_offenders  enviornmental_hazards  \\\n",
       "count      25063.00000    26792.00000            26792.00000   \n",
       "mean      869458.42078        7.51829                6.90650   \n",
       "std       556550.46722       13.31461                6.71291   \n",
       "min       104000.00000        0.00000                1.00000   \n",
       "25%       499400.00000        1.00000                3.00000   \n",
       "50%       692600.00000        3.00000                5.00000   \n",
       "75%      1030500.00000        8.00000                8.00000   \n",
       "max      2999000.00000      135.00000              125.00000   \n",
       "\n",
       "       natural_disasters    bedrooms   bathrooms       sale_price  \n",
       "count        26792.00000 24934.00000 24934.00000      26372.00000  \n",
       "mean             1.20241     3.42324     2.72708    2926211.03549  \n",
       "std              0.43688     5.32834     4.95973   13426377.13652  \n",
       "min              0.00000     1.00000     1.00000        500.00000  \n",
       "25%              1.00000     2.00000     2.00000     410000.00000  \n",
       "50%              1.00000     3.00000     2.00000     800000.00000  \n",
       "75%              1.00000     4.00000     3.00000    2700000.00000  \n",
       "max              4.00000   282.00000   184.00000 1660000000.00000  "
      ]
     },
     "execution_count": 12,
     "metadata": {},
     "output_type": "execute_result"
    }
   ],
   "source": [
    "df = raw_data.copy()\n",
    "df.describe()"
   ]
  },
  {
   "cell_type": "code",
   "execution_count": 13,
   "metadata": {},
   "outputs": [],
   "source": [
    "#Alternatively\n",
    "#profile = ProfileReport(df, title='Pandas Profiling Report', explorative=True)\n",
    "#profile.to_file(\"RealEstateAVM_ProfileReport.html\")"
   ]
  },
  {
   "cell_type": "code",
   "execution_count": 13,
   "metadata": {},
   "outputs": [
    {
     "name": "stdout",
     "output_type": "stream",
     "text": [
      "26792 number of observations before trim\n",
      "8304 number of missing observations when including the bad features\n",
      "5878 number of missing observations when not including the bad features\n",
      "20914 current number of observations\n"
     ]
    }
   ],
   "source": [
    "#Before removing the observations with missing values, \n",
    "#let's remove the features we won't need so we can limit the number of observations we will need\n",
    "dropped_features = ['realtyID', 'county', 'subdivision', 'census', 'tract', 'lot', 'estimated_value']\n",
    "\n",
    "#Remove missing values for the target feature\n",
    "num_obs_1 = df.shape[0]\n",
    "print(f'{num_obs_1} number of observations before trim')\n",
    "\n",
    "df.drop(dropped_features, axis=1, inplace=True)\n",
    "df.dropna(inplace=True)\n",
    "num_obs_2 = num_obs_1 - df.shape[0]\n",
    "num_obs_3 = num_obs_1 - raw_data.dropna().shape[0]\n",
    "print(f'{num_obs_3} number of missing observations when including the bad features')\n",
    "print(f'{num_obs_2} number of missing observations when not including the bad features')\n",
    "print(f'{df.shape[0]} current number of observations')"
   ]
  },
  {
   "cell_type": "code",
   "execution_count": 14,
   "metadata": {},
   "outputs": [
    {
     "data": {
      "text/plain": [
       "0       2069-09-19\n",
       "1       2069-07-01\n",
       "2       2069-04-23\n",
       "3       2069-01-22\n",
       "4       2068-06-05\n",
       "           ...    \n",
       "20909   1965-05-10\n",
       "20910   1965-01-15\n",
       "20911   1964-08-07\n",
       "20912   1964-07-29\n",
       "20913   1964-06-10\n",
       "Name: date, Length: 20914, dtype: datetime64[ns]"
      ]
     },
     "execution_count": 14,
     "metadata": {},
     "output_type": "execute_result"
    }
   ],
   "source": [
    "#Convert date into a datetime object\n",
    "df['date'] = pd.to_datetime(df['date'])\n",
    "df.sort_values(by='date', ascending=False, inplace=True, ignore_index=True)\n",
    "df['date']"
   ]
  },
  {
   "cell_type": "code",
   "execution_count": 15,
   "metadata": {
    "scrolled": false
   },
   "outputs": [
    {
     "data": {
      "text/plain": [
       "0       2020-11-20\n",
       "1       2020-11-20\n",
       "2       2020-11-20\n",
       "3       2020-11-20\n",
       "4       2020-11-20\n",
       "           ...    \n",
       "20909   1964-12-18\n",
       "20910   1964-08-07\n",
       "20911   1964-07-29\n",
       "20912   1964-07-02\n",
       "20913   1964-06-10\n",
       "Name: date, Length: 20914, dtype: datetime64[ns]"
      ]
     },
     "execution_count": 15,
     "metadata": {},
     "output_type": "execute_result"
    }
   ],
   "source": [
    "#Correct the dates\n",
    "df['date'] = df['date'].apply(lambda x: x.replace(year= x.year-100) if x.year>2020 else x)\n",
    "df.sort_values(by='date', ascending=False, inplace=True, ignore_index=True)\n",
    "df['date']"
   ]
  },
  {
   "cell_type": "code",
   "execution_count": 39,
   "metadata": {
    "scrolled": true
   },
   "outputs": [
    {
     "ename": "ValueError",
     "evalue": "You are trying to merge on datetime64[ns] and object columns. If you wish to proceed you should use pd.concat",
     "output_type": "error",
     "traceback": [
      "\u001b[0;31m---------------------------------------------------------------------------\u001b[0m",
      "\u001b[0;31mValueError\u001b[0m                                Traceback (most recent call last)",
      "\u001b[0;32m<ipython-input-39-e6b786383c28>\u001b[0m in \u001b[0;36m<module>\u001b[0;34m\u001b[0m\n\u001b[1;32m      1\u001b[0m \u001b[0;31m#Import cpi data\u001b[0m\u001b[0;34m\u001b[0m\u001b[0;34m\u001b[0m\u001b[0;34m\u001b[0m\u001b[0m\n\u001b[1;32m      2\u001b[0m \u001b[0mcpi_df\u001b[0m \u001b[0;34m=\u001b[0m \u001b[0mpd\u001b[0m\u001b[0;34m.\u001b[0m\u001b[0mread_csv\u001b[0m\u001b[0;34m(\u001b[0m\u001b[0;34m'Data/cpi_data.csv'\u001b[0m\u001b[0;34m)\u001b[0m\u001b[0;34m\u001b[0m\u001b[0;34m\u001b[0m\u001b[0m\n\u001b[0;32m----> 3\u001b[0;31m \u001b[0mmerged_df\u001b[0m \u001b[0;34m=\u001b[0m \u001b[0mpd\u001b[0m\u001b[0;34m.\u001b[0m\u001b[0mmerge\u001b[0m\u001b[0;34m(\u001b[0m\u001b[0mdf\u001b[0m\u001b[0;34m,\u001b[0m \u001b[0mcpi_df\u001b[0m\u001b[0;34m,\u001b[0m \u001b[0mon\u001b[0m\u001b[0;34m=\u001b[0m\u001b[0;34m'date'\u001b[0m\u001b[0;34m,\u001b[0m \u001b[0mhow\u001b[0m\u001b[0;34m=\u001b[0m\u001b[0;34m'left'\u001b[0m\u001b[0;34m)\u001b[0m\u001b[0;34m\u001b[0m\u001b[0;34m\u001b[0m\u001b[0m\n\u001b[0m\u001b[1;32m      4\u001b[0m \u001b[0mmerged_df\u001b[0m\u001b[0;34m.\u001b[0m\u001b[0mdrop_duplicates\u001b[0m\u001b[0;34m(\u001b[0m\u001b[0minplace\u001b[0m\u001b[0;34m=\u001b[0m\u001b[0;32mTrue\u001b[0m\u001b[0;34m)\u001b[0m\u001b[0;34m\u001b[0m\u001b[0;34m\u001b[0m\u001b[0m\n\u001b[1;32m      5\u001b[0m \u001b[0mmerged_df\u001b[0m\u001b[0;34m.\u001b[0m\u001b[0mrename\u001b[0m\u001b[0;34m(\u001b[0m\u001b[0mcolumns\u001b[0m\u001b[0;34m=\u001b[0m\u001b[0;34m{\u001b[0m\u001b[0;34m'CPIAUCNS'\u001b[0m\u001b[0;34m:\u001b[0m\u001b[0;34m'cpi'\u001b[0m\u001b[0;34m}\u001b[0m\u001b[0;34m,\u001b[0m \u001b[0minplace\u001b[0m\u001b[0;34m=\u001b[0m\u001b[0;32mTrue\u001b[0m\u001b[0;34m)\u001b[0m\u001b[0;34m\u001b[0m\u001b[0;34m\u001b[0m\u001b[0m\n",
      "\u001b[0;32m/opt/anaconda3/lib/python3.7/site-packages/pandas/core/reshape/merge.py\u001b[0m in \u001b[0;36mmerge\u001b[0;34m(left, right, how, on, left_on, right_on, left_index, right_index, sort, suffixes, copy, indicator, validate)\u001b[0m\n\u001b[1;32m     84\u001b[0m         \u001b[0mcopy\u001b[0m\u001b[0;34m=\u001b[0m\u001b[0mcopy\u001b[0m\u001b[0;34m,\u001b[0m\u001b[0;34m\u001b[0m\u001b[0;34m\u001b[0m\u001b[0m\n\u001b[1;32m     85\u001b[0m         \u001b[0mindicator\u001b[0m\u001b[0;34m=\u001b[0m\u001b[0mindicator\u001b[0m\u001b[0;34m,\u001b[0m\u001b[0;34m\u001b[0m\u001b[0;34m\u001b[0m\u001b[0m\n\u001b[0;32m---> 86\u001b[0;31m         \u001b[0mvalidate\u001b[0m\u001b[0;34m=\u001b[0m\u001b[0mvalidate\u001b[0m\u001b[0;34m,\u001b[0m\u001b[0;34m\u001b[0m\u001b[0;34m\u001b[0m\u001b[0m\n\u001b[0m\u001b[1;32m     87\u001b[0m     )\n\u001b[1;32m     88\u001b[0m     \u001b[0;32mreturn\u001b[0m \u001b[0mop\u001b[0m\u001b[0;34m.\u001b[0m\u001b[0mget_result\u001b[0m\u001b[0;34m(\u001b[0m\u001b[0;34m)\u001b[0m\u001b[0;34m\u001b[0m\u001b[0;34m\u001b[0m\u001b[0m\n",
      "\u001b[0;32m/opt/anaconda3/lib/python3.7/site-packages/pandas/core/reshape/merge.py\u001b[0m in \u001b[0;36m__init__\u001b[0;34m(self, left, right, how, on, left_on, right_on, axis, left_index, right_index, sort, suffixes, copy, indicator, validate)\u001b[0m\n\u001b[1;32m    629\u001b[0m         \u001b[0;31m# validate the merge keys dtypes. We may need to coerce\u001b[0m\u001b[0;34m\u001b[0m\u001b[0;34m\u001b[0m\u001b[0;34m\u001b[0m\u001b[0m\n\u001b[1;32m    630\u001b[0m         \u001b[0;31m# to avoid incompat dtypes\u001b[0m\u001b[0;34m\u001b[0m\u001b[0;34m\u001b[0m\u001b[0;34m\u001b[0m\u001b[0m\n\u001b[0;32m--> 631\u001b[0;31m         \u001b[0mself\u001b[0m\u001b[0;34m.\u001b[0m\u001b[0m_maybe_coerce_merge_keys\u001b[0m\u001b[0;34m(\u001b[0m\u001b[0;34m)\u001b[0m\u001b[0;34m\u001b[0m\u001b[0;34m\u001b[0m\u001b[0m\n\u001b[0m\u001b[1;32m    632\u001b[0m \u001b[0;34m\u001b[0m\u001b[0m\n\u001b[1;32m    633\u001b[0m         \u001b[0;31m# If argument passed to validate,\u001b[0m\u001b[0;34m\u001b[0m\u001b[0;34m\u001b[0m\u001b[0;34m\u001b[0m\u001b[0m\n",
      "\u001b[0;32m/opt/anaconda3/lib/python3.7/site-packages/pandas/core/reshape/merge.py\u001b[0m in \u001b[0;36m_maybe_coerce_merge_keys\u001b[0;34m(self)\u001b[0m\n\u001b[1;32m   1148\u001b[0m             \u001b[0;31m# datetimelikes must match exactly\u001b[0m\u001b[0;34m\u001b[0m\u001b[0;34m\u001b[0m\u001b[0;34m\u001b[0m\u001b[0m\n\u001b[1;32m   1149\u001b[0m             \u001b[0;32melif\u001b[0m \u001b[0mneeds_i8_conversion\u001b[0m\u001b[0;34m(\u001b[0m\u001b[0mlk\u001b[0m\u001b[0;34m)\u001b[0m \u001b[0;32mand\u001b[0m \u001b[0;32mnot\u001b[0m \u001b[0mneeds_i8_conversion\u001b[0m\u001b[0;34m(\u001b[0m\u001b[0mrk\u001b[0m\u001b[0;34m)\u001b[0m\u001b[0;34m:\u001b[0m\u001b[0;34m\u001b[0m\u001b[0;34m\u001b[0m\u001b[0m\n\u001b[0;32m-> 1150\u001b[0;31m                 \u001b[0;32mraise\u001b[0m \u001b[0mValueError\u001b[0m\u001b[0;34m(\u001b[0m\u001b[0mmsg\u001b[0m\u001b[0;34m)\u001b[0m\u001b[0;34m\u001b[0m\u001b[0;34m\u001b[0m\u001b[0m\n\u001b[0m\u001b[1;32m   1151\u001b[0m             \u001b[0;32melif\u001b[0m \u001b[0;32mnot\u001b[0m \u001b[0mneeds_i8_conversion\u001b[0m\u001b[0;34m(\u001b[0m\u001b[0mlk\u001b[0m\u001b[0;34m)\u001b[0m \u001b[0;32mand\u001b[0m \u001b[0mneeds_i8_conversion\u001b[0m\u001b[0;34m(\u001b[0m\u001b[0mrk\u001b[0m\u001b[0;34m)\u001b[0m\u001b[0;34m:\u001b[0m\u001b[0;34m\u001b[0m\u001b[0;34m\u001b[0m\u001b[0m\n\u001b[1;32m   1152\u001b[0m                 \u001b[0;32mraise\u001b[0m \u001b[0mValueError\u001b[0m\u001b[0;34m(\u001b[0m\u001b[0mmsg\u001b[0m\u001b[0;34m)\u001b[0m\u001b[0;34m\u001b[0m\u001b[0;34m\u001b[0m\u001b[0m\n",
      "\u001b[0;31mValueError\u001b[0m: You are trying to merge on datetime64[ns] and object columns. If you wish to proceed you should use pd.concat"
     ]
    }
   ],
   "source": [
    "#Import cpi data\n",
    "cpi_df = pd.read_csv('Data/cpi_data.csv')\n",
    "merged_df = pd.merge(df, cpi_df, on='date', how='left')\n",
    "merged_df.drop_duplicates(inplace=True)\n",
    "merged_df.rename(columns={'CPIAUCNS':'cpi'}, inplace=True)\n",
    "#merged_df[:5]\n",
    "print(merged_df.shape)"
   ]
  },
  {
   "cell_type": "code",
   "execution_count": 41,
   "metadata": {},
   "outputs": [],
   "source": [
    "cpi_df = pd.read_csv('Data/cpi_data.csv')\n",
    "cpi_df['date'] = pd.to_datetime(cpi_df['date'])"
   ]
  },
  {
   "cell_type": "code",
   "execution_count": 35,
   "metadata": {},
   "outputs": [
    {
     "name": "stdout",
     "output_type": "stream",
     "text": [
      "(20914, 21)\n"
     ]
    }
   ],
   "source": [
    "#We will use the cpi for every corresponding sale date to capture time\n",
    "#Add a new column that will be used for the merge\n",
    "df['observation_date'] = df['date'].values.astype('datetime64[M]')\n",
    "\n",
    "#Read in a file with consumer price index\n",
    "cpi_df = pd.read_csv('Data/CPIAUCNS.csv')\n",
    "cpi_df['observation_date'] = pd.to_datetime(cpi_df['observation_date'])\n",
    "\n",
    "cpi_df.sort_values(by='observation_date', ascending=False, inplace=True, ignore_index=True)\n",
    "\n",
    "merged_df = pd.merge(df, cpi_df, on='observation_date', how='left')\n",
    "merged_df.drop_duplicates(inplace=True)\n",
    "merged_df.rename(columns={'CPIAUCNS':'cpi'}, inplace=True)\n",
    "merged_df[:5]\n",
    "print(merged_df.shape)"
   ]
  },
  {
   "cell_type": "code",
   "execution_count": 14,
   "metadata": {},
   "outputs": [
    {
     "name": "stdout",
     "output_type": "stream",
     "text": [
      "20914\n",
      "11009\n"
     ]
    }
   ],
   "source": [
    "#Only keep the data that was sold from 201 to present\n",
    "print(merged_df.shape[0])\n",
    "merged_df = merged_df.loc[merged_df.date.dt.year>=2017]\n",
    "print(merged_df.shape[0])"
   ]
  },
  {
   "cell_type": "code",
   "execution_count": 15,
   "metadata": {
    "scrolled": true
   },
   "outputs": [
    {
     "data": {
      "image/png": "[encoded data removed]",
      "text/plain": [
       "<Figure size 360x360 with 1 Axes>"
      ]
     },
     "metadata": {
      "needs_background": "light"
     },
     "output_type": "display_data"
    }
   ],
   "source": [
    "#Plot the sale_price distribution\n",
    "chart = sns.displot(merged_df['sale_price'], bins=100)\n",
    "plt.title('Sale Price')\n",
    "plt.ticklabel_format(style='plain', axis='x')\n",
    "min_price = merged_df['sale_price'].min()\n",
    "max_price = merged_df['sale_price'].max()\n",
    "steps = (max_price-min_price)/9.0\n",
    "labels = np.arange(min_price, max_price+1, steps)\n",
    "chart.set(xticklabels=labels)\n",
    "chart.set_xticklabels(rotation=45);"
   ]
  },
  {
   "cell_type": "markdown",
   "metadata": {},
   "source": [
    "### Remove outliers and use power transformer on the target variable"
   ]
  },
  {
   "cell_type": "code",
   "execution_count": null,
   "metadata": {},
   "outputs": [],
   "source": [
    "#Define a function that calculates the boundaries for a feature\n",
    "def find_skewed_boundaries(df, var, distance):\n",
    "    \n",
    "    IQR = df[var].quantile(.75) - df[var].quantile(.25)\n",
    "    \n",
    "    lower_boundary = df[var].quantile(.25) - (distance*IQR)\n",
    "    upper_boundary = df[var].quantile(.75) + (distance*IQR)\n",
    "    \n",
    "    return upper_boundary, lower_boundary\n",
    "#This function will identify the outlier boundaries for a variable\n",
    "prop_func = lambda x: '${:,.2f}'.format(x)"
   ]
  },
  {
   "cell_type": "code",
   "execution_count": 21,
   "metadata": {},
   "outputs": [
    {
     "name": "stdout",
     "output_type": "stream",
     "text": [
      "The sale price upper boundary is 1959.59\n",
      "The sale price lower boundary is 0.0\n",
      "Number of observations before removing outliers: 9632\n",
      "Number of observations after removing outliers: 8529\n"
     ]
    },
    {
     "data": {
      "image/png": "[encoded data removed]",
      "text/plain": [
       "<Figure size 360x360 with 1 Axes>"
      ]
     },
     "metadata": {
      "needs_background": "light"
     },
     "output_type": "display_data"
    }
   ],
   "source": [
    "#Power Transformer\n",
    "et = vt.PowerTransformer(variables = ['sale_price'])\n",
    "et.fit(df_trimmed)\n",
    "\n",
    "transformed_df = et.transform(df_trimmed)\n",
    "\n",
    "sales_upper_boundary, sales_lower_boundary = find_skewed_boundaries(transformed_df, 'sale_price', 1.5)\n",
    "print(f'The sale price upper boundary is {np.round(sales_upper_boundary,2)}')\n",
    "print(f'The sale price lower boundary is {np.round(sales_lower_boundary,2)}')\n",
    "\n",
    "#Remove outlier values\n",
    "print(f'Number of observations before removing outliers: {transformed_df.shape[0]}')\n",
    "transformed_df = transformed_df.loc[transformed_df['sale_price']<sales_upper_boundary,:]\n",
    "transformed_df = transformed_df.loc[transformed_df['sale_price']>sales_lower_boundary]\n",
    "print(f'Number of observations after removing outliers: {transformed_df.shape[0]}')\n",
    "\n",
    "#Plot for the sale_price distribution\n",
    "chart = sns.displot(transformed_df['sale_price'], bins=100)\n",
    "plt.title('Sale Price with outliers removed')\n",
    "plt.ticklabel_format(style='plain', axis='x')\n",
    "skip_step = skip_step = (transformed_df['sale_price'].max() - transformed_df['sale_price'].min()) / 10\n",
    "labels = np.round(np.arange(transformed_df['sale_price'].min(), transformed_df['sale_price'].max(), skip_step-1),2)\n",
    "prop_labels = list(map(prop_func, labels))\n",
    "chart.set(xticks=labels)\n",
    "chart.set(xticklabels=prop_labels)\n",
    "chart.set_xticklabels(rotation=45);"
   ]
  },
  {
   "cell_type": "code",
   "execution_count": 20,
   "metadata": {},
   "outputs": [
    {
     "name": "stdout",
     "output_type": "stream",
     "text": [
      "The sale price upper boundary is 15.75\n",
      "The sale price lower boundary is 11.67\n",
      "Number of observations before removing outliers: 9632\n",
      "Number of observations after removing outliers: 9601\n"
     ]
    },
    {
     "data": {
      "image/png": "[encoded data removed]",
      "text/plain": [
       "<Figure size 360x360 with 1 Axes>"
      ]
     },
     "metadata": {
      "needs_background": "light"
     },
     "output_type": "display_data"
    }
   ],
   "source": [
    "#Alternatively\n",
    "#Log Transformer\n",
    "lt = vt.LogTransformer(variables = ['sale_price'])\n",
    "lt.fit(df_trimmed)\n",
    "\n",
    "log_df = lt.transform(df_trimmed)\n",
    "\n",
    "sales_upper_boundary, sales_lower_boundary = find_skewed_boundaries(log_df, 'sale_price', 1.5)\n",
    "print(f'The sale price upper boundary is {np.round(sales_upper_boundary,2)}')\n",
    "print(f'The sale price lower boundary is {np.round(sales_lower_boundary,2)}')\n",
    "\n",
    "#Remove outlier values\n",
    "print(f'Number of observations before removing outliers: {log_df.shape[0]}')\n",
    "log_df = log_df.loc[log_df['sale_price']<sales_upper_boundary,:]\n",
    "log_df = log_df.loc[log_df['sale_price']>sales_lower_boundary]\n",
    "print(f'Number of observations after removing outliers: {log_df.shape[0]}')\n",
    "\n",
    "chart = sns.displot(log_df['sale_price'], bins=100)\n",
    "plt.title('Sale Price with outliers removed')\n",
    "plt.ticklabel_format(style='plain', axis='x')\n",
    "skip_step = skip_step = (log_df['sale_price'].max() - log_df['sale_price'].min()) / 10\n",
    "labels = np.round(np.arange(log_df['sale_price'].min(), log_df['sale_price'].max(), skip_step-1),2)\n",
    "prop_labels = list(map(prop_func, labels))\n",
    "chart.set(xticks=labels)\n",
    "chart.set(xticklabels=prop_labels)\n",
    "chart.set_xticklabels(rotation=45);"
   ]
  },
  {
   "cell_type": "code",
   "execution_count": 22,
   "metadata": {
    "scrolled": true
   },
   "outputs": [
    {
     "data": {
      "text/html": [
       "<div>\n",
       "<style scoped>\n",
       "    .dataframe tbody tr th:only-of-type {\n",
       "        vertical-align: middle;\n",
       "    }\n",
       "\n",
       "    .dataframe tbody tr th {\n",
       "        vertical-align: top;\n",
       "    }\n",
       "\n",
       "    .dataframe thead th {\n",
       "        text-align: right;\n",
       "    }\n",
       "</style>\n",
       "<table border=\"1\" class=\"dataframe\">\n",
       "  <thead>\n",
       "    <tr style=\"text-align: right;\">\n",
       "      <th></th>\n",
       "      <th>year_built</th>\n",
       "      <th>age</th>\n",
       "    </tr>\n",
       "  </thead>\n",
       "  <tbody>\n",
       "    <tr>\n",
       "      <th>0</th>\n",
       "      <td>2004.00000</td>\n",
       "      <td>16.00000</td>\n",
       "    </tr>\n",
       "    <tr>\n",
       "      <th>1</th>\n",
       "      <td>1950.00000</td>\n",
       "      <td>70.00000</td>\n",
       "    </tr>\n",
       "    <tr>\n",
       "      <th>2</th>\n",
       "      <td>2016.00000</td>\n",
       "      <td>4.00000</td>\n",
       "    </tr>\n",
       "    <tr>\n",
       "      <th>3</th>\n",
       "      <td>1979.00000</td>\n",
       "      <td>41.00000</td>\n",
       "    </tr>\n",
       "    <tr>\n",
       "      <th>4</th>\n",
       "      <td>1921.00000</td>\n",
       "      <td>99.00000</td>\n",
       "    </tr>\n",
       "  </tbody>\n",
       "</table>\n",
       "</div>"
      ],
      "text/plain": [
       "   year_built      age\n",
       "0  2004.00000 16.00000\n",
       "1  1950.00000 70.00000\n",
       "2  2016.00000  4.00000\n",
       "3  1979.00000 41.00000\n",
       "4  1921.00000 99.00000"
      ]
     },
     "execution_count": 22,
     "metadata": {},
     "output_type": "execute_result"
    }
   ],
   "source": [
    "#Determine the age of the property \n",
    "transformed_df['age'] = transformed_df['date'].dt.year - transformed_df['year_built']\n",
    "transformed_df[['year_built','age']][:5]"
   ]
  },
  {
   "cell_type": "code",
   "execution_count": 23,
   "metadata": {
    "scrolled": true
   },
   "outputs": [
    {
     "name": "stdout",
     "output_type": "stream",
     "text": [
      "Number of categories for property_type: 24\n"
     ]
    },
    {
     "data": {
      "text/html": [
       "<div>\n",
       "<style scoped>\n",
       "    .dataframe tbody tr th:only-of-type {\n",
       "        vertical-align: middle;\n",
       "    }\n",
       "\n",
       "    .dataframe tbody tr th {\n",
       "        vertical-align: top;\n",
       "    }\n",
       "\n",
       "    .dataframe thead th {\n",
       "        text-align: right;\n",
       "    }\n",
       "</style>\n",
       "<table border=\"1\" class=\"dataframe\">\n",
       "  <thead>\n",
       "    <tr style=\"text-align: right;\">\n",
       "      <th></th>\n",
       "      <th>Average sale price</th>\n",
       "      <th>Count</th>\n",
       "      <th>Frequency</th>\n",
       "    </tr>\n",
       "  </thead>\n",
       "  <tbody>\n",
       "    <tr>\n",
       "      <th>Single Family Residence</th>\n",
       "      <td>$899,285.66</td>\n",
       "      <td>5617</td>\n",
       "      <td>63.44%</td>\n",
       "    </tr>\n",
       "    <tr>\n",
       "      <th>Condominium</th>\n",
       "      <td>$700,613.09</td>\n",
       "      <td>1962</td>\n",
       "      <td>24.54%</td>\n",
       "    </tr>\n",
       "    <tr>\n",
       "      <th>Duplex (2 units, any combination)</th>\n",
       "      <td>$903,127.78</td>\n",
       "      <td>313</td>\n",
       "      <td>3.84%</td>\n",
       "    </tr>\n",
       "    <tr>\n",
       "      <th>Planned Unit Development (PUD)</th>\n",
       "      <td>$749,200.44</td>\n",
       "      <td>272</td>\n",
       "      <td>3.41%</td>\n",
       "    </tr>\n",
       "    <tr>\n",
       "      <th>Apartment house (5+ units)</th>\n",
       "      <td>$1,749,133.02</td>\n",
       "      <td>105</td>\n",
       "      <td>1.55%</td>\n",
       "    </tr>\n",
       "    <tr>\n",
       "      <th>Triplex (3 units, any combination)</th>\n",
       "      <td>$1,012,377.54</td>\n",
       "      <td>104</td>\n",
       "      <td>1.42%</td>\n",
       "    </tr>\n",
       "    <tr>\n",
       "      <th>Quadplex (4 Units, Any Combination)</th>\n",
       "      <td>$1,139,323.33</td>\n",
       "      <td>97</td>\n",
       "      <td>1.25%</td>\n",
       "    </tr>\n",
       "    <tr>\n",
       "      <th>Residential - Vacant Land</th>\n",
       "      <td>$1,740,145.84</td>\n",
       "      <td>15</td>\n",
       "      <td>0.11%</td>\n",
       "    </tr>\n",
       "    <tr>\n",
       "      <th>MISCELLANEOUS   (Commercial)</th>\n",
       "      <td>$756,441.12</td>\n",
       "      <td>11</td>\n",
       "      <td>0.09%</td>\n",
       "    </tr>\n",
       "    <tr>\n",
       "      <th>Mobile home</th>\n",
       "      <td>$321,930.55</td>\n",
       "      <td>5</td>\n",
       "      <td>0.09%</td>\n",
       "    </tr>\n",
       "    <tr>\n",
       "      <th>Store, Retail Outlet</th>\n",
       "      <td>$1,086,136.95</td>\n",
       "      <td>4</td>\n",
       "      <td>0.03%</td>\n",
       "    </tr>\n",
       "    <tr>\n",
       "      <th>Parking Garage, Parking Structure</th>\n",
       "      <td>$3,585,926.35</td>\n",
       "      <td>4</td>\n",
       "      <td>0.05%</td>\n",
       "    </tr>\n",
       "    <tr>\n",
       "      <th>Light Industrial (10% Improved Office space; Machine Shop)</th>\n",
       "      <td>$2,649,031.39</td>\n",
       "      <td>3</td>\n",
       "      <td>0.01%</td>\n",
       "    </tr>\n",
       "    <tr>\n",
       "      <th>Religious, Church, Worship (Synagogue, Temple, Parsonage)</th>\n",
       "      <td>$2,215,213.98</td>\n",
       "      <td>3</td>\n",
       "      <td>0.03%</td>\n",
       "    </tr>\n",
       "    <tr>\n",
       "      <th>Gas Station</th>\n",
       "      <td>$936,215.42</td>\n",
       "      <td>3</td>\n",
       "      <td>0.02%</td>\n",
       "    </tr>\n",
       "    <tr>\n",
       "      <th>Hotel/Motel</th>\n",
       "      <td>$1,709,553.72</td>\n",
       "      <td>2</td>\n",
       "      <td>0.02%</td>\n",
       "    </tr>\n",
       "    <tr>\n",
       "      <th>Cooperative</th>\n",
       "      <td>$936,428.54</td>\n",
       "      <td>2</td>\n",
       "      <td>0.01%</td>\n",
       "    </tr>\n",
       "    <tr>\n",
       "      <th>Office Building</th>\n",
       "      <td>$1,760,000.00</td>\n",
       "      <td>1</td>\n",
       "      <td>0.02%</td>\n",
       "    </tr>\n",
       "    <tr>\n",
       "      <th>Public School (administration, campus, dorms, instruction)</th>\n",
       "      <td>$2,150,000.00</td>\n",
       "      <td>1</td>\n",
       "      <td>0.00%</td>\n",
       "    </tr>\n",
       "    <tr>\n",
       "      <th>Hospital - Private</th>\n",
       "      <td>$3,150,000.00</td>\n",
       "      <td>1</td>\n",
       "      <td>0.02%</td>\n",
       "    </tr>\n",
       "    <tr>\n",
       "      <th>Restaurant</th>\n",
       "      <td>$1,850,000.00</td>\n",
       "      <td>1</td>\n",
       "      <td>0.01%</td>\n",
       "    </tr>\n",
       "    <tr>\n",
       "      <th>Food Processing</th>\n",
       "      <td>$1,030,000.00</td>\n",
       "      <td>1</td>\n",
       "      <td>0.00%</td>\n",
       "    </tr>\n",
       "    <tr>\n",
       "      <th>Store/Office (mixed use)</th>\n",
       "      <td>$850,000.00</td>\n",
       "      <td>1</td>\n",
       "      <td>0.00%</td>\n",
       "    </tr>\n",
       "    <tr>\n",
       "      <th>Vehicle Sales, Vehicle Rentals (auto/truck/RV/boat/etc)</th>\n",
       "      <td>$2,750,000.00</td>\n",
       "      <td>1</td>\n",
       "      <td>0.01%</td>\n",
       "    </tr>\n",
       "  </tbody>\n",
       "</table>\n",
       "</div>"
      ],
      "text/plain": [
       "                                                   Average sale price  Count  \\\n",
       "Single Family Residence                                   $899,285.66   5617   \n",
       "Condominium                                               $700,613.09   1962   \n",
       "Duplex (2 units, any combination)                         $903,127.78    313   \n",
       "Planned Unit Development (PUD)                            $749,200.44    272   \n",
       "Apartment house (5+ units)                              $1,749,133.02    105   \n",
       "Triplex (3 units, any combination)                      $1,012,377.54    104   \n",
       "Quadplex (4 Units, Any Combination)                     $1,139,323.33     97   \n",
       "Residential - Vacant Land                               $1,740,145.84     15   \n",
       "MISCELLANEOUS   (Commercial)                              $756,441.12     11   \n",
       "Mobile home                                               $321,930.55      5   \n",
       "Store, Retail Outlet                                    $1,086,136.95      4   \n",
       "Parking Garage, Parking Structure                       $3,585,926.35      4   \n",
       "Light Industrial (10% Improved Office space; Ma...      $2,649,031.39      3   \n",
       "Religious, Church, Worship (Synagogue, Temple, ...      $2,215,213.98      3   \n",
       "Gas Station                                               $936,215.42      3   \n",
       "Hotel/Motel                                             $1,709,553.72      2   \n",
       "Cooperative                                               $936,428.54      2   \n",
       "Office Building                                         $1,760,000.00      1   \n",
       "Public School (administration, campus, dorms, i...      $2,150,000.00      1   \n",
       "Hospital - Private                                      $3,150,000.00      1   \n",
       "Restaurant                                              $1,850,000.00      1   \n",
       "Food Processing                                         $1,030,000.00      1   \n",
       "Store/Office (mixed use)                                  $850,000.00      1   \n",
       "Vehicle Sales, Vehicle Rentals (auto/truck/RV/b...      $2,750,000.00      1   \n",
       "\n",
       "                                                   Frequency  \n",
       "Single Family Residence                               63.44%  \n",
       "Condominium                                           24.54%  \n",
       "Duplex (2 units, any combination)                      3.84%  \n",
       "Planned Unit Development (PUD)                         3.41%  \n",
       "Apartment house (5+ units)                             1.55%  \n",
       "Triplex (3 units, any combination)                     1.42%  \n",
       "Quadplex (4 Units, Any Combination)                    1.25%  \n",
       "Residential - Vacant Land                              0.11%  \n",
       "MISCELLANEOUS   (Commercial)                           0.09%  \n",
       "Mobile home                                            0.09%  \n",
       "Store, Retail Outlet                                   0.03%  \n",
       "Parking Garage, Parking Structure                      0.05%  \n",
       "Light Industrial (10% Improved Office space; Ma...     0.01%  \n",
       "Religious, Church, Worship (Synagogue, Temple, ...     0.03%  \n",
       "Gas Station                                            0.02%  \n",
       "Hotel/Motel                                            0.02%  \n",
       "Cooperative                                            0.01%  \n",
       "Office Building                                        0.02%  \n",
       "Public School (administration, campus, dorms, i...     0.00%  \n",
       "Hospital - Private                                     0.02%  \n",
       "Restaurant                                             0.01%  \n",
       "Food Processing                                        0.00%  \n",
       "Store/Office (mixed use)                               0.00%  \n",
       "Vehicle Sales, Vehicle Rentals (auto/truck/RV/b...     0.01%  "
      ]
     },
     "execution_count": 23,
     "metadata": {},
     "output_type": "execute_result"
    }
   ],
   "source": [
    "#Examine the property type feature\n",
    "temp = pd.concat([transformed_df.groupby('property_type')['sale_price'].mean(),transformed_df.groupby('property_type')['sale_price'].count(), df['property_type'].value_counts(normalize=True)], axis=1)\n",
    "temp.columns = ['Average sale price','Count', 'Frequency']\n",
    "temp['Average sale price'] = temp['Average sale price']**2\n",
    "temp.sort_values(by=['Count'], axis=0,ascending=False, inplace=True)\n",
    "temp.dropna(inplace=True)\n",
    "temp['Count'] = temp['Count'].astype(int)\n",
    "temp['Average sale price'] = temp['Average sale price'].apply(lambda x: '${:,.2f}'.format(x))\n",
    "temp['Frequency'] = temp['Frequency'].apply(lambda x: \"{0:.2f}%\".format(x*100))\n",
    "print(f'Number of categories for property_type: {transformed_df.property_type.nunique()}')\n",
    "temp"
   ]
  },
  {
   "cell_type": "code",
   "execution_count": 25,
   "metadata": {
    "scrolled": false
   },
   "outputs": [
    {
     "name": "stdout",
     "output_type": "stream",
     "text": [
      "Remove every property type except Single Family Residence\n",
      "8529 number of Single Family Residence's\n",
      "2912 number of observations removed\n"
     ]
    }
   ],
   "source": [
    "#Only keep the Single Family Residence \n",
    "print('Remove every property type except Single Family Residence')\n",
    "num_1 = transformed_df.shape[0]\n",
    "print(f'{num_1} number of Single Family Residence\\'s')\n",
    "removed_df = transformed_df.loc[transformed_df['property_type']!='Single Family Residence']\n",
    "num_2 = removed_df.shape[0]\n",
    "print(f'{num_2} number of observations removed')\n",
    "transformed_df = transformed_df.loc[transformed_df['property_type']=='Single Family Residence']"
   ]
  },
  {
   "cell_type": "code",
   "execution_count": 26,
   "metadata": {},
   "outputs": [
    {
     "name": "stdout",
     "output_type": "stream",
     "text": [
      "Lot size upper boundary is 17301.0\n",
      "Number of observations before removing outliers: 5617\n",
      "Number of observations after removing outliers: 5242\n",
      "Removed 375 observations\n"
     ]
    },
    {
     "data": {
      "image/png": "[encoded data removed]",
      "text/plain": [
       "<Figure size 720x360 with 2 Axes>"
      ]
     },
     "metadata": {
      "needs_background": "light"
     },
     "output_type": "display_data"
    }
   ],
   "source": [
    "#Remove outliers for lot size\n",
    "lot_size_upper_boundary, lot_size_lower_boundary = find_skewed_boundaries(transformed_df, 'lot_size', 3.0)\n",
    "print(f'Lot size upper boundary is {lot_size_upper_boundary}')\n",
    "\n",
    "#Remove outlier values\n",
    "trimmed_df = transformed_df.loc[transformed_df['lot_size']<lot_size_upper_boundary,:]\n",
    "print(f'Number of observations before removing outliers: {transformed_df.shape[0]}')\n",
    "print(f'Number of observations after removing outliers: {trimmed_df.shape[0]}')\n",
    "print(f'Removed {transformed_df.shape[0]-trimmed_df.shape[0]} observations')\n",
    "\n",
    "fig, ax = plt.subplots(1,2, figsize=(10,5))\n",
    "\n",
    "transformed_df['lot_size'].plot(kind='hist', ax=ax[0])\n",
    "ax[0].set_title('Lot Size distribution before removing outliers')\n",
    "\n",
    "trimmed_df['lot_size'].plot(kind='hist', ax=ax[1])\n",
    "ax[1].set_title('Lot Size distribution after removing outliers')\n",
    "plt.show()"
   ]
  },
  {
   "cell_type": "code",
   "execution_count": 27,
   "metadata": {},
   "outputs": [],
   "source": [
    "ohe_encoder = OneHotCategoricalEncoder(top_categories=7,\n",
    "                                       variables=['crime_index', 'school_quality'])\n",
    "\n",
    "ohe_encoder.fit(trimmed_df)\n",
    "\n",
    "temp = ohe_encoder.transform(trimmed_df)"
   ]
  },
  {
   "cell_type": "code",
   "execution_count": 28,
   "metadata": {
    "scrolled": false
   },
   "outputs": [
    {
     "data": {
      "image/png": "[encoded data removed]",
      "text/plain": [
       "<Figure size 864x648 with 2 Axes>"
      ]
     },
     "metadata": {
      "needs_background": "light"
     },
     "output_type": "display_data"
    }
   ],
   "source": [
    "corrmat = temp.corr()\n",
    "f, ax = plt.subplots(figsize=(12, 9))\n",
    "sns.heatmap(corrmat);"
   ]
  },
  {
   "cell_type": "code",
   "execution_count": 29,
   "metadata": {},
   "outputs": [
    {
     "name": "stdout",
     "output_type": "stream",
     "text": [
      "correlated features:  4\n",
      "{'bedrooms', 'bathrooms', 'parcel_number', 'age'}\n"
     ]
    }
   ],
   "source": [
    "def correlation(dataset, threshold):\n",
    "    \n",
    "    col_corr = set()  # Set of all the names of correlated columns\n",
    "    corr_matrix = dataset.corr()\n",
    "    \n",
    "    for i in range(len(corr_matrix.columns)):\n",
    "        for j in range(i):\n",
    "            # we are interested in absolute coeff value\n",
    "            if abs(corr_matrix.iloc[i, j]) > threshold:\n",
    "                colname = corr_matrix.columns[i]  # getting the name of column\n",
    "                col_corr.add(colname)\n",
    "    \n",
    "    return col_corr\n",
    "\n",
    "\n",
    "corr_features = correlation(temp, 0.6)\n",
    "print('correlated features: ', len(set(corr_features)))\n",
    "print(corr_features)"
   ]
  },
  {
   "cell_type": "code",
   "execution_count": 30,
   "metadata": {
    "scrolled": false
   },
   "outputs": [
    {
     "data": {
      "text/html": [
       "<div>\n",
       "<style scoped>\n",
       "    .dataframe tbody tr th:only-of-type {\n",
       "        vertical-align: middle;\n",
       "    }\n",
       "\n",
       "    .dataframe tbody tr th {\n",
       "        vertical-align: top;\n",
       "    }\n",
       "\n",
       "    .dataframe thead th {\n",
       "        text-align: right;\n",
       "    }\n",
       "</style>\n",
       "<table border=\"1\" class=\"dataframe\">\n",
       "  <thead>\n",
       "    <tr style=\"text-align: right;\">\n",
       "      <th></th>\n",
       "      <th>Sale Price 'Power Scale'</th>\n",
       "      <th>Count of crime index type</th>\n",
       "      <th>Sale Price 'Real Scale'</th>\n",
       "    </tr>\n",
       "    <tr>\n",
       "      <th>crime_index</th>\n",
       "      <th></th>\n",
       "      <th></th>\n",
       "      <th></th>\n",
       "    </tr>\n",
       "  </thead>\n",
       "  <tbody>\n",
       "    <tr>\n",
       "      <th>Very Low</th>\n",
       "      <td>$1,035.08</td>\n",
       "      <td>401</td>\n",
       "      <td>$1,071,382.38</td>\n",
       "    </tr>\n",
       "    <tr>\n",
       "      <th>Slightly High</th>\n",
       "      <td>$1,027.56</td>\n",
       "      <td>1406</td>\n",
       "      <td>$1,055,887.42</td>\n",
       "    </tr>\n",
       "    <tr>\n",
       "      <th>Low</th>\n",
       "      <td>$933.74</td>\n",
       "      <td>1484</td>\n",
       "      <td>$871,875.65</td>\n",
       "    </tr>\n",
       "    <tr>\n",
       "      <th>Moderate</th>\n",
       "      <td>$851.08</td>\n",
       "      <td>1752</td>\n",
       "      <td>$724,331.64</td>\n",
       "    </tr>\n",
       "    <tr>\n",
       "      <th>Moderately High</th>\n",
       "      <td>$790.31</td>\n",
       "      <td>134</td>\n",
       "      <td>$624,595.02</td>\n",
       "    </tr>\n",
       "    <tr>\n",
       "      <th>High</th>\n",
       "      <td>$706.45</td>\n",
       "      <td>64</td>\n",
       "      <td>$499,076.46</td>\n",
       "    </tr>\n",
       "    <tr>\n",
       "      <th>Very High</th>\n",
       "      <td>$580.52</td>\n",
       "      <td>1</td>\n",
       "      <td>$337,000.00</td>\n",
       "    </tr>\n",
       "  </tbody>\n",
       "</table>\n",
       "</div>"
      ],
      "text/plain": [
       "                Sale Price 'Power Scale'  Count of crime index type  \\\n",
       "crime_index                                                           \n",
       "Very Low                       $1,035.08                        401   \n",
       "Slightly High                  $1,027.56                       1406   \n",
       "Low                              $933.74                       1484   \n",
       "Moderate                         $851.08                       1752   \n",
       "Moderately High                  $790.31                        134   \n",
       "High                             $706.45                         64   \n",
       "Very High                        $580.52                          1   \n",
       "\n",
       "                Sale Price 'Real Scale'  \n",
       "crime_index                              \n",
       "Very Low                  $1,071,382.38  \n",
       "Slightly High             $1,055,887.42  \n",
       "Low                         $871,875.65  \n",
       "Moderate                    $724,331.64  \n",
       "Moderately High             $624,595.02  \n",
       "High                        $499,076.46  \n",
       "Very High                   $337,000.00  "
      ]
     },
     "execution_count": 30,
     "metadata": {},
     "output_type": "execute_result"
    }
   ],
   "source": [
    "#Let's examine crime index\n",
    "temp = pd.concat([trimmed_df.groupby('crime_index')['sale_price'].mean(), trimmed_df.groupby('crime_index')['sale_price'].count()], axis=1)\n",
    "temp.columns = ['Sale Price \\'Power Scale\\'', 'Count of crime index type']\n",
    "temp['Sale Price \\'Real Scale\\''] = temp['Sale Price \\'Power Scale\\'']**2\n",
    "temp.sort_values(by='Sale Price \\'Power Scale\\'', ascending=False, inplace=True)\n",
    "temp['Sale Price \\'Power Scale\\''] = temp['Sale Price \\'Power Scale\\''].apply(lambda x: '${:,.2f}'.format(x))\n",
    "temp['Sale Price \\'Real Scale\\''] = temp['Sale Price \\'Real Scale\\''].apply(lambda x: '${:,.2f}'.format(x))\n",
    "temp"
   ]
  },
  {
   "cell_type": "code",
   "execution_count": 33,
   "metadata": {},
   "outputs": [
    {
     "data": {
      "image/png": "[encoded data removed]",
      "text/plain": [
       "<Figure size 864x288 with 1 Axes>"
      ]
     },
     "metadata": {
      "needs_background": "light"
     },
     "output_type": "display_data"
    }
   ],
   "source": [
    "order=['Slightly High', 'Moderate', 'Low', 'Very Low']\n",
    "temp = trimmed_df.loc[((trimmed_df['crime_index']!='High') & (trimmed_df['crime_index']!='Moderately High'))]\n",
    "plt.figure(figsize=(12,4))\n",
    "sns.violinplot(x='crime_index', y='sale_price', data=temp, order=order)\n",
    "plt.ticklabel_format(style='plain', axis='y')"
   ]
  },
  {
   "cell_type": "code",
   "execution_count": 34,
   "metadata": {},
   "outputs": [
    {
     "data": {
      "text/html": [
       "<div>\n",
       "<style scoped>\n",
       "    .dataframe tbody tr th:only-of-type {\n",
       "        vertical-align: middle;\n",
       "    }\n",
       "\n",
       "    .dataframe tbody tr th {\n",
       "        vertical-align: top;\n",
       "    }\n",
       "\n",
       "    .dataframe thead th {\n",
       "        text-align: right;\n",
       "    }\n",
       "</style>\n",
       "<table border=\"1\" class=\"dataframe\">\n",
       "  <thead>\n",
       "    <tr style=\"text-align: right;\">\n",
       "      <th></th>\n",
       "      <th>Average sale price</th>\n",
       "      <th>Count of school_quality types</th>\n",
       "      <th>Real Average sale price</th>\n",
       "    </tr>\n",
       "    <tr>\n",
       "      <th>school_quality</th>\n",
       "      <th></th>\n",
       "      <th></th>\n",
       "      <th></th>\n",
       "    </tr>\n",
       "  </thead>\n",
       "  <tbody>\n",
       "    <tr>\n",
       "      <th>Excellent</th>\n",
       "      <td>$1,052.03</td>\n",
       "      <td>1449</td>\n",
       "      <td>$1,106,762.38</td>\n",
       "    </tr>\n",
       "    <tr>\n",
       "      <th>Above Average</th>\n",
       "      <td>$938.61</td>\n",
       "      <td>1332</td>\n",
       "      <td>$880,988.23</td>\n",
       "    </tr>\n",
       "    <tr>\n",
       "      <th>Average</th>\n",
       "      <td>$881.18</td>\n",
       "      <td>1791</td>\n",
       "      <td>$776,472.34</td>\n",
       "    </tr>\n",
       "    <tr>\n",
       "      <th>Poor</th>\n",
       "      <td>$799.21</td>\n",
       "      <td>670</td>\n",
       "      <td>$638,741.52</td>\n",
       "    </tr>\n",
       "  </tbody>\n",
       "</table>\n",
       "</div>"
      ],
      "text/plain": [
       "               Average sale price  Count of school_quality types  \\\n",
       "school_quality                                                     \n",
       "Excellent               $1,052.03                           1449   \n",
       "Above Average             $938.61                           1332   \n",
       "Average                   $881.18                           1791   \n",
       "Poor                      $799.21                            670   \n",
       "\n",
       "               Real Average sale price  \n",
       "school_quality                          \n",
       "Excellent                $1,106,762.38  \n",
       "Above Average              $880,988.23  \n",
       "Average                    $776,472.34  \n",
       "Poor                       $638,741.52  "
      ]
     },
     "execution_count": 34,
     "metadata": {},
     "output_type": "execute_result"
    }
   ],
   "source": [
    "#Let's examine school quality\n",
    "temp = pd.concat([trimmed_df.groupby('school_quality')['sale_price'].mean(), trimmed_df.groupby('school_quality')['sale_price'].count()], axis=1)\n",
    "temp.columns = ['Average sale price', 'Count of school_quality types']\n",
    "temp['Average sale price'] = temp['Average sale price']\n",
    "temp['Real Average sale price'] = temp['Average sale price']**2\n",
    "temp.sort_values(by='Average sale price', ascending=False, inplace=True)\n",
    "temp['Average sale price'] = temp['Average sale price'].apply(lambda x: '${:,.2f}'.format(x))\n",
    "temp['Real Average sale price'] = temp['Real Average sale price'].apply(lambda x: '${:,.2f}'.format(x))\n",
    "temp"
   ]
  },
  {
   "cell_type": "code",
   "execution_count": 35,
   "metadata": {},
   "outputs": [
    {
     "name": "stdout",
     "output_type": "stream",
     "text": [
      "Number of observations before removing duplicate houses 5242\n",
      "Number of observations after removing duplicate houses 4779\n"
     ]
    }
   ],
   "source": [
    "#Create a dataset with just unique houses\n",
    "houses = trimmed_df.sort_values(by='date', ascending=False).reset_index(drop=True)\n",
    "houses['sale_price'] = houses['sale_price']**2\n",
    "print(f'Number of observations before removing duplicate houses {houses.shape[0]}')\n",
    "houses = houses.drop_duplicates(subset='address')\n",
    "print(f'Number of observations after removing duplicate houses {houses.shape[0]}')\n",
    "houses.to_csv('Data/houses.csv', index=False)"
   ]
  },
  {
   "cell_type": "code",
   "execution_count": 36,
   "metadata": {
    "scrolled": true
   },
   "outputs": [],
   "source": [
    "#Lets remove the features that won't be needed for the model\n",
    "drop_features = ['address','year_built', 'parcel_number', 'date', 'observation_date', 'property_type', 'url']\n",
    "\n",
    "final_df = trimmed_df.drop(drop_features, axis=1)"
   ]
  },
  {
   "cell_type": "code",
   "execution_count": 37,
   "metadata": {},
   "outputs": [],
   "source": [
    "final_df.to_csv('Data/house_data_details_eda.csv', index=False)"
   ]
  }
 ],
 "metadata": {
  "kernelspec": {
   "display_name": "Python 3",
   "language": "python",
   "name": "python3"
  },
  "language_info": {
   "codemirror_mode": {
    "name": "ipython",
    "version": 3
   },
   "file_extension": ".py",
   "mimetype": "text/x-python",
   "name": "python",
   "nbconvert_exporter": "python",
   "pygments_lexer": "ipython3",
   "version": "3.7.6"
  }
 },
 "nbformat": 4,
 "nbformat_minor": 4
}
