{
 "cells": [
  {
   "cell_type": "code",
   "execution_count": 169,
   "metadata": {},
   "outputs": [],
   "source": [
    "import requests\n",
    "import json\n",
    "import pandas as pd\n",
    "import datetime"
   ]
  },
  {
   "cell_type": "code",
   "execution_count": 171,
   "metadata": {},
   "outputs": [],
   "source": [
    "#Unfortunately this is the most efficient way for me to obtain the cpi data.\n",
    "#I will create a time period of 8 years from now until 2020 and add it to a dataframe\n",
    "\n",
    "#Create the dataframe\n",
    "df = pd.DataFrame()\n",
    "headers = {'Content-type': 'application/json'}\n",
    "\n",
    "#Earliest date from our observation was 1964\n",
    "#Time Period of 1964-1972\n",
    "data = json.dumps({\"seriesid\": ['CUUR0000SA0'],\"startyear\":'1964', \"endyear\":'1972'})\n",
    "p = requests.post('https://api.bls.gov/publicAPI/v2/timeseries/data/', data=data, headers=headers)\n",
    "json_data = json.loads(p.text)"
   ]
  },
  {
   "cell_type": "code",
   "execution_count": null,
   "metadata": {},
   "outputs": [],
   "source": [
    "#Unfortunately this is the most efficient way for me to obtain the cpi data.\n",
    "#I will create a time period of 8 years from now until 2020 and add it to a dataframe\n",
    "\n",
    "#Create the dataframe\n",
    "df = pd.DataFrame()\n",
    "headers = {'Content-type': 'application/json'}\n",
    "\n",
    "#Earliest date from our observation was 1964\n",
    "#Time Period of 1964-1972\n",
    "data = json.dumps({\"seriesid\": ['CUUR0000SA0'],\"startyear\":'1964', \"endyear\":'1972'})\n",
    "p = requests.post('https://api.bls.gov/publicAPI/v2/timeseries/data/', data=data, headers=headers)\n",
    "json_data = json.loads(p.text)\n",
    "time_period = json_data['Results']['series'][0]['data']\n",
    "\n",
    "for item in time_period:\n",
    "    \n",
    "    year = item.get('year')\n",
    "    month = item.get('periodName')\n",
    "    cpi = item.get('value')\n",
    "    \n",
    "    df_temp = pd.DataFrame({\n",
    "        \n",
    "        'year': year,\n",
    "        'month': month,\n",
    "        'cpi': cpi\n",
    "    }, index=[0])\n",
    "    \n",
    "    df = df.append(df_temp, ignore_index=True)\n",
    "    \n",
    "print(df.shape)"
   ]
  },
  {
   "cell_type": "code",
   "execution_count": null,
   "metadata": {},
   "outputs": [],
   "source": [
    "#Time Period of 1964-1972\n",
    "data = json.dumps({\"seriesid\": ['CUUR0000SA0'],\"startyear\":'1973', \"endyear\":'1981'})\n",
    "p = requests.post('https://api.bls.gov/publicAPI/v2/timeseries/data/', data=data, headers=headers)\n",
    "json_data = json.loads(p.text)\n",
    "time_period = json_data['Results']['series'][0]['data']\n",
    "\n",
    "for item in time_period:\n",
    "    \n",
    "    year = item.get('year')\n",
    "    month = item.get('periodName')\n",
    "    cpi = item.get('value')\n",
    "    \n",
    "    df_temp = pd.DataFrame({\n",
    "        \n",
    "        'year': year,\n",
    "        'month': month,\n",
    "        'cpi': cpi\n",
    "    }, index=[0])\n",
    "    \n",
    "    df = df.append(df_temp, ignore_index=True)\n",
    "    \n",
    "print(df.shape)"
   ]
  },
  {
   "cell_type": "code",
   "execution_count": null,
   "metadata": {},
   "outputs": [],
   "source": [
    "#Time Period of 1982-1990\n",
    "data = json.dumps({\"seriesid\": ['CUUR0000SA0'],\"startyear\":'1982', \"endyear\":'1990'})\n",
    "p = requests.post('https://api.bls.gov/publicAPI/v2/timeseries/data/', data=data, headers=headers)\n",
    "json_data = json.loads(p.text)\n",
    "time_period = json_data['Results']['series'][0]['data']\n",
    "\n",
    "for item in time_period:\n",
    "    \n",
    "    year = item.get('year')\n",
    "    month = item.get('periodName')\n",
    "    cpi = item.get('value')\n",
    "    \n",
    "    df_temp = pd.DataFrame({\n",
    "        \n",
    "        'year': year,\n",
    "        'month': month,\n",
    "        'cpi': cpi\n",
    "    }, index=[0])\n",
    "    \n",
    "    df = df.append(df_temp, ignore_index=True)\n",
    "    \n",
    "print(df.shape)"
   ]
  },
  {
   "cell_type": "code",
   "execution_count": null,
   "metadata": {},
   "outputs": [],
   "source": [
    "#Time Period of 1991-1999\n",
    "data = json.dumps({\"seriesid\": ['CUUR0000SA0'],\"startyear\":'1991', \"endyear\":'1999'})\n",
    "p = requests.post('https://api.bls.gov/publicAPI/v2/timeseries/data/', data=data, headers=headers)\n",
    "json_data = json.loads(p.text)\n",
    "time_period = json_data['Results']['series'][0]['data']\n",
    "\n",
    "for item in time_period:\n",
    "    \n",
    "    year = item.get('year')\n",
    "    month = item.get('periodName')\n",
    "    cpi = item.get('value')\n",
    "    \n",
    "    df_temp = pd.DataFrame({\n",
    "        \n",
    "        'year': year,\n",
    "        'month': month,\n",
    "        'cpi': cpi\n",
    "    }, index=[0])\n",
    "    \n",
    "    df = df.append(df_temp, ignore_index=True)\n",
    "    \n",
    "print(df.shape)"
   ]
  },
  {
   "cell_type": "code",
   "execution_count": null,
   "metadata": {},
   "outputs": [],
   "source": [
    "#Time Period of 2000-2008\n",
    "data = json.dumps({\"seriesid\": ['CUUR0000SA0'],\"startyear\":'2000', \"endyear\":'2008'})\n",
    "p = requests.post('https://api.bls.gov/publicAPI/v2/timeseries/data/', data=data, headers=headers)\n",
    "json_data = json.loads(p.text)\n",
    "time_period = json_data['Results']['series'][0]['data']\n",
    "\n",
    "for item in time_period:\n",
    "    \n",
    "    year = item.get('year')\n",
    "    month = item.get('periodName')\n",
    "    cpi = item.get('value')\n",
    "    \n",
    "    df_temp = pd.DataFrame({\n",
    "        \n",
    "        'year': year,\n",
    "        'month': month,\n",
    "        'cpi': cpi\n",
    "    }, index=[0])\n",
    "    \n",
    "    df = df.append(df_temp, ignore_index=True)\n",
    "    \n",
    "print(df.shape)"
   ]
  },
  {
   "cell_type": "code",
   "execution_count": null,
   "metadata": {},
   "outputs": [],
   "source": [
    "#Time Period of 2009-2017\n",
    "data = json.dumps({\"seriesid\": ['CUUR0000SA0'],\"startyear\":'2009', \"endyear\":'2017'})\n",
    "p = requests.post('https://api.bls.gov/publicAPI/v2/timeseries/data/', data=data, headers=headers)\n",
    "json_data = json.loads(p.text)\n",
    "time_period = json_data['Results']['series'][0]['data']\n",
    "\n",
    "for item in time_period:\n",
    "    \n",
    "    year = item.get('year')\n",
    "    month = item.get('periodName')\n",
    "    cpi = item.get('value')\n",
    "    \n",
    "    df_temp = pd.DataFrame({\n",
    "        \n",
    "        'year': year,\n",
    "        'month': month,\n",
    "        'cpi': cpi\n",
    "    }, index=[0])\n",
    "    \n",
    "    df = df.append(df_temp, ignore_index=True)\n",
    "    \n",
    "print(df.shape)"
   ]
  },
  {
   "cell_type": "code",
   "execution_count": null,
   "metadata": {},
   "outputs": [],
   "source": [
    "#Time Period of 2017-2020\n",
    "data = json.dumps({\"seriesid\": ['CUUR0000SA0'],\"startyear\":'2017', \"endyear\":'2020'})\n",
    "p = requests.post('https://api.bls.gov/publicAPI/v2/timeseries/data/', data=data, headers=headers)\n",
    "json_data = json.loads(p.text)\n",
    "time_period = json_data['Results']['series'][0]['data']\n",
    "\n",
    "for item in time_period:\n",
    "    \n",
    "    year = item.get('year')\n",
    "    month = item.get('periodName')\n",
    "    cpi = item.get('value')\n",
    "    \n",
    "    df_temp = pd.DataFrame({\n",
    "        \n",
    "        'year': year,\n",
    "        'month': month,\n",
    "        'cpi': cpi\n",
    "    }, index=[0])\n",
    "    \n",
    "    df = df.append(df_temp, ignore_index=True)\n",
    "    \n",
    "print(df.shape)"
   ]
  },
  {
   "cell_type": "code",
   "execution_count": null,
   "metadata": {
    "scrolled": true
   },
   "outputs": [],
   "source": [
    "#Clean up the cpi dataframe\n",
    "df['day'] = 1\n",
    "df['month'] = df['month'].apply(lambda x: datetime.datetime.strptime(x, \"%B\").month)\n",
    "df['date'] = pd.to_datetime(df[['year', 'month', 'day']])\n",
    "df.sort_values(by='date', ascending=False, inplace=True)\n",
    "df.drop(['year', 'month', 'day'], axis=1, inplace=True)\n",
    "df.head()"
   ]
  },
  {
   "cell_type": "code",
   "execution_count": null,
   "metadata": {},
   "outputs": [],
   "source": [
    "#If the most recent month does not have a cpi\n",
    "df = df.append({'cpi': df['cpi'].iloc[0],\n",
    "                'date': '2020-11-01'}, ignore_index=True)\n",
    "df['date'] = pd.to_datetime(df['date'])\n",
    "df.sort_values(by='date', ascending=False, reset_index=True, inplace=True)\n",
    "df.head()"
   ]
  },
  {
   "cell_type": "code",
   "execution_count": 129,
   "metadata": {},
   "outputs": [],
   "source": [
    "#Save the dataframe\n",
    "df.to_csv('Data/cpi_data.csv', index=False)"
   ]
  }
 ],
 "metadata": {
  "kernelspec": {
   "display_name": "Python (avm)",
   "language": "python",
   "name": "avm"
  },
  "language_info": {
   "codemirror_mode": {
    "name": "ipython",
    "version": 3
   },
   "file_extension": ".py",
   "mimetype": "text/x-python",
   "name": "python",
   "nbconvert_exporter": "python",
   "pygments_lexer": "ipython3",
   "version": "3.7.6"
  }
 },
 "nbformat": 4,
 "nbformat_minor": 4
}
