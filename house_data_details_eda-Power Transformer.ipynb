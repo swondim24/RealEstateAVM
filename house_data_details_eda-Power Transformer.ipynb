{
 "cells": [
  {
   "cell_type": "code",
   "execution_count": 39,
   "metadata": {},
   "outputs": [],
   "source": [
    "import pandas as pd\n",
    "import datetime\n",
    "from pandas_profiling import ProfileReport\n",
    "import geopandas as gpd\n",
    "import numpy as np\n",
    "np.set_printoptions(formatter={'float_kind':'{:f}'.format})\n",
    "import matplotlib.pyplot as plt\n",
    "import seaborn as sns\n",
    "from feature_engine.categorical_encoders import RareLabelCategoricalEncoder, OneHotCategoricalEncoder, MeanCategoricalEncoder\n",
    "from feature_engine import variable_transformers as vt\n",
    "from feature_engine.outlier_removers import Winsorizer\n",
    "from shapely.geometry import Point, MultiPolygon, Polygon\n",
    "import mysql.connector as sql\n",
    "import details\n",
    "\n",
    "%matplotlib inline\n",
    "import warnings\n",
    "warnings.filterwarnings('ignore')\n",
    "\n",
    "pd.set_option('display.max_columns', None)\n",
    "pd.options.display.float_format = '{:.5f}'.format"
   ]
  },
  {
   "cell_type": "code",
   "execution_count": 40,
   "metadata": {},
   "outputs": [],
   "source": [
    "#Read both dataframes\n",
    "#Combine the details dataframe with saleshistory dataframe\n",
    "#details = pd.read_csv('Data/house_data_details_cleaned.csv')\n",
    "#history = pd.read_csv('Data/house_data_saleshistory_cleaned.csv')"
   ]
  },
  {
   "cell_type": "code",
   "execution_count": 41,
   "metadata": {},
   "outputs": [],
   "source": [
    "#Upload the saleshistory data to mysql database\n",
    "db_connection = sql.connect(\n",
    "    \n",
    "    host = 'Samuels-MacBook-Air.local',\n",
    "    user = 'root',\n",
    "    passwd = details.db_password,\n",
    "    database = 'realestate_avm'\n",
    ")\n",
    "\n",
    "\n",
    "homes = pd.read_sql('SELECT * FROM Homes;', con=db_connection)\n",
    "history = pd.read_sql('SELECT * FROM SalesHistory;', con=db_connection)"
   ]
  },
  {
   "cell_type": "code",
   "execution_count": 42,
   "metadata": {},
   "outputs": [
    {
     "name": "stdout",
     "output_type": "stream",
     "text": [
      "(7937, 18) (15323, 3)\n",
      "(18170, 20)\n"
     ]
    }
   ],
   "source": [
    "#Lets combine the two dataframes\n",
    "print(homes.shape, history.shape)\n",
    "df = pd.merge(homes, history, on='ParcelNumber', how='left')\n",
    "print(df.shape)"
   ]
  },
  {
   "cell_type": "code",
   "execution_count": 4,
   "metadata": {
    "scrolled": true
   },
   "outputs": [
    {
     "name": "stdout",
     "output_type": "stream",
     "text": [
      "(1962, 28) (4824, 3)\n",
      "(5011, 30)\n"
     ]
    }
   ],
   "source": [
    "#Join the original house dataset with the sales history dataframe\n",
    "print(gdf.shape, history.shape)\n",
    "raw_data = pd.merge(gdf, history, on='parcel_number', how='left')\n",
    "print(raw_data.shape)\n",
    "\n",
    "#There are some properties in the saleshistory dataframe that are not \n",
    "#in the details dataframe. That is why the total number of observations\n",
    "#do not add up after the merge"
   ]
  },
  {
   "cell_type": "code",
   "execution_count": 44,
   "metadata": {},
   "outputs": [
    {
     "name": "stdout",
     "output_type": "stream",
     "text": [
      "Number of missing values for price after the merge and before the imputation: 2847\n",
      "Number of missing values for price after imputing the missing values: 0\n"
     ]
    },
    {
     "data": {
      "text/html": [
       "<div>\n",
       "<style scoped>\n",
       "    .dataframe tbody tr th:only-of-type {\n",
       "        vertical-align: middle;\n",
       "    }\n",
       "\n",
       "    .dataframe tbody tr th {\n",
       "        vertical-align: top;\n",
       "    }\n",
       "\n",
       "    .dataframe thead th {\n",
       "        text-align: right;\n",
       "    }\n",
       "</style>\n",
       "<table border=\"1\" class=\"dataframe\">\n",
       "  <thead>\n",
       "    <tr style=\"text-align: right;\">\n",
       "      <th></th>\n",
       "      <th>ParcelNumber</th>\n",
       "      <th>Address</th>\n",
       "      <th>Latitude</th>\n",
       "      <th>Longitude</th>\n",
       "      <th>HomeSize</th>\n",
       "      <th>LotSize</th>\n",
       "      <th>YearBuilt</th>\n",
       "      <th>Age</th>\n",
       "      <th>SexOffenders</th>\n",
       "      <th>CrimeIndex</th>\n",
       "      <th>EnviornmentalHazards</th>\n",
       "      <th>SchoolQuality</th>\n",
       "      <th>Bedrooms</th>\n",
       "      <th>Bathrooms</th>\n",
       "      <th>Neighborhood</th>\n",
       "      <th>SalePriceTransformed</th>\n",
       "      <th>Date</th>\n",
       "      <th>SalePrice</th>\n",
       "    </tr>\n",
       "  </thead>\n",
       "  <tbody>\n",
       "    <tr>\n",
       "      <th>0</th>\n",
       "      <td>2004006017</td>\n",
       "      <td>8380 Kentland Ave</td>\n",
       "      <td>34.22212</td>\n",
       "      <td>-118.61781</td>\n",
       "      <td>1882.00000</td>\n",
       "      <td>9072.00000</td>\n",
       "      <td>1972</td>\n",
       "      <td>48</td>\n",
       "      <td>4</td>\n",
       "      <td>Very Low</td>\n",
       "      <td>4</td>\n",
       "      <td>Average</td>\n",
       "      <td>4</td>\n",
       "      <td>2</td>\n",
       "      <td>West Hills</td>\n",
       "      <td>923.31900</td>\n",
       "      <td>2020-11-23</td>\n",
       "      <td>850000.00000</td>\n",
       "    </tr>\n",
       "    <tr>\n",
       "      <th>1</th>\n",
       "      <td>2004006017</td>\n",
       "      <td>8380 Kentland Ave</td>\n",
       "      <td>34.22212</td>\n",
       "      <td>-118.61781</td>\n",
       "      <td>1882.00000</td>\n",
       "      <td>9072.00000</td>\n",
       "      <td>1972</td>\n",
       "      <td>48</td>\n",
       "      <td>4</td>\n",
       "      <td>Very Low</td>\n",
       "      <td>4</td>\n",
       "      <td>Average</td>\n",
       "      <td>4</td>\n",
       "      <td>2</td>\n",
       "      <td>West Hills</td>\n",
       "      <td>923.31900</td>\n",
       "      <td>2006-11-03</td>\n",
       "      <td>680000.00000</td>\n",
       "    </tr>\n",
       "    <tr>\n",
       "      <th>2</th>\n",
       "      <td>2004009012</td>\n",
       "      <td>8356 Sausalito Ave</td>\n",
       "      <td>34.22127</td>\n",
       "      <td>-118.61559</td>\n",
       "      <td>1477.00000</td>\n",
       "      <td>11377.00000</td>\n",
       "      <td>1960</td>\n",
       "      <td>60</td>\n",
       "      <td>5</td>\n",
       "      <td>Very Low</td>\n",
       "      <td>4</td>\n",
       "      <td>Average</td>\n",
       "      <td>3</td>\n",
       "      <td>2</td>\n",
       "      <td>West Hills</td>\n",
       "      <td>882.69400</td>\n",
       "      <td>2020-09-23</td>\n",
       "      <td>777000.00000</td>\n",
       "    </tr>\n",
       "    <tr>\n",
       "      <th>3</th>\n",
       "      <td>2004011011</td>\n",
       "      <td>22546 Malden St</td>\n",
       "      <td>34.22459</td>\n",
       "      <td>-118.61834</td>\n",
       "      <td>3422.00000</td>\n",
       "      <td>9972.00000</td>\n",
       "      <td>1973</td>\n",
       "      <td>47</td>\n",
       "      <td>4</td>\n",
       "      <td>Very Low</td>\n",
       "      <td>4</td>\n",
       "      <td>Average</td>\n",
       "      <td>7</td>\n",
       "      <td>5</td>\n",
       "      <td>West Hills</td>\n",
       "      <td>998.66800</td>\n",
       "      <td>2020-10-02</td>\n",
       "      <td>995000.00000</td>\n",
       "    </tr>\n",
       "    <tr>\n",
       "      <th>4</th>\n",
       "      <td>2004015018</td>\n",
       "      <td>22711 Michale St</td>\n",
       "      <td>34.22703</td>\n",
       "      <td>-118.62186</td>\n",
       "      <td>2080.00000</td>\n",
       "      <td>11248.00000</td>\n",
       "      <td>1959</td>\n",
       "      <td>61</td>\n",
       "      <td>4</td>\n",
       "      <td>Very Low</td>\n",
       "      <td>5</td>\n",
       "      <td>Average</td>\n",
       "      <td>3</td>\n",
       "      <td>3</td>\n",
       "      <td>West Hills</td>\n",
       "      <td>925.39800</td>\n",
       "      <td>2020-09-28</td>\n",
       "      <td>854000.00000</td>\n",
       "    </tr>\n",
       "  </tbody>\n",
       "</table>\n",
       "</div>"
      ],
      "text/plain": [
       "  ParcelNumber             Address  Latitude  Longitude   HomeSize  \\\n",
       "0   2004006017   8380 Kentland Ave  34.22212 -118.61781 1882.00000   \n",
       "1   2004006017   8380 Kentland Ave  34.22212 -118.61781 1882.00000   \n",
       "2   2004009012  8356 Sausalito Ave  34.22127 -118.61559 1477.00000   \n",
       "3   2004011011     22546 Malden St  34.22459 -118.61834 3422.00000   \n",
       "4   2004015018    22711 Michale St  34.22703 -118.62186 2080.00000   \n",
       "\n",
       "      LotSize  YearBuilt  Age  SexOffenders CrimeIndex  EnviornmentalHazards  \\\n",
       "0  9072.00000       1972   48             4   Very Low                     4   \n",
       "1  9072.00000       1972   48             4   Very Low                     4   \n",
       "2 11377.00000       1960   60             5   Very Low                     4   \n",
       "3  9972.00000       1973   47             4   Very Low                     4   \n",
       "4 11248.00000       1959   61             4   Very Low                     5   \n",
       "\n",
       "  SchoolQuality  Bedrooms  Bathrooms Neighborhood  SalePriceTransformed  \\\n",
       "0       Average         4          2   West Hills             923.31900   \n",
       "1       Average         4          2   West Hills             923.31900   \n",
       "2       Average         3          2   West Hills             882.69400   \n",
       "3       Average         7          5   West Hills             998.66800   \n",
       "4       Average         3          3   West Hills             925.39800   \n",
       "\n",
       "         Date    SalePrice  \n",
       "0  2020-11-23 850000.00000  \n",
       "1  2006-11-03 680000.00000  \n",
       "2  2020-09-23 777000.00000  \n",
       "3  2020-10-02 995000.00000  \n",
       "4  2020-09-28 854000.00000  "
      ]
     },
     "execution_count": 44,
     "metadata": {},
     "output_type": "execute_result"
    }
   ],
   "source": [
    "#We'll be keeping the values from the right dataframe(for columns date and sale_price) since they exist in both dataframes\n",
    "#There are a lot of null values for properties that are not in the saleshistory. We'll fill those missing values \n",
    "#with the values from the left dataframe and then drop the duplicate features from the left dataframe\n",
    "\n",
    "print(f'Number of missing values for price after the merge and before the imputation: {df.SalePrice_y.isnull().sum()}')\n",
    "missing = df.loc[df['SalePrice_y'].isnull()].index\n",
    "df['Date_y'] = df['Date_y'].fillna(df['Date_x'])\n",
    "df['SalePrice_y'] = df['SalePrice_y'].fillna(df['SalePrice_x'])\n",
    "\n",
    "df.drop(['Date_x', 'SalePrice_x'], axis=1, inplace=True)\n",
    "df.rename(columns={'Date_y': 'Date', 'SalePrice_y':'SalePrice'}, inplace=True)\n",
    "\n",
    "print(f'Number of missing values for price after imputing the missing values: {df.SalePrice.isnull().sum()}')\n",
    "df.head()"
   ]
  },
  {
   "cell_type": "code",
   "execution_count": 45,
   "metadata": {},
   "outputs": [
    {
     "data": {
      "text/html": [
       "<div>\n",
       "<style scoped>\n",
       "    .dataframe tbody tr th:only-of-type {\n",
       "        vertical-align: middle;\n",
       "    }\n",
       "\n",
       "    .dataframe tbody tr th {\n",
       "        vertical-align: top;\n",
       "    }\n",
       "\n",
       "    .dataframe thead th {\n",
       "        text-align: right;\n",
       "    }\n",
       "</style>\n",
       "<table border=\"1\" class=\"dataframe\">\n",
       "  <thead>\n",
       "    <tr style=\"text-align: right;\">\n",
       "      <th></th>\n",
       "      <th>latitude</th>\n",
       "      <th>longitude</th>\n",
       "      <th>home_size</th>\n",
       "      <th>lot_size</th>\n",
       "      <th>year_built</th>\n",
       "      <th>parcel_number</th>\n",
       "      <th>realtyID</th>\n",
       "      <th>census</th>\n",
       "      <th>tract</th>\n",
       "      <th>estimated_value</th>\n",
       "      <th>sex_offenders</th>\n",
       "      <th>enviornmental_hazards</th>\n",
       "      <th>natural_disasters</th>\n",
       "      <th>bedrooms</th>\n",
       "      <th>bathrooms</th>\n",
       "      <th>sale_price</th>\n",
       "    </tr>\n",
       "  </thead>\n",
       "  <tbody>\n",
       "    <tr>\n",
       "      <th>count</th>\n",
       "      <td>5011.00000</td>\n",
       "      <td>5011.00000</td>\n",
       "      <td>4728.00000</td>\n",
       "      <td>4933.00000</td>\n",
       "      <td>4773.00000</td>\n",
       "      <td>5011.00000</td>\n",
       "      <td>5011.00000</td>\n",
       "      <td>5011.00000</td>\n",
       "      <td>5011.00000</td>\n",
       "      <td>4622.00000</td>\n",
       "      <td>5011.00000</td>\n",
       "      <td>5011.00000</td>\n",
       "      <td>5011.00000</td>\n",
       "      <td>4575.00000</td>\n",
       "      <td>4575.00000</td>\n",
       "      <td>4902.00000</td>\n",
       "    </tr>\n",
       "    <tr>\n",
       "      <th>mean</th>\n",
       "      <td>34.12034</td>\n",
       "      <td>-118.27438</td>\n",
       "      <td>42214.17153</td>\n",
       "      <td>3218648.97223</td>\n",
       "      <td>1963.65326</td>\n",
       "      <td>4930642360.99302</td>\n",
       "      <td>1114278344.59629</td>\n",
       "      <td>1.96188</td>\n",
       "      <td>437413.30273</td>\n",
       "      <td>908449.56729</td>\n",
       "      <td>8.46358</td>\n",
       "      <td>7.61285</td>\n",
       "      <td>1.19677</td>\n",
       "      <td>3.55825</td>\n",
       "      <td>2.78842</td>\n",
       "      <td>1130997.83721</td>\n",
       "    </tr>\n",
       "    <tr>\n",
       "      <th>std</th>\n",
       "      <td>0.22390</td>\n",
       "      <td>0.20930</td>\n",
       "      <td>567010.94374</td>\n",
       "      <td>11125001.66065</td>\n",
       "      <td>26.65488</td>\n",
       "      <td>2090258605.64994</td>\n",
       "      <td>47419.56972</td>\n",
       "      <td>1.06923</td>\n",
       "      <td>263877.32929</td>\n",
       "      <td>553740.79956</td>\n",
       "      <td>15.03774</td>\n",
       "      <td>7.45112</td>\n",
       "      <td>0.42478</td>\n",
       "      <td>3.34590</td>\n",
       "      <td>2.98938</td>\n",
       "      <td>4524259.85301</td>\n",
       "    </tr>\n",
       "    <tr>\n",
       "      <th>min</th>\n",
       "      <td>33.71913</td>\n",
       "      <td>-118.89380</td>\n",
       "      <td>280.00000</td>\n",
       "      <td>656.00000</td>\n",
       "      <td>1887.00000</td>\n",
       "      <td>93959140.00000</td>\n",
       "      <td>1114172203.00000</td>\n",
       "      <td>1.00000</td>\n",
       "      <td>0.00000</td>\n",
       "      <td>181000.00000</td>\n",
       "      <td>0.00000</td>\n",
       "      <td>1.00000</td>\n",
       "      <td>0.00000</td>\n",
       "      <td>1.00000</td>\n",
       "      <td>1.00000</td>\n",
       "      <td>500.00000</td>\n",
       "    </tr>\n",
       "    <tr>\n",
       "      <th>25%</th>\n",
       "      <td>33.98406</td>\n",
       "      <td>-118.42607</td>\n",
       "      <td>1151.00000</td>\n",
       "      <td>5998.00000</td>\n",
       "      <td>1948.00000</td>\n",
       "      <td>3001055065.00000</td>\n",
       "      <td>1114229431.50000</td>\n",
       "      <td>1.00000</td>\n",
       "      <td>199400.00000</td>\n",
       "      <td>538800.00000</td>\n",
       "      <td>1.00000</td>\n",
       "      <td>3.00000</td>\n",
       "      <td>1.00000</td>\n",
       "      <td>2.00000</td>\n",
       "      <td>2.00000</td>\n",
       "      <td>230000.00000</td>\n",
       "    </tr>\n",
       "    <tr>\n",
       "      <th>50%</th>\n",
       "      <td>34.08975</td>\n",
       "      <td>-118.29192</td>\n",
       "      <td>1588.50000</td>\n",
       "      <td>7826.00000</td>\n",
       "      <td>1962.00000</td>\n",
       "      <td>5067018001.00000</td>\n",
       "      <td>1114306304.00000</td>\n",
       "      <td>2.00000</td>\n",
       "      <td>406500.00000</td>\n",
       "      <td>740000.00000</td>\n",
       "      <td>4.00000</td>\n",
       "      <td>5.00000</td>\n",
       "      <td>1.00000</td>\n",
       "      <td>3.00000</td>\n",
       "      <td>2.00000</td>\n",
       "      <td>469750.00000</td>\n",
       "    </tr>\n",
       "    <tr>\n",
       "      <th>75%</th>\n",
       "      <td>34.19438</td>\n",
       "      <td>-118.14089</td>\n",
       "      <td>2260.75000</td>\n",
       "      <td>21144.00000</td>\n",
       "      <td>1985.00000</td>\n",
       "      <td>6353011035.00000</td>\n",
       "      <td>1114320206.50000</td>\n",
       "      <td>3.00000</td>\n",
       "      <td>602200.00000</td>\n",
       "      <td>1088000.00000</td>\n",
       "      <td>9.50000</td>\n",
       "      <td>9.00000</td>\n",
       "      <td>1.00000</td>\n",
       "      <td>4.00000</td>\n",
       "      <td>3.00000</td>\n",
       "      <td>801125.00000</td>\n",
       "    </tr>\n",
       "    <tr>\n",
       "      <th>max</th>\n",
       "      <td>34.78765</td>\n",
       "      <td>-117.65513</td>\n",
       "      <td>14505480.00000</td>\n",
       "      <td>176722920.00000</td>\n",
       "      <td>2020.00000</td>\n",
       "      <td>8765009080.00000</td>\n",
       "      <td>1114349489.00000</td>\n",
       "      <td>7.00000</td>\n",
       "      <td>930301.00000</td>\n",
       "      <td>2950000.00000</td>\n",
       "      <td>136.00000</td>\n",
       "      <td>79.00000</td>\n",
       "      <td>3.00000</td>\n",
       "      <td>56.00000</td>\n",
       "      <td>52.00000</td>\n",
       "      <td>110000000.00000</td>\n",
       "    </tr>\n",
       "  </tbody>\n",
       "</table>\n",
       "</div>"
      ],
      "text/plain": [
       "        latitude  longitude      home_size        lot_size  year_built  \\\n",
       "count 5011.00000 5011.00000     4728.00000      4933.00000  4773.00000   \n",
       "mean    34.12034 -118.27438    42214.17153   3218648.97223  1963.65326   \n",
       "std      0.22390    0.20930   567010.94374  11125001.66065    26.65488   \n",
       "min     33.71913 -118.89380      280.00000       656.00000  1887.00000   \n",
       "25%     33.98406 -118.42607     1151.00000      5998.00000  1948.00000   \n",
       "50%     34.08975 -118.29192     1588.50000      7826.00000  1962.00000   \n",
       "75%     34.19438 -118.14089     2260.75000     21144.00000  1985.00000   \n",
       "max     34.78765 -117.65513 14505480.00000 176722920.00000  2020.00000   \n",
       "\n",
       "         parcel_number         realtyID     census        tract  \\\n",
       "count       5011.00000       5011.00000 5011.00000   5011.00000   \n",
       "mean  4930642360.99302 1114278344.59629    1.96188 437413.30273   \n",
       "std   2090258605.64994      47419.56972    1.06923 263877.32929   \n",
       "min     93959140.00000 1114172203.00000    1.00000      0.00000   \n",
       "25%   3001055065.00000 1114229431.50000    1.00000 199400.00000   \n",
       "50%   5067018001.00000 1114306304.00000    2.00000 406500.00000   \n",
       "75%   6353011035.00000 1114320206.50000    3.00000 602200.00000   \n",
       "max   8765009080.00000 1114349489.00000    7.00000 930301.00000   \n",
       "\n",
       "       estimated_value  sex_offenders  enviornmental_hazards  \\\n",
       "count       4622.00000     5011.00000             5011.00000   \n",
       "mean      908449.56729        8.46358                7.61285   \n",
       "std       553740.79956       15.03774                7.45112   \n",
       "min       181000.00000        0.00000                1.00000   \n",
       "25%       538800.00000        1.00000                3.00000   \n",
       "50%       740000.00000        4.00000                5.00000   \n",
       "75%      1088000.00000        9.50000                9.00000   \n",
       "max      2950000.00000      136.00000               79.00000   \n",
       "\n",
       "       natural_disasters   bedrooms  bathrooms      sale_price  \n",
       "count         5011.00000 4575.00000 4575.00000      4902.00000  \n",
       "mean             1.19677    3.55825    2.78842   1130997.83721  \n",
       "std              0.42478    3.34590    2.98938   4524259.85301  \n",
       "min              0.00000    1.00000    1.00000       500.00000  \n",
       "25%              1.00000    2.00000    2.00000    230000.00000  \n",
       "50%              1.00000    3.00000    2.00000    469750.00000  \n",
       "75%              1.00000    4.00000    3.00000    801125.00000  \n",
       "max              3.00000   56.00000   52.00000 110000000.00000  "
      ]
     },
     "execution_count": 45,
     "metadata": {},
     "output_type": "execute_result"
    }
   ],
   "source": [
    "df = raw_data.copy()\n",
    "df.describe()"
   ]
  },
  {
   "cell_type": "code",
   "execution_count": 7,
   "metadata": {},
   "outputs": [],
   "source": [
    "#Alternatively\n",
    "#profile = ProfileReport(df, title='Pandas Profiling Report', explorative=True)\n",
    "#profile.to_file(\"RealEstateAVM_ProfileReport.html\")"
   ]
  },
  {
   "cell_type": "code",
   "execution_count": 22,
   "metadata": {
    "scrolled": true
   },
   "outputs": [
    {
     "data": {
      "image/png": "[encoded data removed]",
      "text/plain": [
       "<Figure size 432x288 with 1 Axes>"
      ]
     },
     "metadata": {
      "needs_background": "light"
     },
     "output_type": "display_data"
    }
   ],
   "source": [
    "#Below you will see the change in price when adjusting for inflation\n",
    "fig = plt.figure\n",
    "real_avg = power_df.groupby('year')['sale_price'].mean().plot(label='Original Sale Price')\n",
    "adj_avg = power_df.groupby('year')['sale_price_cpi'].mean().plot(label='Sale Price Adjusted for Inflation')\n",
    "plt.legend()\n",
    "plt.savefig('Images/sale_price_adjusted.png')"
   ]
  },
  {
   "cell_type": "code",
   "execution_count": 23,
   "metadata": {
    "scrolled": true
   },
   "outputs": [
    {
     "data": {
      "text/html": [
       "<div>\n",
       "<style scoped>\n",
       "    .dataframe tbody tr th:only-of-type {\n",
       "        vertical-align: middle;\n",
       "    }\n",
       "\n",
       "    .dataframe tbody tr th {\n",
       "        vertical-align: top;\n",
       "    }\n",
       "\n",
       "    .dataframe thead th {\n",
       "        text-align: right;\n",
       "    }\n",
       "</style>\n",
       "<table border=\"1\" class=\"dataframe\">\n",
       "  <thead>\n",
       "    <tr style=\"text-align: right;\">\n",
       "      <th></th>\n",
       "      <th>year_built</th>\n",
       "      <th>age</th>\n",
       "    </tr>\n",
       "  </thead>\n",
       "  <tbody>\n",
       "    <tr>\n",
       "      <th>0</th>\n",
       "      <td>1955.00000</td>\n",
       "      <td>66.00000</td>\n",
       "    </tr>\n",
       "    <tr>\n",
       "      <th>1</th>\n",
       "      <td>1990.00000</td>\n",
       "      <td>31.00000</td>\n",
       "    </tr>\n",
       "    <tr>\n",
       "      <th>3</th>\n",
       "      <td>1990.00000</td>\n",
       "      <td>31.00000</td>\n",
       "    </tr>\n",
       "    <tr>\n",
       "      <th>4</th>\n",
       "      <td>1958.00000</td>\n",
       "      <td>63.00000</td>\n",
       "    </tr>\n",
       "    <tr>\n",
       "      <th>5</th>\n",
       "      <td>1968.00000</td>\n",
       "      <td>53.00000</td>\n",
       "    </tr>\n",
       "  </tbody>\n",
       "</table>\n",
       "</div>"
      ],
      "text/plain": [
       "   year_built      age\n",
       "0  1955.00000 66.00000\n",
       "1  1990.00000 31.00000\n",
       "3  1990.00000 31.00000\n",
       "4  1958.00000 63.00000\n",
       "5  1968.00000 53.00000"
      ]
     },
     "execution_count": 23,
     "metadata": {},
     "output_type": "execute_result"
    }
   ],
   "source": [
    "#Determine the age of the property \n",
    "power_df['age'] = power_df['date'].dt.year - power_df['year_built']\n",
    "power_df[['year_built','age']].head()"
   ]
  },
  {
   "cell_type": "code",
   "execution_count": 24,
   "metadata": {
    "scrolled": true
   },
   "outputs": [
    {
     "name": "stdout",
     "output_type": "stream",
     "text": [
      "Number of categories for property_type: 10\n"
     ]
    },
    {
     "data": {
      "text/html": [
       "<div>\n",
       "<style scoped>\n",
       "    .dataframe tbody tr th:only-of-type {\n",
       "        vertical-align: middle;\n",
       "    }\n",
       "\n",
       "    .dataframe tbody tr th {\n",
       "        vertical-align: top;\n",
       "    }\n",
       "\n",
       "    .dataframe thead th {\n",
       "        text-align: right;\n",
       "    }\n",
       "</style>\n",
       "<table border=\"1\" class=\"dataframe\">\n",
       "  <thead>\n",
       "    <tr style=\"text-align: right;\">\n",
       "      <th></th>\n",
       "      <th>Average sale price</th>\n",
       "      <th>Count</th>\n",
       "      <th>Frequency</th>\n",
       "    </tr>\n",
       "  </thead>\n",
       "  <tbody>\n",
       "    <tr>\n",
       "      <th>Single Family Residence</th>\n",
       "      <td>$525,852.94</td>\n",
       "      <td>1974</td>\n",
       "      <td>60.52%</td>\n",
       "    </tr>\n",
       "    <tr>\n",
       "      <th>Condominium</th>\n",
       "      <td>$442,272.17</td>\n",
       "      <td>890</td>\n",
       "      <td>27.28%</td>\n",
       "    </tr>\n",
       "    <tr>\n",
       "      <th>Duplex (2 units, any combination)</th>\n",
       "      <td>$488,839.25</td>\n",
       "      <td>196</td>\n",
       "      <td>6.01%</td>\n",
       "    </tr>\n",
       "    <tr>\n",
       "      <th>Planned Unit Development (PUD)</th>\n",
       "      <td>$562,946.88</td>\n",
       "      <td>78</td>\n",
       "      <td>2.39%</td>\n",
       "    </tr>\n",
       "    <tr>\n",
       "      <th>Apartment house (5+ units)</th>\n",
       "      <td>$747,508.22</td>\n",
       "      <td>43</td>\n",
       "      <td>1.32%</td>\n",
       "    </tr>\n",
       "    <tr>\n",
       "      <th>Quadplex (4 Units, Any Combination)</th>\n",
       "      <td>$594,118.92</td>\n",
       "      <td>37</td>\n",
       "      <td>1.13%</td>\n",
       "    </tr>\n",
       "    <tr>\n",
       "      <th>Triplex (3 units, any combination)</th>\n",
       "      <td>$532,502.70</td>\n",
       "      <td>33</td>\n",
       "      <td>1.01%</td>\n",
       "    </tr>\n",
       "    <tr>\n",
       "      <th>Hotel/Motel</th>\n",
       "      <td>$965,826.97</td>\n",
       "      <td>5</td>\n",
       "      <td>0.15%</td>\n",
       "    </tr>\n",
       "    <tr>\n",
       "      <th>Residential - Vacant Land</th>\n",
       "      <td>$964,566.66</td>\n",
       "      <td>4</td>\n",
       "      <td>0.12%</td>\n",
       "    </tr>\n",
       "    <tr>\n",
       "      <th>MISCELLANEOUS   (Commercial)</th>\n",
       "      <td>$420,278.80</td>\n",
       "      <td>2</td>\n",
       "      <td>0.06%</td>\n",
       "    </tr>\n",
       "  </tbody>\n",
       "</table>\n",
       "</div>"
      ],
      "text/plain": [
       "                                    Average sale price  Count Frequency\n",
       "Single Family Residence                    $525,852.94   1974    60.52%\n",
       "Condominium                                $442,272.17    890    27.28%\n",
       "Duplex (2 units, any combination)          $488,839.25    196     6.01%\n",
       "Planned Unit Development (PUD)             $562,946.88     78     2.39%\n",
       "Apartment house (5+ units)                 $747,508.22     43     1.32%\n",
       "Quadplex (4 Units, Any Combination)        $594,118.92     37     1.13%\n",
       "Triplex (3 units, any combination)         $532,502.70     33     1.01%\n",
       "Hotel/Motel                                $965,826.97      5     0.15%\n",
       "Residential - Vacant Land                  $964,566.66      4     0.12%\n",
       "MISCELLANEOUS   (Commercial)               $420,278.80      2     0.06%"
      ]
     },
     "execution_count": 24,
     "metadata": {},
     "output_type": "execute_result"
    }
   ],
   "source": [
    "#Examine the property type feature\n",
    "temp = pd.concat([power_df.groupby('property_type')['sale_price_cpi'].mean(), power_df.groupby('property_type')['sale_price_cpi'].count(), power_df['property_type'].value_counts(normalize=True)], axis=1)\n",
    "temp.columns = ['Average sale price','Count', 'Frequency']\n",
    "temp['Average sale price'] = temp['Average sale price']**2\n",
    "temp.sort_values(by=['Count'], axis=0,ascending=False, inplace=True)\n",
    "temp.dropna(inplace=True)\n",
    "temp['Count'] = temp['Count'].astype(int)\n",
    "temp['Average sale price'] = temp['Average sale price'].apply(lambda x: '${:,.2f}'.format(x))\n",
    "temp['Frequency'] = temp['Frequency'].apply(lambda x: \"{0:.2f}%\".format(x*100))\n",
    "print(f'Number of categories for property_type: {power_df.property_type.nunique()}')\n",
    "temp"
   ]
  },
  {
   "cell_type": "code",
   "execution_count": 1,
   "metadata": {},
   "outputs": [
    {
     "data": {
      "text/plain": [
       "'$25.00'"
      ]
     },
     "execution_count": 1,
     "metadata": {},
     "output_type": "execute_result"
    }
   ],
   "source": [
    "prop_func = lambda x: '${:,.2f}'.format(x)\n",
    "prop_func(25)"
   ]
  },
  {
   "cell_type": "code",
   "execution_count": 25,
   "metadata": {
    "scrolled": false
   },
   "outputs": [
    {
     "name": "stdout",
     "output_type": "stream",
     "text": [
      "3262 total number of houses\n",
      "1288 number of houses removed\n",
      "1974 number of Single Family Residences remain\n"
     ]
    }
   ],
   "source": [
    "#Remove every property type except Single Family Residence \n",
    "num_1 = power_df.shape[0]\n",
    "print(f'{num_1} total number of houses')\n",
    "removed_df = power_df.loc[power_df['property_type']!='Single Family Residence']\n",
    "num_2 = removed_df.shape[0]\n",
    "print(f'{num_2} number of houses removed')\n",
    "power_df = power_df.loc[power_df['property_type']=='Single Family Residence']\n",
    "print(f'{power_df.shape[0]} number of Single Family Residences remain')"
   ]
  },
  {
   "cell_type": "code",
   "execution_count": 26,
   "metadata": {},
   "outputs": [
    {
     "name": "stdout",
     "output_type": "stream",
     "text": [
      "Lot size upper boundary is 15708.0\n",
      "Number of observations before removing outliers: 1974\n",
      "Number of observations after removing outliers: 1855\n",
      "Removed 119 observations\n"
     ]
    },
    {
     "data": {
      "image/png": "[encoded data removed]",
      "text/plain": [
       "<Figure size 720x360 with 2 Axes>"
      ]
     },
     "metadata": {
      "needs_background": "light"
     },
     "output_type": "display_data"
    }
   ],
   "source": [
    "#Remove outliers for lot size\n",
    "lot_size_upper_boundary, lot_size_lower_boundary = find_skewed_boundaries(power_df, 'lot_size', 3.0)\n",
    "print(f'Lot size upper boundary is {lot_size_upper_boundary}')\n",
    "\n",
    "#Remove outlier values\n",
    "trimmed_df = power_df.loc[power_df['lot_size']<lot_size_upper_boundary,:]\n",
    "print(f'Number of observations before removing outliers: {power_df.shape[0]}')\n",
    "print(f'Number of observations after removing outliers: {trimmed_df.shape[0]}')\n",
    "print(f'Removed {power_df.shape[0]-trimmed_df.shape[0]} observations')\n",
    "\n",
    "fig, ax = plt.subplots(1,2, figsize=(10,5))\n",
    "\n",
    "power_df['lot_size'].plot(kind='hist', ax=ax[0])\n",
    "ax[0].set_title('Lot Size distribution before removing outliers')\n",
    "\n",
    "trimmed_df['lot_size'].plot(kind='hist', ax=ax[1])\n",
    "ax[1].set_title('Lot Size distribution after removing outliers')\n",
    "plt.show()"
   ]
  },
  {
   "cell_type": "code",
   "execution_count": 27,
   "metadata": {},
   "outputs": [],
   "source": [
    "#Cap the outliers for sex offenders and enviornmental hazards features\n",
    "windsoriser = Winsorizer(distribution='skewed',\n",
    "                          tail='right', \n",
    "                          fold=1.5,\n",
    "                          variables=['sex_offenders','enviornmental_hazards'])\n",
    "\n",
    "windsoriser.fit(trimmed_df)\n",
    "\n",
    "trimmed_df = windsoriser.transform(trimmed_df)"
   ]
  },
  {
   "cell_type": "code",
   "execution_count": 28,
   "metadata": {},
   "outputs": [],
   "source": [
    "ohe_encoder = OneHotCategoricalEncoder(top_categories=7,\n",
    "                                       variables=['crime_index', 'school_quality'])\n",
    "\n",
    "ohe_encoder.fit(trimmed_df)\n",
    "\n",
    "temp = ohe_encoder.transform(trimmed_df)"
   ]
  },
  {
   "cell_type": "code",
   "execution_count": 29,
   "metadata": {
    "scrolled": false
   },
   "outputs": [
    {
     "data": {
      "image/png": "[encoded data removed]",
      "text/plain": [
       "<Figure size 864x648 with 2 Axes>"
      ]
     },
     "metadata": {
      "needs_background": "light"
     },
     "output_type": "display_data"
    }
   ],
   "source": [
    "corrmat = temp.corr()\n",
    "f, ax = plt.subplots(figsize=(12, 9))\n",
    "sns.heatmap(corrmat);"
   ]
  },
  {
   "cell_type": "code",
   "execution_count": 30,
   "metadata": {},
   "outputs": [
    {
     "data": {
      "text/html": [
       "<div>\n",
       "<style scoped>\n",
       "    .dataframe tbody tr th:only-of-type {\n",
       "        vertical-align: middle;\n",
       "    }\n",
       "\n",
       "    .dataframe tbody tr th {\n",
       "        vertical-align: top;\n",
       "    }\n",
       "\n",
       "    .dataframe thead th {\n",
       "        text-align: right;\n",
       "    }\n",
       "</style>\n",
       "<table border=\"1\" class=\"dataframe\">\n",
       "  <thead>\n",
       "    <tr style=\"text-align: right;\">\n",
       "      <th></th>\n",
       "      <th>feature1</th>\n",
       "      <th>feature2</th>\n",
       "      <th>corr</th>\n",
       "    </tr>\n",
       "  </thead>\n",
       "  <tbody>\n",
       "    <tr>\n",
       "      <th>0</th>\n",
       "      <td>cpi</td>\n",
       "      <td>year</td>\n",
       "      <td>0.99866</td>\n",
       "    </tr>\n",
       "    <tr>\n",
       "      <th>1</th>\n",
       "      <td>year</td>\n",
       "      <td>cpi</td>\n",
       "      <td>0.99866</td>\n",
       "    </tr>\n",
       "    <tr>\n",
       "      <th>2</th>\n",
       "      <td>sale_price_cpi</td>\n",
       "      <td>sale_price</td>\n",
       "      <td>0.94298</td>\n",
       "    </tr>\n",
       "    <tr>\n",
       "      <th>3</th>\n",
       "      <td>sale_price</td>\n",
       "      <td>sale_price_cpi</td>\n",
       "      <td>0.94298</td>\n",
       "    </tr>\n",
       "    <tr>\n",
       "      <th>4</th>\n",
       "      <td>age</td>\n",
       "      <td>year_built</td>\n",
       "      <td>0.90065</td>\n",
       "    </tr>\n",
       "    <tr>\n",
       "      <th>5</th>\n",
       "      <td>year_built</td>\n",
       "      <td>age</td>\n",
       "      <td>0.90065</td>\n",
       "    </tr>\n",
       "  </tbody>\n",
       "</table>\n",
       "</div>"
      ],
      "text/plain": [
       "         feature1        feature2    corr\n",
       "0             cpi            year 0.99866\n",
       "1            year             cpi 0.99866\n",
       "2  sale_price_cpi      sale_price 0.94298\n",
       "3      sale_price  sale_price_cpi 0.94298\n",
       "4             age      year_built 0.90065\n",
       "5      year_built             age 0.90065"
      ]
     },
     "execution_count": 30,
     "metadata": {},
     "output_type": "execute_result"
    }
   ],
   "source": [
    "#Identify groups of correlated features\n",
    "corrmat = trimmed_df.corr()\n",
    "corrmat = corrmat.abs().unstack()\n",
    "corrmat = corrmat.sort_values(ascending=False)\n",
    "corrmat = corrmat[corrmat >= 0.8]\n",
    "corrmat = corrmat[corrmat < 1]\n",
    "corrmat = pd.DataFrame(corrmat).reset_index()\n",
    "corrmat.columns = ['feature1', 'feature2', 'corr']\n",
    "corrmat"
   ]
  },
  {
   "cell_type": "code",
   "execution_count": 31,
   "metadata": {
    "scrolled": false
   },
   "outputs": [
    {
     "data": {
      "text/html": [
       "<div>\n",
       "<style scoped>\n",
       "    .dataframe tbody tr th:only-of-type {\n",
       "        vertical-align: middle;\n",
       "    }\n",
       "\n",
       "    .dataframe tbody tr th {\n",
       "        vertical-align: top;\n",
       "    }\n",
       "\n",
       "    .dataframe thead th {\n",
       "        text-align: right;\n",
       "    }\n",
       "</style>\n",
       "<table border=\"1\" class=\"dataframe\">\n",
       "  <thead>\n",
       "    <tr style=\"text-align: right;\">\n",
       "      <th></th>\n",
       "      <th>Avg Sale Price 'Power Scale'</th>\n",
       "      <th>Count of crime index type</th>\n",
       "      <th>Avg Sale Price 'Real Scale'</th>\n",
       "    </tr>\n",
       "    <tr>\n",
       "      <th>crime_index</th>\n",
       "      <th></th>\n",
       "      <th></th>\n",
       "      <th></th>\n",
       "    </tr>\n",
       "  </thead>\n",
       "  <tbody>\n",
       "    <tr>\n",
       "      <th>Very Low</th>\n",
       "      <td>$806.66</td>\n",
       "      <td>148</td>\n",
       "      <td>$650,695.10</td>\n",
       "    </tr>\n",
       "    <tr>\n",
       "      <th>Low</th>\n",
       "      <td>$779.88</td>\n",
       "      <td>480</td>\n",
       "      <td>$608,205.19</td>\n",
       "    </tr>\n",
       "    <tr>\n",
       "      <th>Slightly High</th>\n",
       "      <td>$742.34</td>\n",
       "      <td>500</td>\n",
       "      <td>$551,064.19</td>\n",
       "    </tr>\n",
       "    <tr>\n",
       "      <th>Moderate</th>\n",
       "      <td>$662.70</td>\n",
       "      <td>623</td>\n",
       "      <td>$439,176.09</td>\n",
       "    </tr>\n",
       "    <tr>\n",
       "      <th>Moderately High</th>\n",
       "      <td>$604.79</td>\n",
       "      <td>65</td>\n",
       "      <td>$365,772.71</td>\n",
       "    </tr>\n",
       "    <tr>\n",
       "      <th>High</th>\n",
       "      <td>$564.75</td>\n",
       "      <td>39</td>\n",
       "      <td>$318,937.38</td>\n",
       "    </tr>\n",
       "  </tbody>\n",
       "</table>\n",
       "</div>"
      ],
      "text/plain": [
       "                Avg Sale Price 'Power Scale'  Count of crime index type  \\\n",
       "crime_index                                                               \n",
       "Very Low                             $806.66                        148   \n",
       "Low                                  $779.88                        480   \n",
       "Slightly High                        $742.34                        500   \n",
       "Moderate                             $662.70                        623   \n",
       "Moderately High                      $604.79                         65   \n",
       "High                                 $564.75                         39   \n",
       "\n",
       "                Avg Sale Price 'Real Scale'  \n",
       "crime_index                                  \n",
       "Very Low                        $650,695.10  \n",
       "Low                             $608,205.19  \n",
       "Slightly High                   $551,064.19  \n",
       "Moderate                        $439,176.09  \n",
       "Moderately High                 $365,772.71  \n",
       "High                            $318,937.38  "
      ]
     },
     "execution_count": 31,
     "metadata": {},
     "output_type": "execute_result"
    }
   ],
   "source": [
    "#Let's examine crime index\n",
    "temp = pd.concat([trimmed_df.groupby('crime_index')['sale_price_cpi'].mean(), trimmed_df.groupby('crime_index')['sale_price_cpi'].count()], axis=1)\n",
    "temp.columns = ['Avg Sale Price \\'Power Scale\\'', 'Count of crime index type']\n",
    "temp['Avg Sale Price \\'Real Scale\\''] = (temp['Avg Sale Price \\'Power Scale\\''])**2\n",
    "temp.sort_values(by='Avg Sale Price \\'Power Scale\\'', ascending=False, inplace=True)\n",
    "temp['Avg Sale Price \\'Power Scale\\''] = temp['Avg Sale Price \\'Power Scale\\''].apply(lambda x: '${:,.2f}'.format(x))\n",
    "temp['Avg Sale Price \\'Real Scale\\''] = temp['Avg Sale Price \\'Real Scale\\''].apply(lambda x: '${:,.2f}'.format(x))\n",
    "temp"
   ]
  },
  {
   "cell_type": "code",
   "execution_count": 32,
   "metadata": {},
   "outputs": [
    {
     "data": {
      "image/png": "[encoded data removed]",
      "text/plain": [
       "<Figure size 864x288 with 1 Axes>"
      ]
     },
     "metadata": {
      "needs_background": "light"
     },
     "output_type": "display_data"
    }
   ],
   "source": [
    "#Box Plot of Crime Index\n",
    "order=['Slightly High', 'Moderate', 'Low', 'Very Low']\n",
    "temp = trimmed_df.loc[((trimmed_df['crime_index']!='High') & (trimmed_df['crime_index']!='Moderately High'))]\n",
    "plt.figure(figsize=(12,4))\n",
    "sns.violinplot(x='crime_index', y='sale_price_cpi', data=temp, order=order)\n",
    "plt.ticklabel_format(style='plain', axis='y')"
   ]
  },
  {
   "cell_type": "code",
   "execution_count": 33,
   "metadata": {},
   "outputs": [
    {
     "data": {
      "text/html": [
       "<div>\n",
       "<style scoped>\n",
       "    .dataframe tbody tr th:only-of-type {\n",
       "        vertical-align: middle;\n",
       "    }\n",
       "\n",
       "    .dataframe tbody tr th {\n",
       "        vertical-align: top;\n",
       "    }\n",
       "\n",
       "    .dataframe thead th {\n",
       "        text-align: right;\n",
       "    }\n",
       "</style>\n",
       "<table border=\"1\" class=\"dataframe\">\n",
       "  <thead>\n",
       "    <tr style=\"text-align: right;\">\n",
       "      <th></th>\n",
       "      <th>Average Sale Price Power Scale</th>\n",
       "      <th>Count of school_quality types</th>\n",
       "      <th>Average Sale Price Real Scale</th>\n",
       "    </tr>\n",
       "    <tr>\n",
       "      <th>school_quality</th>\n",
       "      <th></th>\n",
       "      <th></th>\n",
       "      <th></th>\n",
       "    </tr>\n",
       "  </thead>\n",
       "  <tbody>\n",
       "    <tr>\n",
       "      <th>Excellent</th>\n",
       "      <td>$820.25</td>\n",
       "      <td>381</td>\n",
       "      <td>$672,807.92</td>\n",
       "    </tr>\n",
       "    <tr>\n",
       "      <th>Above Average</th>\n",
       "      <td>$756.01</td>\n",
       "      <td>517</td>\n",
       "      <td>$571,548.47</td>\n",
       "    </tr>\n",
       "    <tr>\n",
       "      <th>Average</th>\n",
       "      <td>$682.41</td>\n",
       "      <td>673</td>\n",
       "      <td>$465,687.79</td>\n",
       "    </tr>\n",
       "    <tr>\n",
       "      <th>Poor</th>\n",
       "      <td>$621.34</td>\n",
       "      <td>284</td>\n",
       "      <td>$386,058.77</td>\n",
       "    </tr>\n",
       "  </tbody>\n",
       "</table>\n",
       "</div>"
      ],
      "text/plain": [
       "               Average Sale Price Power Scale  Count of school_quality types  \\\n",
       "school_quality                                                                 \n",
       "Excellent                             $820.25                            381   \n",
       "Above Average                         $756.01                            517   \n",
       "Average                               $682.41                            673   \n",
       "Poor                                  $621.34                            284   \n",
       "\n",
       "               Average Sale Price Real Scale  \n",
       "school_quality                                \n",
       "Excellent                        $672,807.92  \n",
       "Above Average                    $571,548.47  \n",
       "Average                          $465,687.79  \n",
       "Poor                             $386,058.77  "
      ]
     },
     "execution_count": 33,
     "metadata": {},
     "output_type": "execute_result"
    }
   ],
   "source": [
    "#Let's examine school quality\n",
    "temp = pd.concat([trimmed_df.groupby('school_quality')['sale_price_cpi'].mean(), trimmed_df.groupby('school_quality')['sale_price_cpi'].count()], axis=1)\n",
    "temp.columns = ['Average Sale Price Power Scale', 'Count of school_quality types']\n",
    "#temp['Average Sale Price Real Scale'] = temp['Average Sale Price Power Scale']\n",
    "temp['Average Sale Price Real Scale'] = temp['Average Sale Price Power Scale']**2\n",
    "temp.sort_values(by='Average Sale Price Power Scale', ascending=False, inplace=True)\n",
    "temp['Average Sale Price Power Scale'] = temp['Average Sale Price Power Scale'].apply(lambda x: '${:,.2f}'.format(x))\n",
    "temp['Average Sale Price Real Scale'] = temp['Average Sale Price Real Scale'].apply(lambda x: '${:,.2f}'.format(x))\n",
    "temp"
   ]
  },
  {
   "cell_type": "code",
   "execution_count": 34,
   "metadata": {},
   "outputs": [
    {
     "data": {
      "image/png": "[encoded data removed]",
      "text/plain": [
       "<Figure size 864x288 with 1 Axes>"
      ]
     },
     "metadata": {
      "needs_background": "light"
     },
     "output_type": "display_data"
    }
   ],
   "source": [
    "#Box Plot of School Quality\n",
    "order=['Excellent', 'Above Average', 'Average', 'Poor']\n",
    "temp = trimmed_df.copy()\n",
    "plt.figure(figsize=(12,4))\n",
    "sns.violinplot(x='school_quality', y='sale_price', data=temp, order=order)\n",
    "plt.ticklabel_format(style='plain', axis='y')"
   ]
  },
  {
   "cell_type": "code",
   "execution_count": 35,
   "metadata": {},
   "outputs": [
    {
     "name": "stdout",
     "output_type": "stream",
     "text": [
      "Number of observations before removing duplicate houses 1855\n",
      "Number of observations after removing duplicate houses 785\n"
     ]
    }
   ],
   "source": [
    "#Create a dataset with just unique houses\n",
    "drop_features = ['property_type', 'url', 'year', 'cpi', 'natural_disasters', 'zoning', 'geometry', 'date']\n",
    "houses = trimmed_df.sort_values(by='sold_date', ascending=False).reset_index(drop=True)\n",
    "print(f'Number of observations before removing duplicate houses {houses.shape[0]}')\n",
    "houses = houses.drop_duplicates(subset='parcel_number')\n",
    "houses.drop(drop_features, axis=1, inplace=True)\n",
    "houses.rename(columns={'sold_date': 'date'}, inplace=True)\n",
    "houses['sale_price'] = houses['sale_price']**2\n",
    "houses['parcel_number'] = houses['parcel_number'].astype('O')\n",
    "houses[['parcel_number', 'age', 'bedrooms', 'bathrooms', 'sex_offenders', 'enviornmental_hazards', 'year_built']] = houses[['parcel_number', 'age', 'bedrooms', 'bathrooms', 'sex_offenders', 'enviornmental_hazards', 'year_built']].astype(int)\n",
    "print(f'Number of observations after removing duplicate houses {houses.shape[0]}')\n",
    "houses.to_csv('Data/houses.csv', index=False)"
   ]
  },
  {
   "cell_type": "code",
   "execution_count": 94,
   "metadata": {
    "scrolled": true
   },
   "outputs": [],
   "source": [
    "#Lets remove the features that won't be needed for the model\n",
    "drop_features = ['address','year_built', 'parcel_number','date', 'sold_date', 'property_type', 'url', 'year', 'cpi', 'natural_disasters', 'zoning', 'geometry']\n",
    "final_df = trimmed_df.drop(drop_features, axis=1)\n",
    "final_df.to_csv('Data/house_data_details_eda.csv', index=False)"
   ]
  },
  {
   "cell_type": "markdown",
   "metadata": {},
   "source": [
    "### Create/Update a sql database for the application"
   ]
  },
  {
   "cell_type": "code",
   "execution_count": 150,
   "metadata": {},
   "outputs": [],
   "source": [
    "df_order = ['parcel_number', 'address', 'latitude', 'longitude', 'home_size', 'lot_size', 'year_built', 'age', 'sex_offenders', 'crime_index', 'enviornmental_hazards', 'school_quality', 'bedrooms', 'bathrooms', 'neighborhood', 'sale_price', 'sale_price_cpi', 'date']\n",
    "houses = houses[df_order]"
   ]
  },
  {
   "cell_type": "code",
   "execution_count": 74,
   "metadata": {},
   "outputs": [],
   "source": [
    "db = mysql.connector.connect(\n",
    "    \n",
    "    host = 'Samuels-MacBook-Air.local',\n",
    "    user = 'root',\n",
    "    passwd = details.db_password,\n",
    "    database = 'realestate_avm'\n",
    ")\n",
    "\n",
    "mycursor = db.cursor()"
   ]
  },
  {
   "cell_type": "code",
   "execution_count": 153,
   "metadata": {},
   "outputs": [],
   "source": [
    "#mycursor.execute('CREATE TABLE Homes (ParcelNumber VARCHAR(20) PRIMARY KEY, Address VARCHAR(50), Latitude DECIMAL(8,5), Longitude DECIMAL(8,5), HomeSize FLOAT UNSIGNED, LotSize FLOAT UNSIGNED, YearBuilt smallint UNSIGNED, Age smallint, SexOffenders tinyint UNSIGNED, CrimeIndex VARCHAR(15), EnviornmentalHazards tinyint UNSIGNED, SchoolQuality VARCHAR(15), Bedrooms tinyint UNSIGNED, Bathrooms tinyint UNSIGNED, Neighborhood VARCHAR(50), SalePrice FLOAT UNSIGNED, SalePriceTransformed FLOAT UNSIGNED, Date DATE)')\n",
    "\n",
    "for index, row in houses.iterrows():\n",
    "    mycursor.execute('INSERT INTO Homes(ParcelNumber, Address, Latitude, Longitude, HomeSize, LotSize, YearBuilt, Age, SexOffenders, CrimeIndex, EnviornmentalHazards, SchoolQuality, Bedrooms, Bathrooms, Neighborhood, SalePrice, SalePriceTransformed, Date) VALUES(%s,%s,%s,%s,%s,%s,%s,%s,%s,%s,%s,%s,%s,%s,%s,%s,%s, %s)', tuple(row))\n",
    "db.commit()\n",
    "\n",
    "mycursor.close()\n",
    "db.close()"
   ]
  }
 ],
 "metadata": {
  "kernelspec": {
   "display_name": "Python 3",
   "language": "python",
   "name": "python3"
  },
  "language_info": {
   "codemirror_mode": {
    "name": "ipython",
    "version": 3
   },
   "file_extension": ".py",
   "mimetype": "text/x-python",
   "name": "python",
   "nbconvert_exporter": "python",
   "pygments_lexer": "ipython3",
   "version": "3.7.6"
  }
 },
 "nbformat": 4,
 "nbformat_minor": 4
}
